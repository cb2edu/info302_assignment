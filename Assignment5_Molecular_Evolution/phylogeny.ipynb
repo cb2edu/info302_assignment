{
 "cells": [
  {
   "cell_type": "markdown",
   "metadata": {},
   "source": [
    "# Phylogenetic Tree"
   ]
  },
  {
   "cell_type": "markdown",
   "metadata": {},
   "source": [
    "# Creating a distance tree\n",
    "We will use ```phylip``` to create a distance tree from the p53 protein alignment that we created eariler using ```muscle```. We can use a script to convert an existing aligment into ```phylip``` format (I wrote such a script called ```fasta2phylip.pl```) or we can realign the sequences using ```muscle```, but this time we can directly output in ```phylip``` format. We will use the following program from the ```phylip``` package:\n",
    "\n",
    "1. ```protdist``` creates a distance matrix from an alignment\n",
    "2.\t```neighbor``` will create a neighbor-joining tree\n",
    "\n",
    "Remember, all programs in phylip will take an ```infile``` and will create an ```outfile```.\n"
   ]
  },
  {
   "cell_type": "markdown",
   "metadata": {},
   "source": [
    "## Creating the alignment \n",
    "Copy the fasta file containing the p53 sequences into current directory. ```muscle``` can output two different ```phylip``` formats. We will use \"interleaved\". Note, we could have output several formats from ```muscle``` simultaneously during alignment, like this:"
   ]
  },
  {
   "cell_type": "code",
   "execution_count": 1,
   "metadata": {},
   "outputs": [
    {
     "name": "stdout",
     "output_type": "stream",
     "text": [
      "\n",
      "MUSCLE v3.8.31 by Robert C. Edgar\n",
      "\n",
      "http://www.drive5.com/muscle\n",
      "This software is donated to the public domain.\n",
      "Please cite: Edgar, R.C. Nucleic Acids Res 32(5), 1792-97.\n",
      "\n",
      "p53_all 8 seqs, max length 393, avg  length 384\n",
      "00:00:00    14 MB(-6%)  Iter   1  100.00%  K-mer dist pass 1\n",
      "00:00:00    14 MB(-6%)  Iter   1  100.00%  K-mer dist pass 2\n",
      "00:00:00    18 MB(-8%)  Iter   1  100.00%  Align node       \n",
      "00:00:00    18 MB(-8%)  Iter   1  100.00%  Root alignment\n",
      "00:00:00    18 MB(-8%)  Iter   2  100.00%  Root alignment\n",
      "00:00:00    18 MB(-8%)  Iter   3  100.00%  Refine biparts\n",
      "00:00:00    18 MB(-8%)  Iter   4  100.00%  Refine biparts\n",
      "00:00:00    18 MB(-8%)  Iter   5  100.00%  Refine biparts\n",
      "00:00:00    18 MB(-8%)  Iter   6  100.00%  Refine biparts\n",
      "00:00:00    18 MB(-8%)  Iter   7  100.00%  Refine biparts\n",
      "00:00:00    18 MB(-8%)  Iter   7  100.00%  Refine biparts\n",
      "00:00:00    18 MB(-8%)  Iter   8  100.00%  Refine biparts\n",
      "00:00:00    18 MB(-8%)  Iter   9  100.00%  Refine biparts\n",
      "00:00:00    18 MB(-8%)  Iter  10  100.00%  Refine biparts\n",
      "00:00:00    18 MB(-8%)  Iter  11  100.00%  Refine biparts\n",
      "00:00:00    18 MB(-8%)  Iter  12  100.00%  Refine biparts\n",
      "00:00:00    18 MB(-8%)  Iter  13  100.00%  Refine biparts\n",
      "00:00:00    18 MB(-8%)  Iter  14  100.00%  Refine biparts\n",
      "00:00:00    18 MB(-8%)  Iter  15  100.00%  Refine biparts\n",
      "00:00:00    18 MB(-8%)  Iter  16  100.00%  Refine biparts\n"
     ]
    }
   ],
   "source": [
    "./muscle -in p53_all.fas -fastaout p53.afa -phyiout p53.phy"
   ]
  },
  {
   "cell_type": "markdown",
   "metadata": {},
   "source": [
    "## Get ```phylip```"
   ]
  },
  {
   "cell_type": "markdown",
   "metadata": {},
   "source": [
    "## Running ```protdist```"
   ]
  },
  {
   "cell_type": "code",
   "execution_count": 6,
   "metadata": {
    "engine": "bash",
    "eval": false
   },
   "outputs": [
    {
     "name": "stdout",
     "output_type": "stream",
     "text": [
      "--2021-10-19 14:42:44--  http://evolution.gs.washington.edu/phylip/download/phylip-3.697.tar.gz\n",
      "Resolving evolution.gs.washington.edu (evolution.gs.washington.edu)... 128.208.27.135\n",
      "Connecting to evolution.gs.washington.edu (evolution.gs.washington.edu)|128.208.27.135|:80... connected.\n",
      "HTTP request sent, awaiting response... 302 Found\n",
      "Location: https://evolution.gs.washington.edu/phylip/download/phylip-3.697.tar.gz [following]\n",
      "--2021-10-19 14:42:44--  https://evolution.gs.washington.edu/phylip/download/phylip-3.697.tar.gz\n",
      "Connecting to evolution.gs.washington.edu (evolution.gs.washington.edu)|128.208.27.135|:443... connected.\n",
      "HTTP request sent, awaiting response... 200 OK\n",
      "Length: 3958696 (3.8M) [application/x-gzip]\n",
      "Saving to: ‘phylip-3.697.tar.gz’\n",
      "\n",
      "100%[======================================>] 3,958,696   2.82MB/s   in 1.3s   \n",
      "\n",
      "2021-10-19 14:42:46 (2.82 MB/s) - ‘phylip-3.697.tar.gz’ saved [3958696/3958696]\n",
      "\n",
      "phylip-3.697/\n",
      "phylip-3.697/doc/\n",
      "phylip-3.697/doc/clique.html\n",
      "phylip-3.697/doc/consense.html\n",
      "phylip-3.697/doc/contchar.html\n",
      "phylip-3.697/doc/contml.html\n",
      "phylip-3.697/doc/contrast.html\n",
      "phylip-3.697/doc/discrete.html\n",
      "phylip-3.697/doc/distance.html\n",
      "phylip-3.697/doc/dnacomp.html\n",
      "phylip-3.697/doc/dnadist.html\n",
      "phylip-3.697/doc/dnainvar.html\n",
      "phylip-3.697/doc/dnaml.html\n",
      "phylip-3.697/doc/dnamlk.html\n",
      "phylip-3.697/doc/dnamove.html\n",
      "phylip-3.697/doc/dnapars.html\n",
      "phylip-3.697/doc/dnapenny.html\n",
      "phylip-3.697/doc/penny.html\n",
      "phylip-3.697/doc/dollop.html\n",
      "phylip-3.697/doc/dolmove.html\n",
      "phylip-3.697/doc/dolpenny.html\n",
      "phylip-3.697/doc/draw.html\n",
      "phylip-3.697/doc/drawgram.html\n",
      "phylip-3.697/doc/drawtree.html\n",
      "phylip-3.697/doc/factor.html\n",
      "phylip-3.697/doc/fitch.html\n",
      "phylip-3.697/doc/gendist.html\n",
      "phylip-3.697/doc/images/\n",
      "phylip-3.697/doc/images/DrawGramCat.png\n",
      "phylip-3.697/doc/images/DrawGramControls.png\n",
      "phylip-3.697/doc/images/DrawTreeCat.png\n",
      "phylip-3.697/doc/images/DrawTreeControls.png\n",
      "phylip-3.697/doc/images/InputTree.png\n",
      "phylip-3.697/doc/kitsch.html\n",
      "phylip-3.697/doc/main.html\n",
      "phylip-3.697/doc/mix.html\n",
      "phylip-3.697/doc/move.html\n",
      "phylip-3.697/doc/neighbor.html\n",
      "phylip-3.697/doc/pars.html\n",
      "phylip-3.697/doc/phylip.gif\n",
      "phylip-3.697/doc/proml.html\n",
      "phylip-3.697/doc/promlk.html\n",
      "phylip-3.697/doc/protdist.html\n",
      "phylip-3.697/doc/protpars.html\n",
      "phylip-3.697/doc/restdist.html\n",
      "phylip-3.697/doc/restml.html\n",
      "phylip-3.697/doc/retree.html\n",
      "phylip-3.697/doc/seqboot.html\n",
      "phylip-3.697/doc/sequence.html\n",
      "phylip-3.697/doc/treedist.html\n",
      "phylip-3.697/exe/\n",
      "phylip-3.697/phylip.html\n",
      "phylip-3.697/src/\n",
      "phylip-3.697/src/buildDmg.sh\n",
      "phylip-3.697/src/clique.c\n",
      "phylip-3.697/src/cons.c\n",
      "phylip-3.697/src/cons.h\n",
      "phylip-3.697/src/consense.c\n",
      "phylip-3.697/src/cont.c\n",
      "phylip-3.697/src/cont.h\n",
      "phylip-3.697/src/contml.c\n",
      "phylip-3.697/src/contrast.c\n",
      "phylip-3.697/src/COPYRIGHT\n",
      "phylip-3.697/src/disc.c\n",
      "phylip-3.697/src/disc.h\n",
      "phylip-3.697/src/discrete.c\n",
      "phylip-3.697/src/discrete.h\n",
      "phylip-3.697/src/dist.c\n",
      "phylip-3.697/src/dist.h\n",
      "phylip-3.697/src/dnacomp.c\n",
      "phylip-3.697/src/dnadist.c\n",
      "phylip-3.697/src/dnainvar.c\n",
      "phylip-3.697/src/dnaml.c\n",
      "phylip-3.697/src/dnamlk.c\n",
      "phylip-3.697/src/dnamove.c\n",
      "phylip-3.697/src/dnapars.c\n",
      "phylip-3.697/src/dnapenny.c\n",
      "phylip-3.697/src/dollo.c\n",
      "phylip-3.697/src/dollo.h\n",
      "phylip-3.697/src/dollop.c\n",
      "phylip-3.697/src/dolmove.c\n",
      "phylip-3.697/src/dolpenny.c\n",
      "phylip-3.697/src/draw.c\n",
      "phylip-3.697/src/draw.h\n",
      "phylip-3.697/src/draw2.c\n",
      "phylip-3.697/src/drawgram.c\n",
      "phylip-3.697/src/drawtree.c\n",
      "phylip-3.697/src/factor.c\n",
      "phylip-3.697/src/fitch.c\n",
      "phylip-3.697/src/font1\n",
      "phylip-3.697/src/font2\n",
      "phylip-3.697/src/font3\n",
      "phylip-3.697/src/font4\n",
      "phylip-3.697/src/font5\n",
      "phylip-3.697/src/font6\n",
      "phylip-3.697/src/gendist.c\n",
      "phylip-3.697/src/icons/\n",
      "phylip-3.697/src/icons/boot.ico\n",
      "phylip-3.697/src/icons/clique.ico\n",
      "phylip-3.697/src/icons/clique.rc\n",
      "phylip-3.697/src/icons/clique.rcb\n",
      "phylip-3.697/src/icons/consense.ico\n",
      "phylip-3.697/src/icons/consense.rc\n",
      "phylip-3.697/src/icons/consense.rcb\n",
      "phylip-3.697/src/icons/contml.ico\n",
      "phylip-3.697/src/icons/contml.rc\n",
      "phylip-3.697/src/icons/contml.rcb\n",
      "phylip-3.697/src/icons/contrast.ico\n",
      "phylip-3.697/src/icons/contrast.rc\n",
      "phylip-3.697/src/icons/contrast.rcb\n",
      "phylip-3.697/src/icons/disc.ico\n",
      "phylip-3.697/src/icons/dist.ico\n",
      "phylip-3.697/src/icons/dna.ico\n",
      "phylip-3.697/src/icons/dnacomp.rc\n",
      "phylip-3.697/src/icons/dnacomp.rcb\n",
      "phylip-3.697/src/icons/dnadist.rc\n",
      "phylip-3.697/src/icons/dnadist.rcb\n",
      "phylip-3.697/src/icons/dnainvar.rc\n",
      "phylip-3.697/src/icons/dnainvar.rcb\n",
      "phylip-3.697/src/icons/dnaml.rc\n",
      "phylip-3.697/src/icons/dnaml.rcb\n",
      "phylip-3.697/src/icons/dnamlk.rc\n",
      "phylip-3.697/src/icons/dnamlk.rcb\n",
      "phylip-3.697/src/icons/dnamove.rc\n",
      "phylip-3.697/src/icons/dnamove.rcb\n",
      "phylip-3.697/src/icons/dnapars.rc\n",
      "phylip-3.697/src/icons/dnapars.rcb\n",
      "phylip-3.697/src/icons/dnapenny.rc\n",
      "phylip-3.697/src/icons/dnapenny.rcb\n",
      "phylip-3.697/src/icons/dollo.ico\n",
      "phylip-3.697/src/icons/dollop.rc\n",
      "phylip-3.697/src/icons/dollop.rcb\n",
      "phylip-3.697/src/icons/dolmove.rc\n",
      "phylip-3.697/src/icons/dolmove.rcb\n",
      "phylip-3.697/src/icons/dolpenny.rc\n",
      "phylip-3.697/src/icons/dolpenny.rcb\n",
      "phylip-3.697/src/icons/drawgram.ico\n",
      "phylip-3.697/src/icons/drawgram.rc\n",
      "phylip-3.697/src/icons/drawgram.rcb\n",
      "phylip-3.697/src/icons/drawtree.ico\n",
      "phylip-3.697/src/icons/drawtree.rc\n",
      "phylip-3.697/src/icons/drawtree.rcb\n",
      "phylip-3.697/src/icons/factor.rc\n",
      "phylip-3.697/src/icons/factor.rcb\n",
      "phylip-3.697/src/icons/fitch.rc\n",
      "phylip-3.697/src/icons/fitch.rcb\n",
      "phylip-3.697/src/icons/gendist.ico\n",
      "phylip-3.697/src/icons/gendist.rc\n",
      "phylip-3.697/src/icons/gendist.rcb\n",
      "phylip-3.697/src/icons/kitsch.rc\n",
      "phylip-3.697/src/icons/kitsch.rcb\n",
      "phylip-3.697/src/icons/mix.rc\n",
      "phylip-3.697/src/icons/mix.rcb\n",
      "phylip-3.697/src/icons/move.rc\n",
      "phylip-3.697/src/icons/move.rcb\n",
      "phylip-3.697/src/icons/neighbor.rc\n",
      "phylip-3.697/src/icons/neighbor.rcb\n",
      "phylip-3.697/src/icons/pars.rc\n",
      "phylip-3.697/src/icons/pars.rcb\n",
      "phylip-3.697/src/icons/penny.rc\n",
      "phylip-3.697/src/icons/penny.rcb\n",
      "phylip-3.697/src/icons/proml.rc\n",
      "phylip-3.697/src/icons/proml.rcb\n",
      "phylip-3.697/src/icons/promlk.rc\n",
      "phylip-3.697/src/icons/promlk.rcb\n",
      "phylip-3.697/src/icons/protdist.rc\n",
      "phylip-3.697/src/icons/protdist.rcb\n",
      "phylip-3.697/src/icons/protein.ico\n",
      "phylip-3.697/src/icons/protpars.rc\n",
      "phylip-3.697/src/icons/protpars.rcb\n",
      "phylip-3.697/src/icons/restdist.rc\n",
      "phylip-3.697/src/icons/restdist.rcb\n",
      "phylip-3.697/src/icons/restml.rc\n",
      "phylip-3.697/src/icons/restml.rcb\n",
      "phylip-3.697/src/icons/restrict.ico\n",
      "phylip-3.697/src/icons/retree.ico\n",
      "phylip-3.697/src/icons/retree.rc\n",
      "phylip-3.697/src/icons/retree.rcb\n",
      "phylip-3.697/src/icons/seqboot.rc\n",
      "phylip-3.697/src/icons/seqboot.rcb\n",
      "phylip-3.697/src/icons/treedist.ico\n",
      "phylip-3.697/src/icons/treedist.rc\n",
      "phylip-3.697/src/icons/treedist.rcb\n",
      "phylip-3.697/src/infile2\n",
      "phylip-3.697/src/io.h\n",
      "phylip-3.697/src/javajars/\n",
      "phylip-3.697/src/javajars/DrawGram.jar\n",
      "phylip-3.697/src/javajars/DrawGramJava.bat\n",
      "phylip-3.697/src/javajars/DrawGramJava.exe\n",
      "phylip-3.697/src/javajars/DrawGramJava.unx\n",
      "phylip-3.697/src/javajars/DrawTree.jar\n",
      "phylip-3.697/src/javajars/DrawTreeJava.bat\n",
      "phylip-3.697/src/javajars/DrawTreeJava.exe\n",
      "phylip-3.697/src/javajars/DrawTreeJava.unx\n",
      "phylip-3.697/src/javajars/libdrawgram.so\n",
      "phylip-3.697/src/javasrc/\n",
      "phylip-3.697/src/javasrc/drawgram/\n",
      "phylip-3.697/src/javasrc/drawgram/DrawgramInterface.java\n",
      "phylip-3.697/src/javasrc/drawgram/DrawgramUserInterface.java\n",
      "phylip-3.697/src/javasrc/drawtree/\n",
      "phylip-3.697/src/javasrc/drawtree/DrawtreeInterface.java\n",
      "phylip-3.697/src/javasrc/drawtree/DrawtreeUserInterface.java\n",
      "phylip-3.697/src/javasrc/util/\n",
      "phylip-3.697/src/javasrc/util/DisplayProgress.java\n",
      "phylip-3.697/src/javasrc/util/DrawPreview.java\n",
      "phylip-3.697/src/javasrc/util/LabelData.java\n",
      "phylip-3.697/src/javasrc/util/PhylipFileDialog.java\n",
      "phylip-3.697/src/javasrc/util/PlotData.java\n",
      "phylip-3.697/src/javasrc/util/SectionData.java\n",
      "phylip-3.697/src/javasrc/util/TestFileNames.java\n",
      "phylip-3.697/src/kitsch.c\n",
      "phylip-3.697/src/linkmac\n",
      "phylip-3.697/src/mac/\n",
      "phylip-3.697/src/mac/boot.icns\n",
      "phylip-3.697/src/mac/clique.icns\n",
      "phylip-3.697/src/mac/command.in\n",
      "phylip-3.697/src/mac/consense.icns\n",
      "phylip-3.697/src/mac/contml.icns\n",
      "phylip-3.697/src/mac/contrast.icns\n",
      "phylip-3.697/src/mac/disc.icns\n",
      "phylip-3.697/src/mac/dist.icns\n",
      "phylip-3.697/src/mac/dna.icns\n",
      "phylip-3.697/src/mac/dnacomp.icns\n",
      "phylip-3.697/src/mac/dnadist.icns\n",
      "phylip-3.697/src/mac/dnainvar.icns\n",
      "phylip-3.697/src/mac/dnaml.icns\n"
     ]
    },
    {
     "name": "stdout",
     "output_type": "stream",
     "text": [
      "phylip-3.697/src/mac/dnamlk.icns\n",
      "phylip-3.697/src/mac/dnamove.icns\n",
      "phylip-3.697/src/mac/dnapars.icns\n",
      "phylip-3.697/src/mac/dnapenny.icns\n",
      "phylip-3.697/src/mac/dollo.icns\n",
      "phylip-3.697/src/mac/dollop.icns\n",
      "phylip-3.697/src/mac/dolmove.icns\n",
      "phylip-3.697/src/mac/dolpenny.icns\n",
      "phylip-3.697/src/mac/drawgram.icns\n",
      "phylip-3.697/src/mac/drawtree.icns\n",
      "phylip-3.697/src/mac/factor.icns\n",
      "phylip-3.697/src/mac/fitch.icns\n",
      "phylip-3.697/src/mac/gendist.icns\n",
      "phylip-3.697/src/mac/Info.plist.in\n",
      "phylip-3.697/src/mac/kitsch.icns\n",
      "phylip-3.697/src/mac/mix.icns\n",
      "phylip-3.697/src/mac/move.icns\n",
      "phylip-3.697/src/mac/neighbor.icns\n",
      "phylip-3.697/src/mac/pars.icns\n",
      "phylip-3.697/src/mac/penny.icns\n",
      "phylip-3.697/src/mac/proml.icns\n",
      "phylip-3.697/src/mac/promlk.icns\n",
      "phylip-3.697/src/mac/protdist.icns\n",
      "phylip-3.697/src/mac/protein.icns\n",
      "phylip-3.697/src/mac/protpars.icns\n",
      "phylip-3.697/src/mac/restdist.icns\n",
      "phylip-3.697/src/mac/restml.icns\n",
      "phylip-3.697/src/mac/restrict.icns\n",
      "phylip-3.697/src/mac/retree.icns\n",
      "phylip-3.697/src/mac/seqboot.icns\n",
      "phylip-3.697/src/mac/treedist.icns\n",
      "phylip-3.697/src/Makefile.cyg\n",
      "phylip-3.697/src/Makefile.osx\n",
      "phylip-3.697/src/Makefile.unx\n",
      "phylip-3.697/src/mix.c\n",
      "phylip-3.697/src/mlclock.c\n",
      "phylip-3.697/src/mlclock.h\n",
      "phylip-3.697/src/move.c\n",
      "phylip-3.697/src/moves.c\n",
      "phylip-3.697/src/moves.h\n",
      "phylip-3.697/src/neighbor.c\n",
      "phylip-3.697/src/pars.c\n",
      "phylip-3.697/src/penny.c\n",
      "phylip-3.697/src/phylip.c\n",
      "phylip-3.697/src/phylip.h\n",
      "phylip-3.697/src/phylip.html\n",
      "phylip-3.697/src/printree.c\n",
      "phylip-3.697/src/printree.h\n",
      "phylip-3.697/src/proml.c\n",
      "phylip-3.697/src/promlk.c\n",
      "phylip-3.697/src/protdist.c\n",
      "phylip-3.697/src/protpars.c\n",
      "phylip-3.697/src/restdist.c\n",
      "phylip-3.697/src/restml.c\n",
      "phylip-3.697/src/retree.c\n",
      "phylip-3.697/src/seq.c\n",
      "phylip-3.697/src/seq.h\n",
      "phylip-3.697/src/seqboot.c\n",
      "phylip-3.697/src/treedist.c\n",
      "phylip-3.697/src/wagner.c\n",
      "phylip-3.697/src/wagner.h\n"
     ]
    }
   ],
   "source": [
    "wget http://evolution.gs.washington.edu/phylip/download/phylip-3.697.tar.gz\n",
    "tar -xvzf phylip-3.697.tar.gz\n"
   ]
  },
  {
   "cell_type": "code",
   "execution_count": 11,
   "metadata": {},
   "outputs": [
    {
     "name": "stdout",
     "output_type": "stream",
     "text": [
      "/home/mmeghan/Desktop/info302_assignment/Assignment5_Molecular_Evolution\n",
      "/home/mmeghan/Desktop/info302_assignment/Assignment5_Molecular_Evolution\n",
      "figtree-1.4.4\t\t\touttree\n",
      "figtree-1.4.4.tar.gz\t\tp53.afa\n",
      "FigTree_v1.4.4.tgz\t\tp53_all.fas\n",
      "FigTree.v1.4.4.zip\t\tp53.fas\n",
      "infile\t\t\t\tp53.phy\n",
      "MolecularEvolution_notes.ipynb\tphylip-3.697\n",
      "mol_evol.pdf\t\t\tphylip-3.697.tar.gz\n",
      "muscle\t\t\t\tphylogeny.ipynb\n",
      "muscle3.8.31_i86linux64\t\tphylogeny.pdf\n",
      "muscle3.8.31_i86linux64.tar.gz\tphylogeny.Rmd\n",
      "njtree.tre\t\t\tscreenshots\n",
      "outfile\t\t\t\tstandard-RAxML\n",
      "/home/mmeghan/Desktop/info302_assignment/Assignment5_Molecular_Evolution/phylip-3.697/exe\n"
     ]
    }
   ],
   "source": [
    "pwd\n",
    "cd /home/mmeghan/Desktop/info302_assignment/Assignment5_Molecular_Evolution\n",
    "pwd\n",
    "ls\n",
    "cd phylip-3.697/exe\n",
    "pwd"
   ]
  },
  {
   "cell_type": "code",
   "execution_count": 12,
   "metadata": {},
   "outputs": [
    {
     "name": "stdout",
     "output_type": "stream",
     "text": [
      "make: Makefile.unx: No such file or directory\n",
      "make: *** No rule to make target `Makefile.unx'.  Stop.\n",
      "/home/mmeghan/Desktop/info302_assignment/Assignment5_Molecular_Evolution\n",
      "~/Desktop/info302_assignment/Assignment5_Molecular_Evolution/phylip-3.697/exe/protdist\n"
     ]
    }
   ],
   "source": [
    "make -f Makefile.unx install\n",
    "cd ../exe\n",
    "export PATH=$PATH:`pwd`\n",
    "cd ../..\n",
    "pwd\n",
    "which protdist"
   ]
  },
  {
   "cell_type": "code",
   "execution_count": 32,
   "metadata": {},
   "outputs": [
    {
     "name": "stdout",
     "output_type": "stream",
     "text": [
      "bootstrapout\t\t\tp53.afa\n",
      "figtree-1.4.4\t\t\tp53_all.fas\n",
      "figtree-1.4.4.tar.gz\t\tp53.fas\n",
      "FigTree_v1.4.4.tgz\t\tp53.phy\n",
      "FigTree.v1.4.4.zip\t\tphylip-3.697\n",
      "MolecularEvolution_notes.ipynb\tphylip-3.697.tar.gz\n",
      "mol_evol.pdf\t\t\tphylogeny.ipynb\n",
      "muscle\t\t\t\tphylogeny.pdf\n",
      "muscle3.8.31_i86linux64\t\tphylogeny.Rmd\n",
      "muscle3.8.31_i86linux64.tar.gz\tscreenshots\n",
      "njtree.tre\t\t\tstandard-RAxML\n"
     ]
    }
   ],
   "source": [
    "ls"
   ]
  },
  {
   "cell_type": "code",
   "execution_count": 33,
   "metadata": {
    "engine": "bash",
    "eval": false,
    "lines_to_next_cell": 0,
    "scrolled": true
   },
   "outputs": [
    {
     "name": "stdout",
     "output_type": "stream",
     "text": [
      "\u001b[2J\u001b[H\n",
      "\u001b[2J\u001b[H\n",
      "Protein distance algorithm, version 3.697\n",
      "\n",
      "Settings for this run:\n",
      "  P  Use JTT, PMB, PAM, Kimura, categories model?  Jones-Taylor-Thornton matrix\n",
      "  G  Gamma distribution of rates among positions?  No\n",
      "  C           One category of substitution rates?  Yes\n",
      "  W                    Use weights for positions?  No\n",
      "  M                   Analyze multiple data sets?  No\n",
      "  I                  Input sequences interleaved?  Yes\n",
      "  0                 Terminal type (IBM PC, ANSI)?  ANSI\n",
      "  1            Print out the data at start of run  No\n",
      "  2          Print indications of progress of run  Yes\n",
      "\n",
      "Are these settings correct? (type Y or the letter for one to change)\n",
      "\u001b[2J\u001b[H\n",
      "Protein distance algorithm, version 3.697\n",
      "\n",
      "Settings for this run:\n",
      "  P  Use JTT, PMB, PAM, Kimura, categories model?  Henikoff/Tillier PMB matrix\n",
      "  G  Gamma distribution of rates among positions?  No\n",
      "  C           One category of substitution rates?  Yes\n",
      "  W                    Use weights for positions?  No\n",
      "  M                   Analyze multiple data sets?  No\n",
      "  I                  Input sequences interleaved?  Yes\n",
      "  0                 Terminal type (IBM PC, ANSI)?  ANSI\n",
      "  1            Print out the data at start of run  No\n",
      "  2          Print indications of progress of run  Yes\n",
      "\n",
      "Are these settings correct? (type Y or the letter for one to change)\n",
      "\n",
      "Computing distances:\n",
      "  NP_112251.   \n",
      "  NP_776626.   .\n",
      "  NP_0010032   ..\n",
      "  NP_000537.   ...\n",
      "  XP_0011720   ....\n",
      "  NP_0010406   .....\n",
      "  NP_0012587   ......\n",
      "  NP_0010019   .......\n",
      "\n",
      "Output written to file \"outfile\"\n",
      "\n",
      "Done.\n",
      "\n"
     ]
    }
   ],
   "source": [
    "cp p53.phy infile\n",
    "protdist <<EOF\n",
    "p53.phy\n",
    "y\n",
    "EOF\n"
   ]
  },
  {
   "cell_type": "markdown",
   "metadata": {},
   "source": [
    "This will create the distance matrix in a file ```outfile```. We need to rename this file so that it can be read my `neighbor`."
   ]
  },
  {
   "cell_type": "code",
   "execution_count": 34,
   "metadata": {},
   "outputs": [
    {
     "name": "stdout",
     "output_type": "stream",
     "text": [
      "bootstrapout\t\t\tp53.afa\n",
      "figtree-1.4.4\t\t\tp53_all.fas\n",
      "figtree-1.4.4.tar.gz\t\tp53.fas\n",
      "FigTree_v1.4.4.tgz\t\tp53.phy\n",
      "FigTree.v1.4.4.zip\t\tphylip-3.697\n",
      "infile\t\t\t\tphylip-3.697.tar.gz\n",
      "MolecularEvolution_notes.ipynb\tphylogeny.ipynb\n",
      "mol_evol.pdf\t\t\tphylogeny.pdf\n",
      "muscle\t\t\t\tphylogeny.Rmd\n",
      "muscle3.8.31_i86linux64\t\tscreenshots\n",
      "muscle3.8.31_i86linux64.tar.gz\tstandard-RAxML\n",
      "njtree.tre\n"
     ]
    }
   ],
   "source": [
    "rm infile\n",
    "mv outfile infile\n",
    "ls"
   ]
  },
  {
   "cell_type": "markdown",
   "metadata": {},
   "source": [
    "\n",
    "\n",
    "## Running ```neighbor```"
   ]
  },
  {
   "cell_type": "code",
   "execution_count": 30,
   "metadata": {},
   "outputs": [
    {
     "name": "stdout",
     "output_type": "stream",
     "text": [
      "bootstrapout\t\t\tp53.afa\n",
      "figtree-1.4.4\t\t\tp53_all.fas\n",
      "figtree-1.4.4.tar.gz\t\tp53.fas\n",
      "FigTree_v1.4.4.tgz\t\tp53.phy\n",
      "FigTree.v1.4.4.zip\t\tphylip-3.697\n",
      "infile\t\t\t\tphylip-3.697.tar.gz\n",
      "MolecularEvolution_notes.ipynb\tphylogeny.ipynb\n",
      "mol_evol.pdf\t\t\tphylogeny.pdf\n",
      "muscle\t\t\t\tphylogeny.Rmd\n",
      "muscle3.8.31_i86linux64\t\tscreenshots\n",
      "muscle3.8.31_i86linux64.tar.gz\tstandard-RAxML\n",
      "njtree.tre\n"
     ]
    }
   ],
   "source": [
    "mv outfile infile\n",
    "ls"
   ]
  },
  {
   "cell_type": "code",
   "execution_count": 35,
   "metadata": {
    "engine": "bash",
    "eval": false,
    "lines_to_next_cell": 0
   },
   "outputs": [
    {
     "name": "stdout",
     "output_type": "stream",
     "text": [
      "\u001b[2J\u001b[H\n",
      "\u001b[2J\u001b[H\n",
      "Neighbor-Joining/UPGMA method version 3.697\n",
      "\n",
      "Settings for this run:\n",
      "  N       Neighbor-joining or UPGMA tree?  Neighbor-joining\n",
      "  O                        Outgroup root?  No, use as outgroup species  1\n",
      "  L         Lower-triangular data matrix?  No\n",
      "  R         Upper-triangular data matrix?  No\n",
      "  S                        Subreplicates?  No\n",
      "  J     Randomize input order of species?  No. Use input order\n",
      "  M           Analyze multiple data sets?  No\n",
      "  0   Terminal type (IBM PC, ANSI, none)?  ANSI\n",
      "  1    Print out the data at start of run  No\n",
      "  2  Print indications of progress of run  Yes\n",
      "  3                        Print out tree  Yes\n",
      "  4       Write out trees onto tree file?  Yes\n",
      "\n",
      "\n",
      "  Y to accept these or type the letter for one to change\n",
      "\n",
      "Cycle   5: species 7 (   0.29151) joins species 8 (   0.28297)\n",
      "Cycle   4: species 4 (   0.00001) joins species 5 (   0.00000)\n",
      "Cycle   3: node 4 (   0.02111) joins species 6 (   0.02267)\n",
      "Cycle   2: species 1 (   0.13681) joins node 7 (   0.22066)\n",
      "Cycle   1: species 3 (   0.09694) joins node 4 (   0.06129)\n",
      "last cycle:\n",
      " node 1  (   0.02842) joins species 2  (   0.11497) joins node 3  (   0.00966)\n",
      "\n",
      "Output written on file \"outfile\"\n",
      "\n",
      "Tree written on file \"outtree\"\n",
      "\n",
      "Done.\n",
      "\n"
     ]
    }
   ],
   "source": [
    "neighbor <<EOF\n",
    "y\n",
    "EOF"
   ]
  },
  {
   "cell_type": "markdown",
   "metadata": {},
   "source": [
    "The tree will be produced in a file called ```outtree```:"
   ]
  },
  {
   "cell_type": "code",
   "execution_count": 36,
   "metadata": {
    "engine": "bash",
    "eval": false
   },
   "outputs": [
    {
     "name": "stdout",
     "output_type": "stream",
     "text": [
      "((NP_0012587:0.29151,NP_0010019:0.28297):0.22066,(NP_776626.:0.11497,\n",
      "(NP_0010032:0.09694,((NP_000537.:0.00001,XP_0011720:0.00000):0.02111,\n",
      "NP_0010406:0.02267):0.06129):0.00966):0.02842,NP_112251.:0.13681);\n"
     ]
    }
   ],
   "source": [
    "cat outtree"
   ]
  },
  {
   "cell_type": "markdown",
   "metadata": {},
   "source": [
    "This is a newick format tree.\n",
    "\n",
    "## Viewing the tree\n",
    "To view the tree we can use ```FigTree```. You can download it from here:\n",
    "\n",
    "http://tree.bio.ed.ac.uk/software/figtree/\n",
    "\n",
    "Download and run the software as\n",
    "\n",
    "`java -jar figtree.jar`\n",
    "\n",
    "![Tree generated using ```neighbor```](figures/outtree.pdf)\n",
    "\n",
    "We can also use R package ape to view the file. "
   ]
  },
  {
   "cell_type": "markdown",
   "metadata": {},
   "source": [
    "## Bootstrapping\n",
    "\n",
    "To get the statistical measurement of tree, we can use \"bootstrapping\". We have to start with the raw ```phylip``` file."
   ]
  },
  {
   "cell_type": "code",
   "execution_count": 41,
   "metadata": {},
   "outputs": [
    {
     "name": "stdout",
     "output_type": "stream",
     "text": [
      "/home/mmeghan/Desktop/info302_assignment/Assignment5_Molecular_Evolution/phylip-3.697/exe\n",
      "/home/mmeghan/Desktop/info302_assignment/Assignment5_Molecular_Evolution\n"
     ]
    }
   ],
   "source": [
    "pwd\n",
    "export PATH=$PATH:`pwd`\n",
    "cd ../..\n",
    "pwd"
   ]
  },
  {
   "cell_type": "code",
   "execution_count": 44,
   "metadata": {
    "scrolled": true
   },
   "outputs": [
    {
     "name": "stdout",
     "output_type": "stream",
     "text": [
      "bootstrapout\t\t\touttree\n",
      "figtree-1.4.4\t\t\tp53.afa\n",
      "figtree-1.4.4.tar.gz\t\tp53_all.fas\n",
      "FigTree_v1.4.4.tgz\t\tp53.fas\n",
      "FigTree.v1.4.4.zip\t\tp53.phy\n",
      "infile\t\t\t\tphylip-3.697\n",
      "MolecularEvolution_notes.ipynb\tphylip-3.697.tar.gz\n",
      "mol_evol.pdf\t\t\tphylogeny.ipynb\n",
      "muscle\t\t\t\tphylogeny.pdf\n",
      "muscle3.8.31_i86linux64\t\tphylogeny.Rmd\n",
      "muscle3.8.31_i86linux64.tar.gz\tscreenshots\n",
      "njtree.tre\t\t\tstandard-RAxML\n"
     ]
    }
   ],
   "source": [
    "cp p53.phy infile\n",
    "rm infile\n",
    "cp outtree njtree.tre\n",
    "cp p53.phy infile\n",
    "rm outfile\n",
    "ls\n"
   ]
  },
  {
   "cell_type": "code",
   "execution_count": 45,
   "metadata": {
    "engine": "bash",
    "eval": false,
    "lines_to_next_cell": 0
   },
   "outputs": [
    {
     "name": "stdout",
     "output_type": "stream",
     "text": [
      "\u001b[2J\u001b[H\u001b[2J\u001b[H\n",
      "Bootstrapping algorithm, version 3.697\n",
      "\n",
      "Settings for this run:\n",
      "  D      Sequence, Morph, Rest., Gene Freqs?  Molecular sequences\n",
      "  J  Bootstrap, Jackknife, Permute, Rewrite?  Bootstrap\n",
      "  %    Regular or altered sampling fraction?  regular\n",
      "  B      Block size for block-bootstrapping?  1 (regular bootstrap)\n",
      "  R                     How many replicates?  100\n",
      "  W              Read weights of characters?  No\n",
      "  C                Read categories of sites?  No\n",
      "  S     Write out data sets or just weights?  Data sets\n",
      "  I             Input sequences interleaved?  Yes\n",
      "  0      Terminal type (IBM PC, ANSI, none)?  ANSI\n",
      "  1       Print out the data at start of run  No\n",
      "  2     Print indications of progress of run  Yes\n",
      "\n",
      "  Y to accept these or type the letter for one to change\n",
      "\n",
      "Random number seed (must be odd)?\n",
      "\n",
      "completed replicate number   10\n",
      "completed replicate number   20\n",
      "completed replicate number   30\n",
      "completed replicate number   40\n",
      "completed replicate number   50\n",
      "completed replicate number   60\n",
      "completed replicate number   70\n",
      "completed replicate number   80\n",
      "completed replicate number   90\n",
      "completed replicate number  100\n",
      "\n",
      "Output written to file \"outfile\"\n",
      "\n",
      "Done.\n",
      "\n"
     ]
    }
   ],
   "source": [
    "seqboot<<EOF\n",
    "y\n",
    "3\n",
    "EOF\n"
   ]
  },
  {
   "cell_type": "markdown",
   "metadata": {},
   "source": [
    "\n",
    "Bootstrapping algorithm, version 3.697\n",
    "\n",
    "Settings for this run:\n",
    "  D      Sequence, Morph, Rest., Gene Freqs?  Molecular sequences\n",
    "  J  Bootstrap, Jackknife, Permute, Rewrite?  Bootstrap\n",
    "  %    Regular or altered sampling fraction?  regular\n",
    "  B      Block size for block-bootstrapping?  1 (regular bootstrap)\n",
    "  R                     How many replicates?  100\n",
    "  W              Read weights of characters?  No\n",
    "  C                Read categories of sites?  No\n",
    "  S     Write out data sets or just weights?  Data sets\n",
    "  I             Input sequences interleaved?  Yes\n",
    "  0      Terminal type (IBM PC, ANSI, none)?  ANSI\n",
    "  1       Print out the data at start of run  No\n",
    "  2     Print indications of progress of run  Yes\n",
    "\n",
    "  Y to accept these or type the letter for one to change\n",
    "\n",
    "Random number seed (must be odd)?\n",
    "\n",
    "completed replicate number   10\n",
    "completed replicate number   20\n",
    "completed replicate number   30\n",
    "completed replicate number   40\n",
    "completed replicate number   50\n",
    "completed replicate number   60\n",
    "completed replicate number   70\n",
    "completed replicate number   80\n",
    "completed replicate number   90\n",
    "completed replicate number  100\n",
    "\n",
    "Output written to file \"outfile\"\n",
    "\n",
    "Done.\n"
   ]
  },
  {
   "cell_type": "markdown",
   "metadata": {},
   "source": [
    "Now follow the exact step described earlier. Don't forget to change the option **\"Multple data sets\"**. The treefile will now have 100 trees (if you have used 100 bootstrap datasets). "
   ]
  },
  {
   "cell_type": "code",
   "execution_count": null,
   "metadata": {},
   "outputs": [],
   "source": []
  },
  {
   "cell_type": "code",
   "execution_count": null,
   "metadata": {},
   "outputs": [],
   "source": [
    "protdist <<EOF\n",
    "M\n",
    "D\n",
    "100\n",
    "y\n",
    "EOF\n",
    "rm infile\n",
    "mv outfile infile"
   ]
  },
  {
   "cell_type": "markdown",
   "metadata": {},
   "source": [
    "## Run neighbor again"
   ]
  },
  {
   "cell_type": "code",
   "execution_count": null,
   "metadata": {},
   "outputs": [],
   "source": [
    "rm outtree\n",
    "neighbor <<EOF\n",
    "M\n",
    "100\n",
    "3\n",
    "y\n",
    "EOF"
   ]
  },
  {
   "cell_type": "markdown",
   "metadata": {},
   "source": [
    "After you have created 100 trees. Run ```consense``` to get a consensus tree:"
   ]
  },
  {
   "cell_type": "code",
   "execution_count": null,
   "metadata": {
    "engine": "bash",
    "eval": false
   },
   "outputs": [],
   "source": [
    "rm outfile\n",
    "mv outtree intree\n",
    "consense <<EOF\n",
    "y\n",
    "EOF\n",
    "mv outtree neighbor_bootstrap.tre\n"
   ]
  },
  {
   "cell_type": "markdown",
   "metadata": {},
   "source": [
    "\n",
    "# Maximum likelihood tree using RAxML\n",
    "\n",
    "RAxML is a very efficient maximum likelihood phylogenetic analysis software that can run on a HPC settings. The software is generally used for very large datasets.\n",
    "\n",
    "Download RAxML from https://github.com/stamatak/standard-RAxML. There are several way to compile RAxML. For use with our virtual machine we will use a very simple option."
   ]
  },
  {
   "cell_type": "code",
   "execution_count": 16,
   "metadata": {},
   "outputs": [
    {
     "name": "stdout",
     "output_type": "stream",
     "text": [
      "/data/user/home/mmeghan/Desktop/info302_assignment/Assignment5_Molecular_Evolution\n"
     ]
    }
   ],
   "source": [
    "pwd"
   ]
  },
  {
   "cell_type": "code",
   "execution_count": 17,
   "metadata": {
    "engine": "bash",
    "eval": false,
    "lines_to_next_cell": 0
   },
   "outputs": [
    {
     "name": "stdout",
     "output_type": "stream",
     "text": [
      "Cloning into 'standard-RAxML'...\n",
      "remote: Enumerating objects: 2590, done.        \n",
      "remote: Total 2590 (delta 0), reused 0 (delta 0), pack-reused 2590        \n",
      "Receiving objects: 100% (2590/2590), 39.66 MiB | 46.32 MiB/s, done.\n",
      "Resolving deltas: 100% (1836/1836), done.\n",
      "rm -f *.o raxmlHPC\n",
      "gcc  -D_GNU_SOURCE -fomit-frame-pointer -funroll-loops -O2 -msse    -c -o axml.o axml.c\n",
      "gcc  -D_GNU_SOURCE -fomit-frame-pointer -funroll-loops -O2 -msse    -c -o optimizeModel.o optimizeModel.c\n",
      "gcc  -D_GNU_SOURCE -fomit-frame-pointer -funroll-loops -O2 -msse    -c -o multiple.o multiple.c\n",
      "gcc  -D_GNU_SOURCE -fomit-frame-pointer -funroll-loops -O2 -msse    -c -o searchAlgo.o searchAlgo.c\n",
      "gcc  -D_GNU_SOURCE -fomit-frame-pointer -funroll-loops -O2 -msse    -c -o topologies.o topologies.c\n",
      "gcc  -D_GNU_SOURCE -fomit-frame-pointer -funroll-loops -O2 -msse    -c -o parsePartitions.o parsePartitions.c\n",
      "gcc  -D_GNU_SOURCE -fomit-frame-pointer -funroll-loops -O2 -msse    -c -o treeIO.o treeIO.c\n",
      "gcc  -D_GNU_SOURCE -fomit-frame-pointer -funroll-loops -O2 -msse    -c -o models.o models.c\n",
      "gcc  -D_GNU_SOURCE -fomit-frame-pointer -funroll-loops -O2 -msse    -c -o bipartitionList.o bipartitionList.c\n",
      "gcc  -D_GNU_SOURCE -fomit-frame-pointer -funroll-loops -O2 -msse    -c -o rapidBootstrap.o rapidBootstrap.c\n",
      "gcc  -D_GNU_SOURCE -fomit-frame-pointer -funroll-loops -O2 -msse    -c -o evaluatePartialGenericSpecial.o evaluatePartialGenericSpecial.c\n",
      "gcc  -D_GNU_SOURCE -fomit-frame-pointer -funroll-loops -O2 -msse    -c -o evaluateGenericSpecial.o evaluateGenericSpecial.c\n",
      "gcc  -D_GNU_SOURCE -fomit-frame-pointer -funroll-loops -O2 -msse    -c -o newviewGenericSpecial.o newviewGenericSpecial.c\n",
      "gcc  -D_GNU_SOURCE -fomit-frame-pointer -funroll-loops -O2 -msse    -c -o makenewzGenericSpecial.o makenewzGenericSpecial.c\n",
      "gcc  -D_GNU_SOURCE -fomit-frame-pointer -funroll-loops -O2 -msse    -c -o classify.o classify.c\n",
      "gcc  -D_GNU_SOURCE -fomit-frame-pointer -funroll-loops -O2 -msse    -c -o fastDNAparsimony.o fastDNAparsimony.c\n",
      "gcc  -D_GNU_SOURCE -fomit-frame-pointer -funroll-loops -O2 -msse    -c -o fastSearch.o fastSearch.c\n",
      "gcc  -D_GNU_SOURCE -fomit-frame-pointer -funroll-loops -O2 -msse    -c -o leaveDropping.o leaveDropping.c\n",
      "gcc  -D_GNU_SOURCE -fomit-frame-pointer -funroll-loops -O2 -msse    -c -o rmqs.o rmqs.c\n",
      "gcc  -D_GNU_SOURCE -fomit-frame-pointer -funroll-loops -O2 -msse    -c -o rogueEPA.o rogueEPA.c\n",
      "gcc  -D_GNU_SOURCE -fomit-frame-pointer -funroll-loops -O2 -msse    -c -o ancestralStates.o ancestralStates.c\n",
      "gcc  -D_GNU_SOURCE -fomit-frame-pointer -funroll-loops -O2 -msse    -c -o mem_alloc.o mem_alloc.c\n",
      "gcc  -c -o eigen.o eigen.c \n",
      "gcc  -o raxmlHPC axml.o  optimizeModel.o multiple.o searchAlgo.o topologies.o parsePartitions.o treeIO.o models.o bipartitionList.o rapidBootstrap.o evaluatePartialGenericSpecial.o evaluateGenericSpecial.o newviewGenericSpecial.o makenewzGenericSpecial.o   classify.o fastDNAparsimony.o fastSearch.o leaveDropping.o rmqs.o rogueEPA.o ancestralStates.o  mem_alloc.o  eigen.o -lm  \n"
     ]
    }
   ],
   "source": [
    "git clone https://github.com/stamatak/standard-RAxML.git\n",
    "cd standard-RAxML/\n",
    "make -f Makefile.gcc\n",
    "rm *.o\n",
    "cd .."
   ]
  },
  {
   "cell_type": "markdown",
   "metadata": {},
   "source": [
    "RAxML requires specification of a model. For nucleotide sequence the best option GTRGAMMA. For protein sequence any of the JTT models are fine. They are expanded PAM matrices.\n",
    "\n",
    "But we can tell RAXML for find the best model for us."
   ]
  },
  {
   "cell_type": "code",
   "execution_count": 18,
   "metadata": {},
   "outputs": [
    {
     "name": "stdout",
     "output_type": "stream",
     "text": [
      "/data/user/home/mmeghan/Desktop/info302_assignment/Assignment5_Molecular_Evolution\n"
     ]
    }
   ],
   "source": [
    "pwd"
   ]
  },
  {
   "cell_type": "code",
   "execution_count": 19,
   "metadata": {
    "engine": "bash",
    "eval": false,
    "lines_to_next_cell": 0
   },
   "outputs": [
    {
     "name": "stdout",
     "output_type": "stream",
     "text": [
      "\n",
      "RAxML can't, parse the alignment file as phylip file \n",
      "it will now try to parse it as FASTA file\n",
      "\n",
      "Fasta parsing error, RAxML expects an alignment.\n",
      "the last sequence in the alignment seems to have a different length\n"
     ]
    },
    {
     "ename": "",
     "evalue": "255",
     "output_type": "error",
     "traceback": []
    }
   ],
   "source": [
    "#cd 05-MolEvol\n",
    "./standard-RAxML/raxmlHPC -m PROTGAMMAAUTO -s p53.afa -p 12345 -n p53"
   ]
  },
  {
   "cell_type": "markdown",
   "metadata": {},
   "source": [
    "This will create the tree as ```RAxML_bestTree.p53```. \n",
    "\n",
    "We can also run a bootstrap analysis:"
   ]
  },
  {
   "cell_type": "code",
   "execution_count": null,
   "metadata": {},
   "outputs": [],
   "source": [
    "cat RAxML_bestTree.p53"
   ]
  },
  {
   "cell_type": "code",
   "execution_count": null,
   "metadata": {
    "engine": "bash",
    "eval": false,
    "lines_to_next_cell": 0
   },
   "outputs": [],
   "source": [
    "standard-RAxML/raxmlHPC -m PROTGAMMAJTT -s p53.afa -p 12345 -# 10 -f a -n p53_c -x 12345"
   ]
  },
  {
   "cell_type": "markdown",
   "metadata": {},
   "source": [
    "Unlike ```consense``` in ```phylip```. RAxML already geneartes a tree will bootstrap values already included. This is the file ```RAxML_bipartitions.p53_c``` How nice!\n",
    "\n",
    "\n",
    "\n",
    "\n",
    "\n",
    "\n",
    "\n",
    "\n",
    "\n",
    "\n",
    "\n",
    "\n",
    "\n",
    "\n"
   ]
  }
 ],
 "metadata": {
  "jupytext": {
   "cell_metadata_filter": "eval,engine,-all",
   "main_language": "R",
   "notebook_metadata_filter": "-all"
  },
  "kernelspec": {
   "display_name": "Bash",
   "language": "bash",
   "name": "bash"
  },
  "language_info": {
   "codemirror_mode": "shell",
   "file_extension": ".sh",
   "mimetype": "text/x-sh",
   "name": "bash"
  }
 },
 "nbformat": 4,
 "nbformat_minor": 4
}
