{
 "cells": [
  {
   "cell_type": "markdown",
   "metadata": {},
   "source": [
    "# Molecular Evolution\n",
    "\n",
    "- Charles Darwin \n",
    "\n",
    "- The way you should determine the sucess of an organism is by its reproductive fitness (how many kids they have) \n",
    "\n",
    "- There are positive and negative effects, negative selection removes species, positive selection increases the population of the species \n",
    "\n",
    "How process creates new species: Unity of Descent, Last Universal Common Ancestor\n",
    "\n",
    "- \"Common descent with modifications\" \n",
    "\n",
    "- Horizontal Gene Transfer - transfer of genetic material form surroundings to genomes\n",
    "\n",
    "3 Pillars of Evolution: \n",
    "\n",
    "1. Mutation - Random error in DNA replication\n",
    "\n",
    "2. Selection - Increase/Decrease fitness\n",
    "\n",
    "3. Drift - Random fluctuation in allele frequency \n",
    "\n",
    "- Most changes in DNA are \"neutral\" \n"
   ]
  },
  {
   "cell_type": "markdown",
   "metadata": {},
   "source": [
    "### Mutation Changes in DNA \n",
    "\n",
    "- non-synonomus vs synonomus vs nonsense\n",
    "\n",
    "- Substitution\n",
    "\n",
    "ACC TAT TTG CTG\n",
    "\n",
    "ACC TCT TTG CTG\n",
    "\n",
    "- Insertion \n",
    "\n",
    "ACC TAT TTG CTG\n",
    "\n",
    "ACC TAC TTT GCT G...\n",
    "\n",
    "- Deletion \n",
    "\n",
    "ACC TAT TTG CTG \n",
    "\n",
    "ACC TAT TGC TG- \n",
    "\n",
    "- Inversion \n",
    "\n",
    "ACCC TAT TTG CTG \n",
    "\n",
    "ACC TTT ATG CTG"
   ]
  },
  {
   "cell_type": "markdown",
   "metadata": {},
   "source": [
    "### P Distance \n",
    "\n",
    "number of times two sequences differ\n",
    "\n",
    "![Table of nucleotide substitution values](Nucleotide_substitutions.png \"Nucleotide Substitution\")\n"
   ]
  },
  {
   "cell_type": "markdown",
   "metadata": {},
   "source": [
    "### How to meausre selection \n",
    "\n",
    "$d_{n}$ = Non-synonymous substitution / non-synonoymous site \n",
    "\n",
    "$d_{s}$ = Synonymous substitution/ synonymous site \n",
    "\n",
    "$d_{n} / d_{s} > 1$ = Positive Selection \n",
    "\n",
    "$d_{n} / d_{s} < 1$ = Negative Selection \n",
    "\n",
    "$d_{n} / d_{s} = 1$ =  Neutral Selection \n",
    "\n",
    "![nucleotide changes image](nucleotide_changes.png \"nucleotide changes\")\n",
    "\n",
    "![calculate changes](calculate_changes.png \"how to calcualte change\")"
   ]
  },
  {
   "cell_type": "markdown",
   "metadata": {},
   "source": [
    "# Final Project \n",
    "\n",
    "write two page bioinformatics paper of tardigrade genome"
   ]
  }
 ],
 "metadata": {
  "kernelspec": {
   "display_name": "Bash",
   "language": "bash",
   "name": "bash"
  },
  "language_info": {
   "codemirror_mode": "shell",
   "file_extension": ".sh",
   "mimetype": "text/x-sh",
   "name": "bash"
  }
 },
 "nbformat": 4,
 "nbformat_minor": 4
}
