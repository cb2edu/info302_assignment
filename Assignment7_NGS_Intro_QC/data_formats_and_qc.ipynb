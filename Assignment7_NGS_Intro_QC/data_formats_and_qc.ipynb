{
 "cells": [
  {
   "cell_type": "markdown",
   "metadata": {},
   "source": [
    "# NGS Data formats and QC\n",
    "\n",
    "## Introduction\n",
    "There are several file formats for storing Next Generation Sequencing (NGS) data. In this tutorial we will look at some of the most common formats for storing NGS reads and variant data. We will cover the following formats:\n",
    "\n",
    "__FASTQ__ - This format stores unaligned read sequences with base qualities  \n",
    "__SAM/BAM__ - This format stores unaligned or aligned reads (text and binary formats)  \n",
    "__CRAM__ - This format is similar to BAM but has better compression than BAM  \n",
    "__VCF/BCF__ - Flexible variant call format for storing SNPs, indels, structural variations (text and binary formats)   \n",
    "\n",
    "Further to understanding the different file formats, it is important to remember that all sequencing platforms have technical limitations that can introduce biases in your sequencing data. Because of this it is very important to check the quality of the data before starting any analysis, whether you are planning to use something you have sequenced yourself or publicly available data. In the second part of this tutorial we will describe how to perform a QC assessment for your NGS data.\n"
   ]
  },
  {
   "cell_type": "code",
   "execution_count": 2,
   "metadata": {},
   "outputs": [],
   "source": [
    "mkdir ngs\n",
    "cd ngs"
   ]
  },
  {
   "cell_type": "markdown",
   "metadata": {},
   "source": [
    "Now you can follow the instructions in the tutorial from here.\n",
    "\n",
    "## Let’s get started!\n",
    "Let's download `samtools`,`bcftools`and `htslib`."
   ]
  },
  {
   "cell_type": "markdown",
   "metadata": {},
   "source": [
    "Do this from commandline.\n",
    "\n",
    "```\n",
    "sudo yum install samtools bcftools htslib gnuplot\n",
    "```\n",
    "\n",
    "*Correction Modules loaded from Cheaha"
   ]
  },
  {
   "cell_type": "code",
   "execution_count": 13,
   "metadata": {},
   "outputs": [],
   "source": [
    "module load BCFtools/1.12-GCC-10.2.0"
   ]
  },
  {
   "cell_type": "code",
   "execution_count": 12,
   "metadata": {
    "scrolled": true
   },
   "outputs": [],
   "source": [
    "module load SAMtools/1.12-GCC-10.2.0"
   ]
  },
  {
   "cell_type": "markdown",
   "metadata": {},
   "source": [
    "This should return the help message for samtools and bcftools respectively."
   ]
  },
  {
   "cell_type": "markdown",
   "metadata": {},
   "source": [
    "## Download the required datasets"
   ]
  },
  {
   "cell_type": "code",
   "execution_count": 1,
   "metadata": {},
   "outputs": [
    {
     "name": "stdout",
     "output_type": "stream",
     "text": [
      "--2021-10-26 10:07:00--  https://github.com/cb2edu/CB2-101-BioComp/raw/2020/07-NGS_Intro_QC/data/example.tgz\n",
      "Resolving github.com (github.com)... 140.82.114.3\n",
      "Connecting to github.com (github.com)|140.82.114.3|:443... connected.\n",
      "HTTP request sent, awaiting response... 302 Found\n",
      "Location: https://raw.githubusercontent.com/cb2edu/CB2-101-BioComp/2020/07-NGS_Intro_QC/data/example.tgz [following]\n",
      "--2021-10-26 10:07:01--  https://raw.githubusercontent.com/cb2edu/CB2-101-BioComp/2020/07-NGS_Intro_QC/data/example.tgz\n",
      "Resolving raw.githubusercontent.com (raw.githubusercontent.com)... 185.199.110.133, 185.199.108.133, 185.199.109.133, ...\n",
      "Connecting to raw.githubusercontent.com (raw.githubusercontent.com)|185.199.110.133|:443... connected.\n",
      "HTTP request sent, awaiting response... 200 OK\n",
      "Length: 28092060 (27M) [application/octet-stream]\n",
      "Saving to: ‘example.tgz’\n",
      "\n",
      "100%[======================================>] 28,092,060   102MB/s   in 0.3s   \n",
      "\n",
      "2021-10-26 10:07:01 (102 MB/s) - ‘example.tgz’ saved [28092060/28092060]\n",
      "\n",
      "1kg.bcf\n",
      "NA20538.bam\n",
      "example.fastq\n",
      "example.sam\n"
     ]
    }
   ],
   "source": [
    "wget https://github.com/cb2edu/CB2-101-BioComp/raw/2020/07-NGS_Intro_QC/data/example.tgz\n",
    "tar -xvzf example.tgz"
   ]
  },
  {
   "cell_type": "markdown",
   "metadata": {},
   "source": [
    "## FASTQ\n",
    "FASTQ is a data format for raw unaligned sequencing reads. It is an extension to the FASTA file format, and includes a quality score for each base. Have a look at the example below, containing two reads:\n",
    "  \n",
    "```\n",
    "@ERR007731.739 IL16_2979:6:1:9:1684/1\n",
    "CTTGACGACTTGAAAAATGACGAAATCACTAAAAAACGTGAAAAATGAGAAATG\n",
    "+\n",
    "BBCBCBBBBBBBABBABBBBBBBABBBBBBBBBBBBBBABAAAABBBBB=@>B\n",
    "@ERR007731.740 IL16_2979:6:1:9:1419/1\n",
    "AAAAAAAAAGATGTCATCAGCACATCAGAAAAGAAGGCAACTTTAAAACTTTTC\n",
    "+\n",
    "BBABBBABABAABABABBABBBAAA>@B@BBAA@4AAA>.>BAA@779:AAA@A\n",
    "```\n",
    "   \n",
    "We can see that for each read we get four lines:\n",
    "\n",
    "   1. The read metadata, such as the read ID. Starts with `@` and, for paired-end Illumina reads, is terminated with /1 or /2 to show that the read is the member of a pair. \n",
    "   2. The read\n",
    "   3. Starts with `+` and optionally contains the ID again\n",
    "   4. The per base [Phred quality score](https://en.wikipedia.org/wiki/Phred_quality_score)\n",
    "\n",
    "The quality scores range (in theory) from 1 to 94 and are encoded as [ASCII characters](https://en.wikipedia.org/wiki/ASCII). The first 32 ASCII codes are reserved for control characters which are not printable, and the 33rd is reserved for space. Neither of these can be used in the quality string, so we need to subtract 33 from whatever the value of the quality character is. For example, the ASCII code of “A” is 65, so the corresponding quality is:\n",
    "   \n",
    "```   \n",
    "Q = 65 - 33 = 32\n",
    "```\n",
    "   \n",
    "The Phred quality score `Q` relates to the base-calling error probability `P` as\n",
    "   \n",
    "&nbsp;&nbsp;&nbsp;&nbsp;&nbsp;&nbsp; P = 10<sup>-Q/10</sup>   \n",
    "   \n",
    "The Phred quality score is a measure of the quality of base calls. For example, a base assigned with a Phred quality score of 30 tells us that there is a 1 in 1000 chance that this base was called incorrectly.\n",
    "\n",
    "|Phred Quality Score|Probability of incorrect base call|Base call accuracy|\n",
    "|---|---|---|\n",
    "|10|1 in 10|90%|\n",
    "|20|1 in 100|99%|\n",
    "|30|1 in 1000|99.9%|\n",
    "|40|1 in 10,000|99.99%|\n",
    "|50|1 in 100,000|99.999%|\n",
    "|60|1 in 1,000,000|99.9999%|\n",
    "\n",
    "The following simple perl command will print the quality score value for an ASCII character. Try changing the \"A\" to another character, for example one from the quality strings above (e.g. @, = or B)."
   ]
  },
  {
   "cell_type": "code",
   "execution_count": 2,
   "metadata": {},
   "outputs": [
    {
     "name": "stdout",
     "output_type": "stream",
     "text": [
      "31\n"
     ]
    }
   ],
   "source": [
    "perl -e 'printf \"%d\\n\",ord(\"@\")-33;'"
   ]
  },
  {
   "cell_type": "markdown",
   "metadata": {},
   "source": [
    "### Exercises\n",
    "__Q2.1: How many reads are there in the file example.fastq? (Hint: remember that `@` is a possible quality score. Is there something else in the header that is unique?)__"
   ]
  },
  {
   "cell_type": "code",
   "execution_count": 3,
   "metadata": {},
   "outputs": [
    {
     "name": "stdout",
     "output_type": "stream",
     "text": [
      "16\n"
     ]
    }
   ],
   "source": [
    "grep -c -i -o @ example.fastq"
   ]
  },
  {
   "cell_type": "markdown",
   "metadata": {},
   "source": [
    "## SAM\n",
    "[SAM (Sequence Alignment/Map)](https://samtools.github.io/hts-specs/SAMv1.pdf) format was developed by the 1000 Genomes Project group in 2009 and is a unified format for storing read alignments to a reference genome. SAM format is a standard format for storing NGS sequencing reads, base qualities, associated meta-data and alignments of the data to a reference genome. If no reference genome is available, the data can also be stored unaligned.\n",
    "\n",
    "The files consist of a header section (optional) and an alignment section. The alignment section contains one record (a single DNA fragment alignment) per line describing the alignment between fragment and reference. Each record has 11 fixed columns and optional key:type:value tuples. Open the SAM/BAM file specification document [https://samtools.github.io/hts-specs/SAMv1.pdf](https://samtools.github.io/hts-specs/SAMv1.pdf) either in a web browser or you can find a copy in the QC directory as you may need to refer to it throughout this tutorial. \n",
    "\n",
    "Now let us have a closer look at the different parts of the SAM/BAM format. \n",
    "\n",
    "### Header Section\n",
    "\n",
    "The header section of a SAM file looks like:\n",
    "\n",
    "<insert header text>\n",
    "\n",
    "```\n",
    "@HD\tVN:1.0\tSO:coordinate\n",
    "@SQ\tSN:test_ref\tLN:17637\n",
    "@RG ID:ERR003612 PL:ILLUMINA LB:g1k-sc-NA20538-TOS-1 PI:2000 DS:SRP000540 SM:NA20538 CN:SC\n",
    "```\n",
    "\n",
    "Each line in the SAM header begins with an `@`, followed by a two-letter header record type code as defined in the [SAM/BAM format specification document](https://samtools.github.io/hts-specs/SAMv1.pdf). Each record type can contain meta-data captured as a series of key-value pairs in the format of ‘TAG:VALUE’.\n",
    "\n",
    "#### Read groups\n",
    "One useful record type is RG which can be used to describe each lane of sequencing. The RG code can be used to capture extra meta-data for the sequencing lane. Some common RG TAGs are:\n",
    "\n",
    "* ID: SRR/ERR number\n",
    "* PL: Sequencing platform\n",
    "* PU: Run name\n",
    "* LB: Library name\n",
    "* PI: Insert fragment size\n",
    "* SM: Individual/Sample\n",
    "* CN: Sequencing centre\n",
    "\n",
    "While most of these are self explanitory, insert fragment size may occasionally be negative. This simply indicates that the reads found are overlapping while its size is less than 2 x read length."
   ]
  },
  {
   "cell_type": "markdown",
   "metadata": {},
   "source": [
    "### Exercises\n",
    "\n",
    "Look at the following line from the header of a SAM file and answering the questions that follow: \n",
    "\n",
    "```\n",
    "@RG ID:ERR003612 PL:ILLUMINA LB:g1k-sc-NA20538-TOS-1 PI:2000 DS:SRP000540 SM:NA20538 CN:SC\n",
    "```\n",
    "   \n",
    "__Q3: What does RG stand for?__"
   ]
  },
  {
   "cell_type": "markdown",
   "metadata": {},
   "source": [
    "RG stands for read group "
   ]
  },
  {
   "cell_type": "markdown",
   "metadata": {},
   "source": [
    "__Q4: What is the sequencing platform?__"
   ]
  },
  {
   "cell_type": "markdown",
   "metadata": {},
   "source": [
    "the sequencing platform is illumina "
   ]
  },
  {
   "cell_type": "markdown",
   "metadata": {},
   "source": [
    "__Q5: What is the sequencing centre?__"
   ]
  },
  {
   "cell_type": "markdown",
   "metadata": {},
   "source": [
    "The sequencing center is SC"
   ]
  },
  {
   "cell_type": "markdown",
   "metadata": {},
   "source": [
    "__Q6: What is the lane identifier?__"
   ]
  },
  {
   "cell_type": "markdown",
   "metadata": {},
   "source": [
    "the lane identifier is the RG header entries "
   ]
  },
  {
   "cell_type": "markdown",
   "metadata": {},
   "source": [
    "__Q7: What is the expected fragment insert size?__  "
   ]
  },
  {
   "cell_type": "markdown",
   "metadata": {},
   "source": [
    "The expected fragment insert size is 2000"
   ]
  },
  {
   "cell_type": "markdown",
   "metadata": {},
   "source": [
    "### Alignment Section\n",
    "The alignment section of SAM files contains one line per read alignment, an example is\n",
    "\n",
    "ERR005816.1408831\t163\tChr1\t19999970\t23\t40M5D30M2I28M\t=\t20000147\t213 GGTGGGTGGATCACCTGAGATCGGGAGTTTGAGACTAGGTGG...   \n",
    "<=@A@??@=@A@A>@BAA@ABA:>@<>=BBB9@@2B3<=@A@...   \n",
    "\n",
    "Each of the lines are composed of multiple columns listed below. The first 11 columns are mandatory.\n",
    "\n",
    "1. QNAME: Query NAME of the read or the read pair i.e. DNA sequence\n",
    "2. FLAG: Bitwise FLAG (pairing, strand, mate strand, etc.)\n",
    "3. RNAME: Reference sequence NAME\n",
    "4. POS: 1-Based leftmost POSition of clipped alignment\n",
    "5. MAPQ: MAPping Quality (Phred-scaled)\n",
    "6. CIGAR: Extended CIGAR string (operations: MIDNSHPX=)\n",
    "7. MRNM: Mate Reference NaMe (’=’ if same as RNAME)\n",
    "8. MPOS: 1-Based leftmost Mate POSition\n",
    "9. ISIZE: Inferred Insert SIZE\n",
    "10. SEQ: Query SEQuence on the same strand as the reference\n",
    "11. QUAL: Query QUALity (ASCII-33=Phred base quality)\n",
    "12. OTHER: Optional fields\n"
   ]
  },
  {
   "cell_type": "markdown",
   "metadata": {},
   "source": [
    "### Exercises\n",
    "Let's have a look at example.sam. This file contains only a subset of the alignment section of a BAM-file that we will look closer at soon. Notice that we can use the standard UNIX operations like __cat__ on this file."
   ]
  },
  {
   "cell_type": "code",
   "execution_count": 1,
   "metadata": {},
   "outputs": [
    {
     "name": "stdout",
     "output_type": "stream",
     "text": [
      "/data/user/home/mmeghan/Desktop/info302_assignment/Assignment7_NGS_Intro_QC\n"
     ]
    }
   ],
   "source": [
    "pwd"
   ]
  },
  {
   "cell_type": "code",
   "execution_count": 3,
   "metadata": {},
   "outputs": [
    {
     "name": "stdout",
     "output_type": "stream",
     "text": [
      "ERR003814.1408899\t163\t1\t19999970\t23\t37M\t=\t20000147\t213\tGGTGGGTGGATCACCTGAGATCGGGAGTTTGAGACTA\t<=@A@??@=@A@A>@BAA@ABA:>@<>=BBB9@@2B3\tX0:i:1\tX1:i:20\tMD:Z:37\tRG:Z:ERR003814\tAM:i:0\tNM:i:0\tSM:i:23\tMQ:i:29\tXT:A:U\tBQ:Z:@@@@@@@@@@@@@@@@@@@@@@@@@@@@@@@@@@@@@\n",
      "ERR003762.5016205\t163\t1\t20000006\t48\t37M\t=\t20000026\t55\tAACATGGAGAAACCCCATCTCTACTAAGGTACAAAAA\t<A:@AA?7@@6B69<<AB<B7;++?:=;+7;7=@@=%\tX0:i:1\tX1:i:43\tMD:Z:36T0\tRG:Z:ERR003762\tAM:i:23\tNM:i:1\tSM:i:23\tMQ:i:48\tXT:A:U\tBQ:Z:@@@@@@@@@@@@@@@@@@@@@@@@@@@@@@@@@DFD@\n",
      "ERR015472.4248280\t83\t1\t20000009\t60\t108M\t=\t19999730\t-386\tATGGAGAAACCCCATCTCTACTAAGGTACAAAATTAGATGGGCATGGTGGTGCACACCTGTAGTCCCAGCTACTTGGGAGGCTGAGGCAGGAGAATCGCTTGAACCCG\t:<35@;?@-8;1@=A@?@?@@>@A><@A@?@BA@?B<@B>?@AAB??A5>B@?@AACAB?BC?BCBBBBBC@BCCBBBCBBBBBCBBBCBACABAC:AACCAB?A@6?\tX0:i:1\tX1:i:0\tMD:Z:108\tRG:Z:ERR015472\tAM:i:37\tNM:i:0\tSM:i:37\tMQ:i:60\tXT:A:U\tBQ:Z:@@@@@@@@@@@@@@@@@@@@@@@@@@@@@@@@@@@@@@@@@@@@@@@@@@@@@@@@@@@@@@@@@@@@@@@@@@@@@@@@@@@@@@@@@@@@@@@@@@@@@@@@@@@A\n",
      "ERR015472.13730806\t83\t1\t20000013\t60\t108M\t=\t19999720\t-400\tAGAAACCCCATCTCTACTAAGGTACAAAATTAGATGGGCATGGTGGTGCACACCTGTAGTCCCAGCTACTTGGGAGGCTGAGGCAGGAGAATCGCTTGAACCCGGGAG\t91);08;;?=@@@?67?==?-;?@;@@?A?<B?AB@?A@AB@>@@9A=>@A>?AB?AB@@BBBCABC@BBBBBBCBBBBACBABCBBCBBAB:BBCCAB?BB:BA@A?\tX0:i:1\tX1:i:0\tMD:Z:108\tRG:Z:ERR015472\tAM:i:37\tNM:i:0\tSM:i:37\tMQ:i:60\tXT:A:U\tBQ:Z:@@@@@@@@@@@@@@@@@@@@@@@@@@@@@@@@@@@@@@@@@@@@@@@@@@@@@@@@@@@@@@@@@@@@@@@@@@@@@@@@@@@@@@@@@@@@@@@@@@@@@@@@@@@A\n",
      "ERR003814.6979522\t147\t1\t20000095\t29\t37M\t=\t19999855\t-276\tGCAGGAGAATCGCTTGAACCCGGGAGGCAGAGGTTGT\t:@A3<CABA97@A=BABB@A:A@@C@@A=@B?>A8><\tX0:i:279\tMD:Z:37\tRG:Z:ERR003814\tAM:i:0\tNM:i:0\tSM:i:0\tMQ:i:37\tXT:A:R\tBQ:Z:@@@@@@@@@@@@@@@@@@@@@@@@@@@@@@@@@@@@@\n",
      "\n"
     ]
    }
   ],
   "source": [
    "cat example.sam"
   ]
  },
  {
   "cell_type": "markdown",
   "metadata": {},
   "source": [
    "__Q8: What is the mapping quality of ERR003762.5016205? (Hint: can you use grep and awk to find this?)__"
   ]
  },
  {
   "cell_type": "code",
   "execution_count": 7,
   "metadata": {},
   "outputs": [
    {
     "name": "stdout",
     "output_type": "stream",
     "text": [
      "ERR003762.5016205 48\n"
     ]
    }
   ],
   "source": [
    "grep -i \"ERR003762.5016205\" example.sam | awk '{print $1, $5}'"
   ]
  },
  {
   "cell_type": "markdown",
   "metadata": {},
   "source": [
    "__Q9: What is the CIGAR string for ERR003814.6979522? (Hint: we will go through the meaning of CIGAR strings in the next section)__"
   ]
  },
  {
   "cell_type": "code",
   "execution_count": 8,
   "metadata": {},
   "outputs": [
    {
     "name": "stdout",
     "output_type": "stream",
     "text": [
      "ERR003814.6979522 37M\n"
     ]
    }
   ],
   "source": [
    "grep -i \"ERR003814.6979522\" example.sam | awk '{print $1, $6}'"
   ]
  },
  {
   "cell_type": "markdown",
   "metadata": {},
   "source": [
    "__Q10: What is the inferred insert size of ERR003814.1408899?__"
   ]
  },
  {
   "cell_type": "code",
   "execution_count": 9,
   "metadata": {},
   "outputs": [
    {
     "name": "stdout",
     "output_type": "stream",
     "text": [
      "ERR003814.1408899 213\n"
     ]
    }
   ],
   "source": [
    "grep -i \"ERR003814.1408899\" example.sam | awk '{print $1, $9}'"
   ]
  },
  {
   "cell_type": "code",
   "execution_count": null,
   "metadata": {},
   "outputs": [],
   "source": []
  },
  {
   "cell_type": "markdown",
   "metadata": {},
   "source": [
    "### CIGAR string\n",
    "Column 6 of the alignment is the CIGAR string for that alignment. The CIGAR string provides a compact representation of sequence alignment. Have a look at the table below. It contains the meaning of all different symbols of a CIGAR string:\n",
    "\n",
    "|Symbol |Meaning                                             |\n",
    "|---    |---                                                 |\n",
    "|M      |alignment match or mismatch                         |\n",
    "|=      |sequence match                                      |\n",
    "|X      |sequence mismatch                                   |\n",
    "|I      |insertion into the read (sample sequenced)          |\n",
    "|D      |deletion from the read (sample sequenced)           |\n",
    "|S      |soft clipping (clipped sequences present in SEQ)    |\n",
    "|H      |hard clipping (clipped sequences NOT present in SEQ)|\n",
    "|N      |skipped region from the reference                   |\n",
    "|P      |padding (silent deletion from padded reference)     |\n",
    "\n",
    "Below are two examples describing the CIGAR string in more detail.\n",
    "  \n",
    "__Example 1:__  \n",
    "Ref:&nbsp;&nbsp;&nbsp;&nbsp;&nbsp;ACGTACGTACGTACGT  \n",
    "Read:&nbsp;&nbsp;ACGT-&nbsp;-&nbsp;-&nbsp;-&nbsp;ACGTACGA  \n",
    "Cigar: 4M 4D 8M  \n",
    "\n",
    "The first four bases in the read are the same as in the reference, so we can represent these as 4M in the CIGAR string. Next comes 4 deletions, represented by 4D, followed by 7 alignment matches and one alignment mismatch, represented by 8M. Note that the mismatch at position 16 is included in 8M. This is because it still aligns to the reference.\n",
    "\n",
    "__Example 2:__  \n",
    "Ref:&nbsp;&nbsp;&nbsp;&nbsp;&nbsp;ACTCAGTG-&nbsp;-&nbsp;GT  \n",
    "Read:&nbsp;&nbsp;ACGCA-&nbsp;TGCAGTtagacgt  \n",
    "Cigar: 5M 1D 2M 2I 2M 7S  \n",
    "\n",
    "Here we start off with 5 alignment matches and mismatches, followed by one deletion. Then we have two more alignment matches, two insertions and two more matches. At the end, we have seven soft clippings, 7S. These are clipped sequences that are present in the SEQ (Query SEQuence on the same strand as the reference).\n",
    "\n",
    "### Exercises\n",
    "__Q11: What does the CIGAR from Q9 mean?__"
   ]
  },
  {
   "cell_type": "markdown",
   "metadata": {},
   "source": [
    "The CIGAR from question 9 was 37M meaning that there are 37 allignment match or mismatch  "
   ]
  },
  {
   "cell_type": "markdown",
   "metadata": {},
   "source": [
    "__Q12: How would you represent the following alignment with a CIGAR string?__  \n",
    " \n",
    "Ref:&nbsp;&nbsp;&nbsp;&nbsp;&nbsp;ACGT-&nbsp;-&nbsp;-&nbsp;-&nbsp;ACGTACGT  \n",
    "Read:&nbsp;&nbsp;ACGTACGTACGTACGT  "
   ]
  },
  {
   "cell_type": "markdown",
   "metadata": {},
   "source": [
    "4M 3I 1M 1I 7M"
   ]
  },
  {
   "cell_type": "markdown",
   "metadata": {},
   "source": [
    "### Flags\n",
    "Column 2 of the alignment contains a combination of bitwise FLAGs describing the alignment. The following table contains the information you can get from the bitwise FLAGs:\n",
    "   \n",
    "|Hex  |Dec |Flag         |Description                                           |\n",
    "|---  |--- |---          |---                                                   |\n",
    "|0x1  |1   |PAIRED       |paired-end (or multiple-segment) sequencing technology|\n",
    "|0x2  |2   |PROPER_PAIR  |each segment properly aligned according to the aligner|\n",
    "|0x4  |4   |UNMAP        |segment unmapped                                      |\n",
    "|0x8  |8   |MUNMAP       |next segment in the template unmapped                 |\n",
    "|0x10 |16  |REVERSE      |SEQ is reverse complemented                           |\n",
    "|0x20 |32  |MREVERSE     |SEQ of the next segment in the template is reversed   |\n",
    "|0x40 |64  |READ1        |the first segment in the template                     |\n",
    "|0x80 |128 |READ2        |the last segment in the template                      |\n",
    "|0x100|256 |SECONDARY    |secondary alignment                                   |\n",
    "|0x200|512 |QCFAIL       |not passing quality controls                          |\n",
    "|0x400|1024|DUP          |PCR or optical duplicate                              |\n",
    "|0x800|2048|SUPPLEMENTARY|supplementary alignment                               |\n",
    "\n",
    "For example, if you have an alignment with FLAG set to 113, this can only be represented by decimal codes `64 + 32 + 16 + 1`, so we know that these four flags apply to the alignment and the alignment is paired-end, reverse complemented, sequence of the next template/mate of the read is reversed and the read aligned is the first segment in the template.\n",
    "\n",
    "#### Primary, secondary and supplementary alignments\n",
    "A read that aligns to a single reference sequence (including insertions, deletions, skips and clipping but not direction changes), is a __linear alignment__. If a read cannot be represented as a linear alignment, but instead is represented as a group of linear alignments without large overlaps, it is called a __chimeric alignment__. These can for instance be caused by structural variations. Usually, one of the linear alignments in a chimeric alignment is considered to be the __representative__ alignment, and the others are called __supplementary__.\n",
    "\n",
    "Sometimes a read maps equally well to more than one spot. In these cases, one of the possible alignments is marked as the __primary__ alignment and the rest are marked as __secondary__ alignments.\n",
    "\n",
    "## BAM\n",
    "BAM (Binary Alignment/Map) format, is a compressed binary version of SAM. This means that, while SAM is human readable, BAM is only readable for computers. BAM was developed for fast processing and random access. To achieve this, BGZF (Block GZIP) compression is used for indexing. BAM files can be viewed using samtools, and will then have the same format as a SAM file.  The key features of BAM are:\n",
    "\n",
    "* Can store alignments from most mappers\n",
    "* Supports multiple sequencing technologies\n",
    "* Supports indexing for quick retrieval/viewing\n",
    "* Compact size (e.g. 112Gbp Illumina = 116GB disk space)\n",
    "* Reads can be grouped into logical groups e.g. lanes, libraries, samples\n",
    "* Widely supported by variant calling packages and viewers\n",
    "\n",
    "Since BAM is a binary format, we can't use the standard UNIX operations directly on this file format. __Samtools__ is a set of programs for interacting with SAM and BAM files. Using the samtools view command, print the header of the BAM file:"
   ]
  },
  {
   "cell_type": "code",
   "execution_count": 21,
   "metadata": {},
   "outputs": [
    {
     "name": "stdout",
     "output_type": "stream",
     "text": [
      "@HD\tVN:1.0\tGO:none\tSO:coordinate\n",
      "@SQ\tSN:1\tLN:249250621\tAS:NCBI37\tUR:ftp://ftp.1000genomes.ebi.ac.uk/vol1/ftp/technical/reference/human_g1k_v37.fasta.gz\tM5:1b22b98cdeb4a9304cb5d48026a85128\tSP:Human\n",
      "@SQ\tSN:2\tLN:243199373\tAS:NCBI37\tUR:ftp://ftp.1000genomes.ebi.ac.uk/vol1/ftp/technical/reference/human_g1k_v37.fasta.gz\tM5:a0d9851da00400dec1098a9255ac712e\tSP:Human\n",
      "@SQ\tSN:3\tLN:198022430\tAS:NCBI37\tUR:ftp://ftp.1000genomes.ebi.ac.uk/vol1/ftp/technical/reference/human_g1k_v37.fasta.gz\tM5:fdfd811849cc2fadebc929bb925902e5\tSP:Human\n",
      "@SQ\tSN:4\tLN:191154276\tAS:NCBI37\tUR:ftp://ftp.1000genomes.ebi.ac.uk/vol1/ftp/technical/reference/human_g1k_v37.fasta.gz\tM5:23dccd106897542ad87d2765d28a19a1\tSP:Human\n",
      "@SQ\tSN:5\tLN:180915260\tAS:NCBI37\tUR:ftp://ftp.1000genomes.ebi.ac.uk/vol1/ftp/technical/reference/human_g1k_v37.fasta.gz\tM5:0740173db9ffd264d728f32784845cd7\tSP:Human\n",
      "@SQ\tSN:6\tLN:171115067\tAS:NCBI37\tUR:ftp://ftp.1000genomes.ebi.ac.uk/vol1/ftp/technical/reference/human_g1k_v37.fasta.gz\tM5:1d3a93a248d92a729ee764823acbbc6b\tSP:Human\n",
      "@SQ\tSN:7\tLN:159138663\tAS:NCBI37\tUR:ftp://ftp.1000genomes.ebi.ac.uk/vol1/ftp/technical/reference/human_g1k_v37.fasta.gz\tM5:618366e953d6aaad97dbe4777c29375e\tSP:Human\n",
      "@SQ\tSN:8\tLN:146364022\tAS:NCBI37\tUR:ftp://ftp.1000genomes.ebi.ac.uk/vol1/ftp/technical/reference/human_g1k_v37.fasta.gz\tM5:96f514a9929e410c6651697bded59aec\tSP:Human\n",
      "@SQ\tSN:9\tLN:141213431\tAS:NCBI37\tUR:ftp://ftp.1000genomes.ebi.ac.uk/vol1/ftp/technical/reference/human_g1k_v37.fasta.gz\tM5:3e273117f15e0a400f01055d9f393768\tSP:Human\n",
      "@SQ\tSN:10\tLN:135534747\tAS:NCBI37\tUR:ftp://ftp.1000genomes.ebi.ac.uk/vol1/ftp/technical/reference/human_g1k_v37.fasta.gz\tM5:988c28e000e84c26d552359af1ea2e1d\tSP:Human\n",
      "@SQ\tSN:11\tLN:135006516\tAS:NCBI37\tUR:ftp://ftp.1000genomes.ebi.ac.uk/vol1/ftp/technical/reference/human_g1k_v37.fasta.gz\tM5:98c59049a2df285c76ffb1c6db8f8b96\tSP:Human\n",
      "@SQ\tSN:12\tLN:133851895\tAS:NCBI37\tUR:ftp://ftp.1000genomes.ebi.ac.uk/vol1/ftp/technical/reference/human_g1k_v37.fasta.gz\tM5:51851ac0e1a115847ad36449b0015864\tSP:Human\n",
      "@SQ\tSN:13\tLN:115169878\tAS:NCBI37\tUR:ftp://ftp.1000genomes.ebi.ac.uk/vol1/ftp/technical/reference/human_g1k_v37.fasta.gz\tM5:283f8d7892baa81b510a015719ca7b0b\tSP:Human\n",
      "@SQ\tSN:14\tLN:107349540\tAS:NCBI37\tUR:ftp://ftp.1000genomes.ebi.ac.uk/vol1/ftp/technical/reference/human_g1k_v37.fasta.gz\tM5:98f3cae32b2a2e9524bc19813927542e\tSP:Human\n",
      "@SQ\tSN:15\tLN:102531392\tAS:NCBI37\tUR:ftp://ftp.1000genomes.ebi.ac.uk/vol1/ftp/technical/reference/human_g1k_v37.fasta.gz\tM5:e5645a794a8238215b2cd77acb95a078\tSP:Human\n",
      "@SQ\tSN:16\tLN:90354753\tAS:NCBI37\tUR:ftp://ftp.1000genomes.ebi.ac.uk/vol1/ftp/technical/reference/human_g1k_v37.fasta.gz\tM5:fc9b1a7b42b97a864f56b348b06095e6\tSP:Human\n",
      "@SQ\tSN:17\tLN:81195210\tAS:NCBI37\tUR:ftp://ftp.1000genomes.ebi.ac.uk/vol1/ftp/technical/reference/human_g1k_v37.fasta.gz\tM5:351f64d4f4f9ddd45b35336ad97aa6de\tSP:Human\n",
      "@SQ\tSN:18\tLN:78077248\tAS:NCBI37\tUR:ftp://ftp.1000genomes.ebi.ac.uk/vol1/ftp/technical/reference/human_g1k_v37.fasta.gz\tM5:b15d4b2d29dde9d3e4f93d1d0f2cbc9c\tSP:Human\n",
      "@SQ\tSN:19\tLN:59128983\tAS:NCBI37\tUR:ftp://ftp.1000genomes.ebi.ac.uk/vol1/ftp/technical/reference/human_g1k_v37.fasta.gz\tM5:1aacd71f30db8e561810913e0b72636d\tSP:Human\n",
      "@SQ\tSN:20\tLN:63025520\tAS:NCBI37\tUR:ftp://ftp.1000genomes.ebi.ac.uk/vol1/ftp/technical/reference/human_g1k_v37.fasta.gz\tM5:0dec9660ec1efaaf33281c0d5ea2560f\tSP:Human\n",
      "@SQ\tSN:21\tLN:48129895\tAS:NCBI37\tUR:ftp://ftp.1000genomes.ebi.ac.uk/vol1/ftp/technical/reference/human_g1k_v37.fasta.gz\tM5:2979a6085bfe28e3ad6f552f361ed74d\tSP:Human\n",
      "@SQ\tSN:22\tLN:51304566\tAS:NCBI37\tUR:ftp://ftp.1000genomes.ebi.ac.uk/vol1/ftp/technical/reference/human_g1k_v37.fasta.gz\tM5:a718acaa6135fdca8357d5bfe94211dd\tSP:Human\n",
      "@SQ\tSN:X\tLN:155270560\tAS:NCBI37\tUR:ftp://ftp.1000genomes.ebi.ac.uk/vol1/ftp/technical/reference/human_g1k_v37.fasta.gz\tM5:7e0e2e580297b7764e31dbc80c2540dd\tSP:Human\n",
      "@SQ\tSN:Y\tLN:59373566\tAS:NCBI37\tUR:ftp://ftp.1000genomes.ebi.ac.uk/vol1/ftp/technical/reference/human_g1k_v37.fasta.gz\tM5:1fa3474750af0948bdf97d5a0ee52e51\tSP:Human\n",
      "@SQ\tSN:MT\tLN:16569\tAS:NCBI37\tUR:ftp://ftp.1000genomes.ebi.ac.uk/vol1/ftp/technical/reference/human_g1k_v37.fasta.gz\tM5:c68f52674c9fb33aef52dcf399755519\tSP:Human\n",
      "@SQ\tSN:GL000207.1\tLN:4262\tAS:NCBI37\tUR:ftp://ftp.1000genomes.ebi.ac.uk/vol1/ftp/technical/reference/human_g1k_v37.fasta.gz\tM5:f3814841f1939d3ca19072d9e89f3fd7\tSP:Human\n",
      "@SQ\tSN:GL000226.1\tLN:15008\tAS:NCBI37\tUR:ftp://ftp.1000genomes.ebi.ac.uk/vol1/ftp/technical/reference/human_g1k_v37.fasta.gz\tM5:1c1b2cd1fccbc0a99b6a447fa24d1504\tSP:Human\n",
      "@SQ\tSN:GL000229.1\tLN:19913\tAS:NCBI37\tUR:ftp://ftp.1000genomes.ebi.ac.uk/vol1/ftp/technical/reference/human_g1k_v37.fasta.gz\tM5:d0f40ec87de311d8e715b52e4c7062e1\tSP:Human\n",
      "@SQ\tSN:GL000231.1\tLN:27386\tAS:NCBI37\tUR:ftp://ftp.1000genomes.ebi.ac.uk/vol1/ftp/technical/reference/human_g1k_v37.fasta.gz\tM5:ba8882ce3a1efa2080e5d29b956568a4\tSP:Human\n",
      "@SQ\tSN:GL000210.1\tLN:27682\tAS:NCBI37\tUR:ftp://ftp.1000genomes.ebi.ac.uk/vol1/ftp/technical/reference/human_g1k_v37.fasta.gz\tM5:851106a74238044126131ce2a8e5847c\tSP:Human\n",
      "@SQ\tSN:GL000239.1\tLN:33824\tAS:NCBI37\tUR:ftp://ftp.1000genomes.ebi.ac.uk/vol1/ftp/technical/reference/human_g1k_v37.fasta.gz\tM5:99795f15702caec4fa1c4e15f8a29c07\tSP:Human\n",
      "@SQ\tSN:GL000235.1\tLN:34474\tAS:NCBI37\tUR:ftp://ftp.1000genomes.ebi.ac.uk/vol1/ftp/technical/reference/human_g1k_v37.fasta.gz\tM5:118a25ca210cfbcdfb6c2ebb249f9680\tSP:Human\n",
      "@SQ\tSN:GL000201.1\tLN:36148\tAS:NCBI37\tUR:ftp://ftp.1000genomes.ebi.ac.uk/vol1/ftp/technical/reference/human_g1k_v37.fasta.gz\tM5:dfb7e7ec60ffdcb85cb359ea28454ee9\tSP:Human\n",
      "@SQ\tSN:GL000247.1\tLN:36422\tAS:NCBI37\tUR:ftp://ftp.1000genomes.ebi.ac.uk/vol1/ftp/technical/reference/human_g1k_v37.fasta.gz\tM5:7de00226bb7df1c57276ca6baabafd15\tSP:Human\n",
      "@SQ\tSN:GL000245.1\tLN:36651\tAS:NCBI37\tUR:ftp://ftp.1000genomes.ebi.ac.uk/vol1/ftp/technical/reference/human_g1k_v37.fasta.gz\tM5:89bc61960f37d94abf0df2d481ada0ec\tSP:Human\n",
      "@SQ\tSN:GL000197.1\tLN:37175\tAS:NCBI37\tUR:ftp://ftp.1000genomes.ebi.ac.uk/vol1/ftp/technical/reference/human_g1k_v37.fasta.gz\tM5:6f5efdd36643a9b8c8ccad6f2f1edc7b\tSP:Human\n",
      "@SQ\tSN:GL000203.1\tLN:37498\tAS:NCBI37\tUR:ftp://ftp.1000genomes.ebi.ac.uk/vol1/ftp/technical/reference/human_g1k_v37.fasta.gz\tM5:96358c325fe0e70bee73436e8bb14dbd\tSP:Human\n",
      "@SQ\tSN:GL000246.1\tLN:38154\tAS:NCBI37\tUR:ftp://ftp.1000genomes.ebi.ac.uk/vol1/ftp/technical/reference/human_g1k_v37.fasta.gz\tM5:e4afcd31912af9d9c2546acf1cb23af2\tSP:Human\n",
      "@SQ\tSN:GL000249.1\tLN:38502\tAS:NCBI37\tUR:ftp://ftp.1000genomes.ebi.ac.uk/vol1/ftp/technical/reference/human_g1k_v37.fasta.gz\tM5:1d78abec37c15fe29a275eb08d5af236\tSP:Human\n",
      "@SQ\tSN:GL000196.1\tLN:38914\tAS:NCBI37\tUR:ftp://ftp.1000genomes.ebi.ac.uk/vol1/ftp/technical/reference/human_g1k_v37.fasta.gz\tM5:d92206d1bb4c3b4019c43c0875c06dc0\tSP:Human\n",
      "@SQ\tSN:GL000248.1\tLN:39786\tAS:NCBI37\tUR:ftp://ftp.1000genomes.ebi.ac.uk/vol1/ftp/technical/reference/human_g1k_v37.fasta.gz\tM5:5a8e43bec9be36c7b49c84d585107776\tSP:Human\n",
      "@SQ\tSN:GL000244.1\tLN:39929\tAS:NCBI37\tUR:ftp://ftp.1000genomes.ebi.ac.uk/vol1/ftp/technical/reference/human_g1k_v37.fasta.gz\tM5:0996b4475f353ca98bacb756ac479140\tSP:Human\n",
      "@SQ\tSN:GL000238.1\tLN:39939\tAS:NCBI37\tUR:ftp://ftp.1000genomes.ebi.ac.uk/vol1/ftp/technical/reference/human_g1k_v37.fasta.gz\tM5:131b1efc3270cc838686b54e7c34b17b\tSP:Human\n",
      "@SQ\tSN:GL000202.1\tLN:40103\tAS:NCBI37\tUR:ftp://ftp.1000genomes.ebi.ac.uk/vol1/ftp/technical/reference/human_g1k_v37.fasta.gz\tM5:06cbf126247d89664a4faebad130fe9c\tSP:Human\n",
      "@SQ\tSN:GL000234.1\tLN:40531\tAS:NCBI37\tUR:ftp://ftp.1000genomes.ebi.ac.uk/vol1/ftp/technical/reference/human_g1k_v37.fasta.gz\tM5:93f998536b61a56fd0ff47322a911d4b\tSP:Human\n",
      "@SQ\tSN:GL000232.1\tLN:40652\tAS:NCBI37\tUR:ftp://ftp.1000genomes.ebi.ac.uk/vol1/ftp/technical/reference/human_g1k_v37.fasta.gz\tM5:3e06b6741061ad93a8587531307057d8\tSP:Human\n",
      "@SQ\tSN:GL000206.1\tLN:41001\tAS:NCBI37\tUR:ftp://ftp.1000genomes.ebi.ac.uk/vol1/ftp/technical/reference/human_g1k_v37.fasta.gz\tM5:43f69e423533e948bfae5ce1d45bd3f1\tSP:Human\n",
      "@SQ\tSN:GL000240.1\tLN:41933\tAS:NCBI37\tUR:ftp://ftp.1000genomes.ebi.ac.uk/vol1/ftp/technical/reference/human_g1k_v37.fasta.gz\tM5:445a86173da9f237d7bcf41c6cb8cc62\tSP:Human\n",
      "@SQ\tSN:GL000236.1\tLN:41934\tAS:NCBI37\tUR:ftp://ftp.1000genomes.ebi.ac.uk/vol1/ftp/technical/reference/human_g1k_v37.fasta.gz\tM5:fdcd739913efa1fdc64b6c0cd7016779\tSP:Human\n",
      "@SQ\tSN:GL000241.1\tLN:42152\tAS:NCBI37\tUR:ftp://ftp.1000genomes.ebi.ac.uk/vol1/ftp/technical/reference/human_g1k_v37.fasta.gz\tM5:ef4258cdc5a45c206cea8fc3e1d858cf\tSP:Human\n"
     ]
    },
    {
     "name": "stdout",
     "output_type": "stream",
     "text": [
      "@SQ\tSN:GL000243.1\tLN:43341\tAS:NCBI37\tUR:ftp://ftp.1000genomes.ebi.ac.uk/vol1/ftp/technical/reference/human_g1k_v37.fasta.gz\tM5:cc34279a7e353136741c9fce79bc4396\tSP:Human\n",
      "@SQ\tSN:GL000242.1\tLN:43523\tAS:NCBI37\tUR:ftp://ftp.1000genomes.ebi.ac.uk/vol1/ftp/technical/reference/human_g1k_v37.fasta.gz\tM5:2f8694fc47576bc81b5fe9e7de0ba49e\tSP:Human\n",
      "@SQ\tSN:GL000230.1\tLN:43691\tAS:NCBI37\tUR:ftp://ftp.1000genomes.ebi.ac.uk/vol1/ftp/technical/reference/human_g1k_v37.fasta.gz\tM5:b4eb71ee878d3706246b7c1dbef69299\tSP:Human\n",
      "@SQ\tSN:GL000237.1\tLN:45867\tAS:NCBI37\tUR:ftp://ftp.1000genomes.ebi.ac.uk/vol1/ftp/technical/reference/human_g1k_v37.fasta.gz\tM5:e0c82e7751df73f4f6d0ed30cdc853c0\tSP:Human\n",
      "@SQ\tSN:GL000233.1\tLN:45941\tAS:NCBI37\tUR:ftp://ftp.1000genomes.ebi.ac.uk/vol1/ftp/technical/reference/human_g1k_v37.fasta.gz\tM5:7fed60298a8d62ff808b74b6ce820001\tSP:Human\n",
      "@SQ\tSN:GL000204.1\tLN:81310\tAS:NCBI37\tUR:ftp://ftp.1000genomes.ebi.ac.uk/vol1/ftp/technical/reference/human_g1k_v37.fasta.gz\tM5:efc49c871536fa8d79cb0a06fa739722\tSP:Human\n",
      "@SQ\tSN:GL000198.1\tLN:90085\tAS:NCBI37\tUR:ftp://ftp.1000genomes.ebi.ac.uk/vol1/ftp/technical/reference/human_g1k_v37.fasta.gz\tM5:868e7784040da90d900d2d1b667a1383\tSP:Human\n",
      "@SQ\tSN:GL000208.1\tLN:92689\tAS:NCBI37\tUR:ftp://ftp.1000genomes.ebi.ac.uk/vol1/ftp/technical/reference/human_g1k_v37.fasta.gz\tM5:aa81be49bf3fe63a79bdc6a6f279abf6\tSP:Human\n",
      "@SQ\tSN:GL000191.1\tLN:106433\tAS:NCBI37\tUR:ftp://ftp.1000genomes.ebi.ac.uk/vol1/ftp/technical/reference/human_g1k_v37.fasta.gz\tM5:d75b436f50a8214ee9c2a51d30b2c2cc\tSP:Human\n",
      "@SQ\tSN:GL000227.1\tLN:128374\tAS:NCBI37\tUR:ftp://ftp.1000genomes.ebi.ac.uk/vol1/ftp/technical/reference/human_g1k_v37.fasta.gz\tM5:a4aead23f8053f2655e468bcc6ecdceb\tSP:Human\n",
      "@SQ\tSN:GL000228.1\tLN:129120\tAS:NCBI37\tUR:ftp://ftp.1000genomes.ebi.ac.uk/vol1/ftp/technical/reference/human_g1k_v37.fasta.gz\tM5:c5a17c97e2c1a0b6a9cc5a6b064b714f\tSP:Human\n",
      "@SQ\tSN:GL000214.1\tLN:137718\tAS:NCBI37\tUR:ftp://ftp.1000genomes.ebi.ac.uk/vol1/ftp/technical/reference/human_g1k_v37.fasta.gz\tM5:46c2032c37f2ed899eb41c0473319a69\tSP:Human\n",
      "@SQ\tSN:GL000221.1\tLN:155397\tAS:NCBI37\tUR:ftp://ftp.1000genomes.ebi.ac.uk/vol1/ftp/technical/reference/human_g1k_v37.fasta.gz\tM5:3238fb74ea87ae857f9c7508d315babb\tSP:Human\n",
      "@SQ\tSN:GL000209.1\tLN:159169\tAS:NCBI37\tUR:ftp://ftp.1000genomes.ebi.ac.uk/vol1/ftp/technical/reference/human_g1k_v37.fasta.gz\tM5:f40598e2a5a6b26e84a3775e0d1e2c81\tSP:Human\n",
      "@SQ\tSN:GL000218.1\tLN:161147\tAS:NCBI37\tUR:ftp://ftp.1000genomes.ebi.ac.uk/vol1/ftp/technical/reference/human_g1k_v37.fasta.gz\tM5:1d708b54644c26c7e01c2dad5426d38c\tSP:Human\n",
      "@SQ\tSN:GL000220.1\tLN:161802\tAS:NCBI37\tUR:ftp://ftp.1000genomes.ebi.ac.uk/vol1/ftp/technical/reference/human_g1k_v37.fasta.gz\tM5:fc35de963c57bf7648429e6454f1c9db\tSP:Human\n",
      "@SQ\tSN:GL000213.1\tLN:164239\tAS:NCBI37\tUR:ftp://ftp.1000genomes.ebi.ac.uk/vol1/ftp/technical/reference/human_g1k_v37.fasta.gz\tM5:9d424fdcc98866650b58f004080a992a\tSP:Human\n",
      "@SQ\tSN:GL000211.1\tLN:166566\tAS:NCBI37\tUR:ftp://ftp.1000genomes.ebi.ac.uk/vol1/ftp/technical/reference/human_g1k_v37.fasta.gz\tM5:7daaa45c66b288847b9b32b964e623d3\tSP:Human\n",
      "@SQ\tSN:GL000199.1\tLN:169874\tAS:NCBI37\tUR:ftp://ftp.1000genomes.ebi.ac.uk/vol1/ftp/technical/reference/human_g1k_v37.fasta.gz\tM5:569af3b73522fab4b40995ae4944e78e\tSP:Human\n",
      "@SQ\tSN:GL000217.1\tLN:172149\tAS:NCBI37\tUR:ftp://ftp.1000genomes.ebi.ac.uk/vol1/ftp/technical/reference/human_g1k_v37.fasta.gz\tM5:6d243e18dea1945fb7f2517615b8f52e\tSP:Human\n",
      "@SQ\tSN:GL000216.1\tLN:172294\tAS:NCBI37\tUR:ftp://ftp.1000genomes.ebi.ac.uk/vol1/ftp/technical/reference/human_g1k_v37.fasta.gz\tM5:642a232d91c486ac339263820aef7fe0\tSP:Human\n",
      "@SQ\tSN:GL000215.1\tLN:172545\tAS:NCBI37\tUR:ftp://ftp.1000genomes.ebi.ac.uk/vol1/ftp/technical/reference/human_g1k_v37.fasta.gz\tM5:5eb3b418480ae67a997957c909375a73\tSP:Human\n",
      "@SQ\tSN:GL000205.1\tLN:174588\tAS:NCBI37\tUR:ftp://ftp.1000genomes.ebi.ac.uk/vol1/ftp/technical/reference/human_g1k_v37.fasta.gz\tM5:d22441398d99caf673e9afb9a1908ec5\tSP:Human\n",
      "@SQ\tSN:GL000219.1\tLN:179198\tAS:NCBI37\tUR:ftp://ftp.1000genomes.ebi.ac.uk/vol1/ftp/technical/reference/human_g1k_v37.fasta.gz\tM5:f977edd13bac459cb2ed4a5457dba1b3\tSP:Human\n",
      "@SQ\tSN:GL000224.1\tLN:179693\tAS:NCBI37\tUR:ftp://ftp.1000genomes.ebi.ac.uk/vol1/ftp/technical/reference/human_g1k_v37.fasta.gz\tM5:d5b2fc04f6b41b212a4198a07f450e20\tSP:Human\n",
      "@SQ\tSN:GL000223.1\tLN:180455\tAS:NCBI37\tUR:ftp://ftp.1000genomes.ebi.ac.uk/vol1/ftp/technical/reference/human_g1k_v37.fasta.gz\tM5:399dfa03bf32022ab52a846f7ca35b30\tSP:Human\n",
      "@SQ\tSN:GL000195.1\tLN:182896\tAS:NCBI37\tUR:ftp://ftp.1000genomes.ebi.ac.uk/vol1/ftp/technical/reference/human_g1k_v37.fasta.gz\tM5:5d9ec007868d517e73543b005ba48535\tSP:Human\n",
      "@SQ\tSN:GL000212.1\tLN:186858\tAS:NCBI37\tUR:ftp://ftp.1000genomes.ebi.ac.uk/vol1/ftp/technical/reference/human_g1k_v37.fasta.gz\tM5:563531689f3dbd691331fd6c5730a88b\tSP:Human\n",
      "@SQ\tSN:GL000222.1\tLN:186861\tAS:NCBI37\tUR:ftp://ftp.1000genomes.ebi.ac.uk/vol1/ftp/technical/reference/human_g1k_v37.fasta.gz\tM5:6fe9abac455169f50470f5a6b01d0f59\tSP:Human\n",
      "@SQ\tSN:GL000200.1\tLN:187035\tAS:NCBI37\tUR:ftp://ftp.1000genomes.ebi.ac.uk/vol1/ftp/technical/reference/human_g1k_v37.fasta.gz\tM5:75e4c8d17cd4addf3917d1703cacaf25\tSP:Human\n",
      "@SQ\tSN:GL000193.1\tLN:189789\tAS:NCBI37\tUR:ftp://ftp.1000genomes.ebi.ac.uk/vol1/ftp/technical/reference/human_g1k_v37.fasta.gz\tM5:dbb6e8ece0b5de29da56601613007c2a\tSP:Human\n",
      "@SQ\tSN:GL000194.1\tLN:191469\tAS:NCBI37\tUR:ftp://ftp.1000genomes.ebi.ac.uk/vol1/ftp/technical/reference/human_g1k_v37.fasta.gz\tM5:6ac8f815bf8e845bb3031b73f812c012\tSP:Human\n",
      "@SQ\tSN:GL000225.1\tLN:211173\tAS:NCBI37\tUR:ftp://ftp.1000genomes.ebi.ac.uk/vol1/ftp/technical/reference/human_g1k_v37.fasta.gz\tM5:63945c3e6962f28ffd469719a747e73c\tSP:Human\n",
      "@SQ\tSN:GL000192.1\tLN:547496\tAS:NCBI37\tUR:ftp://ftp.1000genomes.ebi.ac.uk/vol1/ftp/technical/reference/human_g1k_v37.fasta.gz\tM5:325ba9e808f669dfeee210fdd7b470ac\tSP:Human\n",
      "@RG\tID:ERR003612\tPL:ILLUMINA\tLB:g1k-sc-NA20538-TOS-1\tPI:2000\tDS:SRP000540\tSM:NA20538\tCN:SC\n",
      "@RG\tID:ERR003761\tPL:ILLUMINA\tLB:g1k-sc-NA20538-TOS-1\tPI:2000\tDS:SRP000540\tSM:NA20538\tCN:SC\n",
      "@RG\tID:ERR003762\tPL:ILLUMINA\tLB:g1k-sc-NA20538-TOS-1\tPI:2000\tDS:SRP000540\tSM:NA20538\tCN:SC\n",
      "@RG\tID:ERR003763\tPL:ILLUMINA\tLB:g1k-sc-NA20538-TOS-1\tPI:2000\tDS:SRP000540\tSM:NA20538\tCN:SC\n",
      "@RG\tID:ERR003764\tPL:ILLUMINA\tLB:g1k-sc-NA20538-TOS-1\tPI:2000\tDS:SRP000540\tSM:NA20538\tCN:SC\n",
      "@RG\tID:ERR003765\tPL:ILLUMINA\tLB:g1k-sc-NA20538-TOS-1\tPI:2000\tDS:SRP000540\tSM:NA20538\tCN:SC\n",
      "@RG\tID:ERR003766\tPL:ILLUMINA\tLB:g1k-sc-NA20538-TOS-1\tPI:2000\tDS:SRP000540\tSM:NA20538\tCN:SC\n",
      "@RG\tID:ERR003767\tPL:ILLUMINA\tLB:g1k-sc-NA20538-TOS-1\tPI:2000\tDS:SRP000540\tSM:NA20538\tCN:SC\n",
      "@RG\tID:ERR003811\tPL:ILLUMINA\tLB:g1k-sc-NA20538-TOS-1\tPI:2000\tDS:SRP000540\tSM:NA20538\tCN:SC\n",
      "@RG\tID:ERR003812\tPL:ILLUMINA\tLB:g1k-sc-NA20538-TOS-1\tPI:2000\tDS:SRP000540\tSM:NA20538\tCN:SC\n",
      "@RG\tID:ERR003813\tPL:ILLUMINA\tLB:g1k-sc-NA20538-TOS-1\tPI:2000\tDS:SRP000540\tSM:NA20538\tCN:SC\n",
      "@RG\tID:ERR003814\tPL:ILLUMINA\tLB:g1k-sc-NA20538-TOS-1\tPI:2000\tDS:SRP000540\tSM:NA20538\tCN:SC\n",
      "@RG\tID:ERR003815\tPL:ILLUMINA\tLB:g1k-sc-NA20538-TOS-1\tPI:2000\tDS:SRP000540\tSM:NA20538\tCN:SC\n",
      "@RG\tID:ERR003816\tPL:ILLUMINA\tLB:g1k-sc-NA20538-TOS-1\tPI:2000\tDS:SRP000540\tSM:NA20538\tCN:SC\n",
      "@RG\tID:ERR015472\tPL:ILLUMINA\tLB:g1k-sc-NA20538-A\tPI:450\tDS:SRP000540\tSM:NA20538\tCN:SC\n",
      "@PG\tID:GATK IndelRealigner\tVN:1.0.4487\tCL:SNPsFileForDebugging=null targetIntervals=/lustre/scratch105/projects/g1k/ref/broad_recal_data/pilot_data/indel.dbsnp_129_b37-vs-pilot.intervals output=null useOnlyKnownIndels=true maxReadsForConsensuses=120 maxConsensuses=30 entropyThreshold=0.15 indelsFileForDebugging=null noOriginalAlignmentTags=false realignReadsWithBadMates=false maxReadsForRealignment=20000 noPGTag=false LODThresholdForCleaning=0.4 maxReadsInRam=500000 targetIntervalsAreNotSorted=false sortInCoordinateOrderEvenThoughItIsHighlyUnsafe=false statisticsFileForDebugging=null\n",
      "@PG\tID:GATK TableRecalibration\tVN:1.0.4487\tCL:output_bam=null window_size_nqs=5 force_read_group=null smoothing=1 default_platform=ILLUMINA exception_if_no_tile=false homopolymer_nback=7 no_pg_tag=false skipUQUpdate=false default_read_group=RG max_quality_score=40 fail_with_no_eof_marker=true solid_recal_mode=SET_Q_ZERO solid_nocall_strategy=THROW_EXCEPTION force_platform=null preserve_qscores_less_than=5 Covariates=[ReadGroupCovariate, QualityScoreCovariate, CycleCovariate, DinucCovariate] pQ=5 maxQ=40 smoothing=1\n"
     ]
    },
    {
     "name": "stdout",
     "output_type": "stream",
     "text": [
      "@PG\tID:bwa\tVN:0.5.5\n",
      "@PG\tID:samtools\tPN:samtools\tPP:bwa\tVN:1.12\tCL:samtools view -H NA20538.bam\n"
     ]
    }
   ],
   "source": [
    "samtools view -H NA20538.bam"
   ]
  },
  {
   "cell_type": "markdown",
   "metadata": {},
   "source": [
    "### Exercises\n",
    "__Q13: What version of the human assembly was used to perform the alignments? (Hint: Can you spot this somewhere in the @SQ records?)__"
   ]
  },
  {
   "cell_type": "markdown",
   "metadata": {},
   "source": [
    "AS:NCBI37 "
   ]
  },
  {
   "cell_type": "markdown",
   "metadata": {},
   "source": [
    "__Q14: How many lanes are in this BAM file? (Hint: Do you recall what RG represents?)__"
   ]
  },
  {
   "cell_type": "markdown",
   "metadata": {},
   "source": [
    "16"
   ]
  },
  {
   "cell_type": "markdown",
   "metadata": {},
   "source": [
    "__Q15: What version of bwa was used to align the reads? (Hint: is there anything in the @PG record that looks like it could be a version tag?)__  "
   ]
  },
  {
   "cell_type": "markdown",
   "metadata": {},
   "source": [
    "VN:0.5.5"
   ]
  },
  {
   "cell_type": "markdown",
   "metadata": {},
   "source": [
    "The output from running samtools view on a BAM file without any options is a headerless SAM file. This gets printed to STDOUT in the terminal, so we will want to pipe it to something. Let's have a look at the first read of the BAM file:"
   ]
  },
  {
   "cell_type": "code",
   "execution_count": 20,
   "metadata": {},
   "outputs": [
    {
     "name": "stdout",
     "output_type": "stream",
     "text": [
      "ERR003814.1408899\t163\t1\t19999970\t23\t37M\t=\t20000147\t213\tGGTGGGTGGATCACCTGAGATCGGGAGTTTGAGACTA\t<=@A@??@=@A@A>@BAA@ABA:>@<>=BBB9@@2B3\tX0:i:1\tX1:i:20\tMD:Z:37\tRG:Z:ERR003814\tAM:i:0\tNM:i:0\tSM:i:23\tMQ:i:29\tXT:A:U\tBQ:Z:@@@@@@@@@@@@@@@@@@@@@@@@@@@@@@@@@@@@@\n",
      "samtools view: writing to standard output failed: Broken pipe\n",
      "samtools view: error closing standard output: -1\n"
     ]
    }
   ],
   "source": [
    "samtools view NA20538.bam | head -n 1"
   ]
  },
  {
   "cell_type": "markdown",
   "metadata": {},
   "source": [
    "__Q16: What is the name of the first read? (Hint: have a look at the alignment section if you can't recall the different fields)__"
   ]
  },
  {
   "cell_type": "markdown",
   "metadata": {},
   "source": [
    "ERR003814.1408899"
   ]
  },
  {
   "cell_type": "markdown",
   "metadata": {},
   "source": [
    "__Q17: What position does the alignment of the read start at?__"
   ]
  },
  {
   "cell_type": "markdown",
   "metadata": {},
   "source": [
    "19999970"
   ]
  },
  {
   "cell_type": "markdown",
   "metadata": {},
   "source": [
    "## Indexing\n",
    "To allow for fast random access of regions in BAM and CRAM files, they can be indexed. The files must first be coordinate-sorted rather that sorted by read name. This can be done using __samtools sort__. If no options are supplied, it will by default sort by the left-most position of the reference."
   ]
  },
  {
   "cell_type": "code",
   "execution_count": 22,
   "metadata": {},
   "outputs": [],
   "source": [
    "samtools sort -o NA20538_sorted.bam NA20538.bam"
   ]
  },
  {
   "cell_type": "markdown",
   "metadata": {},
   "source": [
    "Now we can use __samtools index__ to create an index file (.bai) for our sorted BAM file:"
   ]
  },
  {
   "cell_type": "code",
   "execution_count": 23,
   "metadata": {},
   "outputs": [],
   "source": [
    "samtools index NA20538_sorted.bam"
   ]
  },
  {
   "cell_type": "code",
   "execution_count": 24,
   "metadata": {},
   "outputs": [
    {
     "name": "stdout",
     "output_type": "stream",
     "text": [
      "1kg.bcf\t\t\t   FileTypeNotes.ipynb\t   ngs_overview.pdf\n",
      "data_formats_and_qc.ipynb  NA20538.bam\t\t   ngs_qc.pdf\n",
      "example.fastq\t\t   NA20538_sorted.bam\t   ngs_qc.Rmd\n",
      "example.sam\t\t   NA20538_sorted.bam.bai  SAMv1.pdf\n",
      "example.tgz\t\t   ngs\n"
     ]
    }
   ],
   "source": [
    "ls"
   ]
  },
  {
   "cell_type": "markdown",
   "metadata": {},
   "source": [
    "To look for reads mapped to a specific region, we can use __samtools view__ and specify the region we are interested in as: RNAME[:STARTPOS[-ENDPOS]]. For example, if we wanted to look at all the reads mapped to a region called chr4, we could use:\n",
    "\n",
    "``samtools view alignment.bam chr4``\n",
    "\n",
    "To look at the region on chr4 beginning at position 1,000,000 and ending at the end of the chromosome, we can do:\n",
    "\n",
    "  ``samtools view alignment.bam chr4:1000000``\n",
    "  \n",
    "And to explore the 1001bp long region on chr4 beginning at position 1,000 and ending at position 2,000, we can use:\n",
    "\n",
    "  ``samtools view alignment.bam chr4:1000-2000``"
   ]
  },
  {
   "cell_type": "markdown",
   "metadata": {},
   "source": [
    "### Exercises \n",
    "__Q18: How many reads are mapped to region 20025000-20030000 on chromosome 1?__"
   ]
  },
  {
   "cell_type": "code",
   "execution_count": 25,
   "metadata": {},
   "outputs": [
    {
     "name": "stdout",
     "output_type": "stream",
     "text": [
      "320\n"
     ]
    }
   ],
   "source": [
    "samtools view NA20538_sorted.bam 1:20025000-20030000 | wc -l"
   ]
  },
  {
   "cell_type": "markdown",
   "metadata": {},
   "source": [
    "## VCF\n",
    "The VCF file format was introduced to store variation data. VCF consists of tab-delimited text and is parsable by standard UNIX commands which makes it flexible and user-extensible. \n",
    "\n",
    "### VCF header\n",
    "The VCF header consists of meta-information lines (starting with `##`) and a header line (starting with `#`). All meta-information lines are optional and can be put in any order, except for _fileformat_. This holds the information about which version of VCF is used and must come first. \n",
    "\n",
    "The meta-information lines consist of key=value pairs. Examples of meta-information lines that can be included are ##INFO, ##FORMAT and ##reference. The values can consist of multiple fields enclosed by `<>`. More information about these fields is available in the VCF specification [http://samtools.github.io/hts-specs/VCFv4.3.pdf](http://samtools.github.io/hts-specs/VCFv4.3.pdf). This can be accessed using a web browser and there is a copy in the QC directory.\n",
    "\n",
    "#### Header line\n",
    "The header line starts with `#` and consists of 8 required fields:\n",
    "\n",
    "1. CHROM: an identifier from the reference genome\n",
    "2. POS: the reference position\n",
    "3. ID: a list of unique identifiers (where available)\n",
    "4. REF: the reference base(s)\n",
    "5. ALT: the alternate base(s)\n",
    "6. QUAL: a phred-scaled quality score\n",
    "7. FILTER: filter status\n",
    "8. INFO: additional information\n",
    "\n",
    "If the file contains genotype data, the required fields are also followed by a FORMAT column header, and then a number of sample IDs. The FORMAT field specifies the data types and order. Some examples of these data types are:\n",
    "\n",
    "* GT: Genotype, encoded as allele values separated by either / or |\n",
    "* DP: Read depth at this position for this sample\n",
    "* GQ: Conditional genotype quality, encoded as a phred quality\n",
    "\n",
    "### Body\n",
    "In the body of the VCF, each row contains information about a position in the genome along with genotype information on samples for each position, all according to the fields in the header line.\n",
    "\n",
    "## BCF\n",
    "\n",
    "BCF is a compressed binary representation of VCF.\n",
    "\n",
    "VCF can be compressed with BGZF (bgzip) and  indexed with TBI or CSI (tabix), but even compressed it can still be very big. For example, a compressed VCF with 3781 samples of human data will be 54 GB for chromosome 1, and 680 GB for the whole genome. VCFs can also be slow to parse, as text conversion is slow. The main bottleneck is the \"FORMAT\" fields. For this reason the BCF format was developed. \n",
    "\n",
    "In BCF files the fields are rearranged for fast access. The following images show the process of converting a VCF file into a BCF file. \n",
    "\n",
    "Bcftools comprises a set of programs for interacting with VCF and BCF files. It can be used to convert between VCF and BCF and to view or extract records from a region.\n",
    "\n",
    "### bcftools view  \n",
    "Let's have a look at the header of the file 1kg.bcf in the data directory. Note that bcftools uses __`-h`__ to print only the header, while samtools uses __`-H`__ for this. "
   ]
  },
  {
   "cell_type": "code",
   "execution_count": 26,
   "metadata": {},
   "outputs": [
    {
     "name": "stdout",
     "output_type": "stream",
     "text": [
      "##fileformat=VCFv4.2\n",
      "##FILTER=<ID=PASS,Description=\"All filters passed\">\n",
      "##samtoolsVersion=1.2-29-gca44680+htslib-1.2.1-50-g66e5ef4\n",
      "##samtoolsCommand=samtools mpileup -gu -t DP -I -f ref/human/GRCh37/hs37d5.fa -b bams.chr20.list\n",
      "##reference=file:///ref/human/GRCh37/hs37d5.fa\n",
      "##bcftools_callVersion=1.2-208-gcdcf7e1+htslib-1.2.1-158-g6876a07\n",
      "##bcftools_callCommand=call -mv -Oz -o chr20.dp.vcf.gz\n",
      "##contig=<ID=1,length=249250621>\n",
      "##contig=<ID=2,length=243199373>\n",
      "##contig=<ID=3,length=198022430>\n",
      "##contig=<ID=4,length=191154276>\n",
      "##contig=<ID=5,length=180915260>\n",
      "##contig=<ID=6,length=171115067>\n",
      "##contig=<ID=7,length=159138663>\n",
      "##contig=<ID=8,length=146364022>\n",
      "##contig=<ID=9,length=141213431>\n",
      "##contig=<ID=10,length=135534747>\n",
      "##contig=<ID=11,length=135006516>\n",
      "##contig=<ID=12,length=133851895>\n",
      "##contig=<ID=13,length=115169878>\n",
      "##contig=<ID=14,length=107349540>\n",
      "##contig=<ID=15,length=102531392>\n",
      "##contig=<ID=16,length=90354753>\n",
      "##contig=<ID=17,length=81195210>\n",
      "##contig=<ID=18,length=78077248>\n",
      "##contig=<ID=19,length=59128983>\n",
      "##contig=<ID=20,length=63025520>\n",
      "##contig=<ID=21,length=48129895>\n",
      "##contig=<ID=22,length=51304566>\n",
      "##contig=<ID=X,length=155270560>\n",
      "##contig=<ID=Y,length=59373566>\n",
      "##contig=<ID=MT,length=16569>\n",
      "##FORMAT=<ID=PL,Number=G,Type=Integer,Description=\"List of Phred-scaled genotype likelihoods\">\n",
      "##FORMAT=<ID=DP,Number=1,Type=Integer,Description=\"Number of high-quality bases\">\n",
      "##FORMAT=<ID=GT,Number=1,Type=String,Description=\"Genotype\">\n",
      "##INFO=<ID=AN,Number=1,Type=Integer,Description=\"Total number of alleles in called genotypes\">\n",
      "##INFO=<ID=AC,Number=A,Type=Integer,Description=\"Allele count in genotypes\">\n",
      "##INFO=<ID=AC_Hom,Number=A,Type=Integer,Description=\"Allele counts in homozygous genotypes\">\n",
      "##INFO=<ID=AC_Het,Number=A,Type=Integer,Description=\"Allele counts in heterozygous genotypes\">\n",
      "##INFO=<ID=AC_Hemi,Number=A,Type=Integer,Description=\"Allele counts in hemizygous genotypes\">\n",
      "##bcftools_viewVersion=1.12+htslib-1.12\n",
      "##bcftools_viewCommand=view -h 1kg.bcf; Date=Tue Nov  9 15:12:46 2021\n",
      "#CHROM\tPOS\tID\tREF\tALT\tQUAL\tFILTER\tINFO\tFORMAT\tHG00096\tHG00097\tHG00099\tHG00100\tHG00101\tHG00102\tHG00103\tHG00105\tHG00106\tHG00107\tHG00108\tHG00109\tHG00110\tHG00111\tHG00112\tHG00113\tHG00114\tHG00115\tHG00116\tHG00117\tHG00118\tHG00119\tHG00120\tHG00121\tHG00122\tHG00123\tHG00124\tHG00125\tHG00126\tHG00127\tHG00128\tHG00129\tHG00130\tHG00131\tHG00132\tHG00133\tHG00136\tHG00137\tHG00138\tHG00139\tHG00140\tHG00141\tHG00142\tHG00143\tHG00145\tHG00146\tHG00148\tHG00149\tHG00150\tHG00151\n"
     ]
    }
   ],
   "source": [
    "bcftools view -h 1kg.bcf"
   ]
  },
  {
   "cell_type": "markdown",
   "metadata": {},
   "source": [
    "Similarly to BAM, BCF supports random access, that is, fast retrieval from a given region. For this, the file must be indexed:"
   ]
  },
  {
   "cell_type": "code",
   "execution_count": 27,
   "metadata": {},
   "outputs": [],
   "source": [
    "bcftools index 1kg.bcf"
   ]
  },
  {
   "cell_type": "markdown",
   "metadata": {},
   "source": [
    "Now we can extract all records from the region 20:24042765-24043073, using the __`-r`__ option. The __`-H`__ option will make sure we don't include the header in the output:"
   ]
  },
  {
   "cell_type": "code",
   "execution_count": 28,
   "metadata": {},
   "outputs": [
    {
     "name": "stdout",
     "output_type": "stream",
     "text": [
      "20\t24042765\t.\tA\tT\t445\t.\tAN=100;AC=5;AC_Het=5;AC_Hom=0;AC_Hemi=0\tGT:PL:DP\t0/1:42,3,0:1\t0/0:0,18,166:6\t0/0:0,27,255:9\t0/1:158,0,93:10\t0/1:121,0,87:7\t0/0:0,15,166:5\t0/0:0,6,100:2\t0/0:0,39,255:13\t0/0:0,15,155:5\t0/0:0,21,215:7\t0/0:0,12,138:4\t0/0:0,24,212:8\t0/0:0,12,127:4\t0/0:0,24,209:8\t0/0:0,15,185:5\t0/0:0,27,255:9\t0/0:0,9,110:3\t0/0:0,9,95:3\t0/0:0,18,165:6\t0/0:0,24,216:8\t0/0:0,27,247:9\t0/0:0,3,30:1\t0/0:0,9,77:3\t0/0:0,12,119:4\t0/0:0,21,201:7\t0/0:0,12,127:4\t0/0:0,45,255:15\t0/0:0,3,32:1\t0/0:0,30,255:10\t0/0:0,21,216:7\t0/0:0,15,162:5\t0/1:53,0,130:6\t0/0:0,12,142:4\t0/0:0,12,114:4\t0/0:0,33,255:11\t0/0:0,39,255:13\t0/0:0,15,174:5\t0/0:0,12,120:4\t0/0:0,24,228:8\t0/0:0,30,255:10\t0/1:166,0,42:8\t0/0:0,27,248:9\t0/0:0,6,78:2\t0/0:0,45,255:15\t0/0:0,9,99:3\t0/0:0,15,143:5\t0/0:0,33,255:11\t0/0:0,15,158:5\t0/0:0,9,111:3\t0/0:0,12,130:4\n",
      "20\t24042793\t.\tG\tA\t734\t.\tAN=100;AC=7;AC_Het=7;AC_Hom=0;AC_Hemi=0\tGT:PL:DP\t0/1:35,3,0:1\t0/0:0,15,151:5\t0/0:0,36,255:12\t0/1:176,0,138:12\t0/1:120,0,87:7\t0/0:0,9,106:3\t0/0:0,12,166:4\t0/0:0,30,255:10\t0/0:0,18,195:6\t0/0:0,27,228:9\t0/0:0,9,108:3\t0/0:0,24,223:8\t0/0:0,21,197:7\t0/0:0,18,190:6\t0/0:0,18,191:6\t0/0:0,42,255:14\t0/0:0,21,184:7\t0/0:0,15,153:5\t0/0:0,12,106:4\t0/0:0,18,183:6\t0/0:0,21,203:7\t0/0:0,6,66:2\t0/0:0,12,122:4\t0/0:0,12,112:4\t0/0:0,21,212:7\t0/0:0,21,196:7\t0/0:0,45,255:15\t0/1:40,3,0:1\t0/0:0,36,255:12\t0/0:0,12,158:4\t0/0:0,12,117:4\t0/1:72,0,63:5\t0/0:0,12,138:4\t0/0:0,12,130:4\t0/0:0,21,208:7\t0/0:0,33,246:11\t0/0:0,9,107:3\t0/0:0,15,151:5\t0/0:0,39,255:13\t0/0:0,42,255:14\t0/1:185,0,169:14\t0/0:0,21,223:7\t0/0:0,3,38:1\t0/1:223,0,106:13\t0/0:0,15,168:5\t0/0:0,9,94:3\t0/0:0,39,255:13\t0/0:0,18,189:6\t0/0:0,6,82:2\t0/0:0,12,136:4\n",
      "20\t24042907\t.\tG\tA\t311\t.\tAN=98;AC=5;AC_Het=5;AC_Hom=0;AC_Hemi=0\tGT:PL:DP\t0/0:0,15,157:5\t0/0:0,24,232:8\t0/0:0,21,207:7\t0/1:174,0,234:18\t0/1:61,0,115:7\t0/0:0,21,192:7\t0/0:0,15,215:5\t0/0:0,30,255:10\t0/0:0,6,52:2\t0/0:0,24,230:8\t0/0:0,3,32:1\t0/0:0,33,255:11\t0/0:0,21,206:7\t0/0:0,9,102:3\t0/0:0,15,170:5\t0/0:0,27,240:9\t0/0:0,3,24:1\t0/0:0,9,111:3\t0/0:0,9,99:3\t0/0:0,33,255:11\t0/0:0,24,248:8\t0/0:0,15,156:5\t0/0:0,6,57:2\t0/0:0,36,255:12\t0/0:0,24,227:8\t0/0:0,24,180:8\t0/0:0,30,239:10\t0/1:52,0,40:4\t0/0:0,24,235:8\t0/0:0,21,211:7\t0/0:0,9,114:3\t0/1:50,0,71:4\t0/0:0,9,100:3\t0/0:0,24,205:8\t0/0:0,33,255:11\t0/0:0,18,168:6\t0/0:0,3,36:1\t./.:0,0,0:0\t0/0:0,24,204:8\t0/0:0,27,237:9\t0/1:66,0,115:8\t0/0:0,12,111:4\t0/0:0,6,62:2\t0/0:0,24,217:8\t0/0:0,18,197:6\t0/0:0,15,140:5\t0/0:0,33,255:11\t0/0:0,18,176:6\t0/0:0,3,36:1\t0/0:0,6,56:2\n",
      "20\t24043073\t.\tG\tA\t824\t.\tAN=100;AC=10;AC_Het=8;AC_Hom=2;AC_Hemi=0\tGT:PL:DP\t0/0:0,18,207:6\t0/0:0,42,255:14\t0/0:0,30,255:10\t0/0:0,48,255:16\t0/0:0,15,165:5\t0/0:0,12,124:4\t0/0:0,21,233:7\t0/0:0,18,171:6\t0/0:0,9,90:3\t0/0:0,27,248:9\t0/0:0,9,83:3\t0/1:95,0,78:6\t0/0:0,24,203:8\t0/0:0,15,173:5\t0/0:0,9,99:3\t0/1:95,0,97:6\t0/0:0,6,52:2\t0/1:104,0,106:8\t0/1:102,0,44:5\t0/0:0,12,129:4\t0/0:0,33,255:11\t0/1:32,3,0:1\t0/0:0,12,118:4\t1/1:193,24,0:8\t0/0:0,18,173:6\t0/0:0,6,65:2\t0/0:0,30,207:10\t0/0:0,9,89:3\t0/0:0,12,135:4\t0/0:0,6,71:2\t0/0:0,27,255:9\t0/0:0,9,102:3\t0/1:118,0,72:7\t0/0:0,6,63:2\t0/0:0,24,201:8\t0/0:0,21,169:7\t0/0:0,9,82:3\t0/0:0,3,23:1\t0/0:0,9,92:3\t0/1:67,0,25:3\t0/0:0,21,186:7\t0/0:0,15,153:5\t0/0:0,6,63:2\t0/0:0,27,251:9\t0/0:0,9,109:3\t0/0:0,30,240:10\t0/1:156,0,144:13\t0/0:0,18,196:6\t0/0:0,6,67:2\t0/0:0,3,39:1\n"
     ]
    }
   ],
   "source": [
    "bcftools view -H -r 20:24042765-24043073 1kg.bcf"
   ]
  },
  {
   "cell_type": "markdown",
   "metadata": {},
   "source": [
    "### bcftools query  \n",
    "The versatile __bcftools query__ command can be used to extract any VCF field. Combined with standard UNIX commands, this gives a powerful tool for quick querying of VCFs. Have a look at the usage options:"
   ]
  },
  {
   "cell_type": "code",
   "execution_count": 29,
   "metadata": {},
   "outputs": [
    {
     "name": "stdout",
     "output_type": "stream",
     "text": [
      "\n",
      "About:   Extracts fields from VCF/BCF file and prints them in user-defined format\n",
      "Usage:   bcftools query [options] <A.vcf.gz> [<B.vcf.gz> [...]]\n",
      "\n",
      "Options:\n",
      "    -e, --exclude <expr>              exclude sites for which the expression is true (see man page for details)\n",
      "    -f, --format <string>             see man page for details\n",
      "    -H, --print-header                print header\n",
      "    -i, --include <expr>              select sites for which the expression is true (see man page for details)\n",
      "    -l, --list-samples                print the list of samples and exit\n",
      "    -o, --output <file>               output file name [stdout]\n",
      "    -r, --regions <region>            restrict to comma-separated list of regions\n",
      "    -R, --regions-file <file>         restrict to regions listed in a file\n",
      "    -s, --samples <list>              list of samples to include\n",
      "    -S, --samples-file <file>         file of samples to include\n",
      "    -t, --targets <region>            similar to -r but streams rather than index-jumps\n",
      "    -T, --targets-file <file>         similar to -R but streams rather than index-jumps\n",
      "    -u, --allow-undef-tags            print \".\" for undefined tags\n",
      "    -v, --vcf-list <file>             process multiple VCFs listed in the file\n",
      "\n",
      "Examples:\n",
      "\tbcftools query -f '%CHROM\\t%POS\\t%REF\\t%ALT[\\t%SAMPLE=%GT]\\n' file.vcf.gz\n",
      "\n"
     ]
    },
    {
     "ename": "",
     "evalue": "1",
     "output_type": "error",
     "traceback": []
    }
   ],
   "source": [
    "bcftools query -h"
   ]
  },
  {
   "cell_type": "markdown",
   "metadata": {},
   "source": [
    "Let's try out some useful options. As you can see from the usage, __`-l`__ will print a list of all the samples in the file. Give this a go:"
   ]
  },
  {
   "cell_type": "code",
   "execution_count": 30,
   "metadata": {},
   "outputs": [
    {
     "name": "stdout",
     "output_type": "stream",
     "text": [
      "HG00096\n",
      "HG00097\n",
      "HG00099\n",
      "HG00100\n",
      "HG00101\n",
      "HG00102\n",
      "HG00103\n",
      "HG00105\n",
      "HG00106\n",
      "HG00107\n",
      "HG00108\n",
      "HG00109\n",
      "HG00110\n",
      "HG00111\n",
      "HG00112\n",
      "HG00113\n",
      "HG00114\n",
      "HG00115\n",
      "HG00116\n",
      "HG00117\n",
      "HG00118\n",
      "HG00119\n",
      "HG00120\n",
      "HG00121\n",
      "HG00122\n",
      "HG00123\n",
      "HG00124\n",
      "HG00125\n",
      "HG00126\n",
      "HG00127\n",
      "HG00128\n",
      "HG00129\n",
      "HG00130\n",
      "HG00131\n",
      "HG00132\n",
      "HG00133\n",
      "HG00136\n",
      "HG00137\n",
      "HG00138\n",
      "HG00139\n",
      "HG00140\n",
      "HG00141\n",
      "HG00142\n",
      "HG00143\n",
      "HG00145\n",
      "HG00146\n",
      "HG00148\n",
      "HG00149\n",
      "HG00150\n",
      "HG00151\n"
     ]
    }
   ],
   "source": [
    "bcftools query -l 1kg.bcf"
   ]
  },
  {
   "cell_type": "markdown",
   "metadata": {},
   "source": [
    "Another very useful option is __`-s`__ which allows you to extract all the data relating to a particular sample. This is a [common option](http://samtools.github.io/bcftools/bcftools.html#common_options) meaning it can be used for many bcftools commands, like `bcftools view`. Try this for sample HG00131:"
   ]
  },
  {
   "cell_type": "code",
   "execution_count": 31,
   "metadata": {},
   "outputs": [
    {
     "name": "stdout",
     "output_type": "stream",
     "text": [
      "##fileformat=VCFv4.2\n",
      "##FILTER=<ID=PASS,Description=\"All filters passed\">\n",
      "##samtoolsVersion=1.2-29-gca44680+htslib-1.2.1-50-g66e5ef4\n",
      "##samtoolsCommand=samtools mpileup -gu -t DP -I -f ref/human/GRCh37/hs37d5.fa -b bams.chr20.list\n",
      "##reference=file:///ref/human/GRCh37/hs37d5.fa\n",
      "##bcftools_callVersion=1.2-208-gcdcf7e1+htslib-1.2.1-158-g6876a07\n",
      "##bcftools_callCommand=call -mv -Oz -o chr20.dp.vcf.gz\n",
      "##contig=<ID=1,length=249250621>\n",
      "##contig=<ID=2,length=243199373>\n",
      "##contig=<ID=3,length=198022430>\n",
      "##contig=<ID=4,length=191154276>\n",
      "##contig=<ID=5,length=180915260>\n",
      "##contig=<ID=6,length=171115067>\n",
      "##contig=<ID=7,length=159138663>\n",
      "##contig=<ID=8,length=146364022>\n",
      "##contig=<ID=9,length=141213431>\n",
      "##contig=<ID=10,length=135534747>\n",
      "##contig=<ID=11,length=135006516>\n",
      "##contig=<ID=12,length=133851895>\n",
      "##contig=<ID=13,length=115169878>\n",
      "##contig=<ID=14,length=107349540>\n",
      "##contig=<ID=15,length=102531392>\n",
      "##contig=<ID=16,length=90354753>\n",
      "##contig=<ID=17,length=81195210>\n",
      "##contig=<ID=18,length=78077248>\n",
      "##contig=<ID=19,length=59128983>\n",
      "##contig=<ID=20,length=63025520>\n",
      "##contig=<ID=21,length=48129895>\n",
      "##contig=<ID=22,length=51304566>\n",
      "##contig=<ID=X,length=155270560>\n",
      "##contig=<ID=Y,length=59373566>\n",
      "##contig=<ID=MT,length=16569>\n",
      "##FORMAT=<ID=PL,Number=G,Type=Integer,Description=\"List of Phred-scaled genotype likelihoods\">\n",
      "##FORMAT=<ID=DP,Number=1,Type=Integer,Description=\"Number of high-quality bases\">\n",
      "##FORMAT=<ID=GT,Number=1,Type=String,Description=\"Genotype\">\n",
      "##INFO=<ID=AN,Number=1,Type=Integer,Description=\"Total number of alleles in called genotypes\">\n",
      "##INFO=<ID=AC,Number=A,Type=Integer,Description=\"Allele count in genotypes\">\n",
      "##INFO=<ID=AC_Hom,Number=A,Type=Integer,Description=\"Allele counts in homozygous genotypes\">\n",
      "##INFO=<ID=AC_Het,Number=A,Type=Integer,Description=\"Allele counts in heterozygous genotypes\">\n",
      "##INFO=<ID=AC_Hemi,Number=A,Type=Integer,Description=\"Allele counts in hemizygous genotypes\">\n",
      "##bcftools_viewVersion=1.12+htslib-1.12\n",
      "##bcftools_viewCommand=view -s HG00131 1kg.bcf; Date=Tue Nov  9 15:13:35 2021\n",
      "#CHROM\tPOS\tID\tREF\tALT\tQUAL\tFILTER\tINFO\tFORMAT\tHG00131\n",
      "20\t23946362\t.\tG\tA\t84\t.\tAN=2;AC=0;AC_Het=2;AC_Hom=0;AC_Hemi=0\tGT:PL:DP\t0/0:0,12,95:4\n",
      "20\t23946710\t.\tC\tT\t999\t.\tAN=2;AC=2;AC_Het=4;AC_Hom=90;AC_Hemi=0\tGT:PL:DP\t1/1:76,9,0:3\n",
      "20\t23947133\t.\tC\tT\t118\t.\tAN=2;AC=0;AC_Het=1;AC_Hom=0;AC_Hemi=0\tGT:PL:DP\t0/0:0,9,87:3\n",
      "20\t23947416\t.\tC\tT\t537\t.\tAN=2;AC=0;AC_Het=4;AC_Hom=0;AC_Hemi=0\tGT:PL:DP\t0/0:0,30,169:10\n",
      "20\t23947451\t.\tT\tG\t32.1879\t.\tAN=2;AC=0;AC_Het=3;AC_Hom=0;AC_Hemi=0\tGT:PL:DP\t0/0:0,30,225:10\n",
      "20\t23947981\t.\tT\tC\t17.4338\t.\tAN=2;AC=0;AC_Het=1;AC_Hom=0;AC_Hemi=0\tGT:PL:DP\t0/0:0,9,81:3\n",
      "20\t23948049\t.\tA\tG\t999\t.\tAN=2;AC=2;AC_Het=1;AC_Hom=96;AC_Hemi=0\tGT:PL:DP\t1/1:187,30,0:10\n",
      "[main_vcfview] Error: cannot write to (null)\n"
     ]
    }
   ],
   "source": [
    "bcftools view -s HG00131 1kg.bcf | head -n 50"
   ]
  },
  {
   "cell_type": "markdown",
   "metadata": {
    "collapsed": true
   },
   "source": [
    "The format option, __`-f`__ can be used to select what gets printed from your query command. For example, the following will print the position, reference base and alternate base for sample HG00131, separated by tabs:"
   ]
  },
  {
   "cell_type": "code",
   "execution_count": null,
   "metadata": {},
   "outputs": [],
   "source": [
    "bcftools query -f'%POS\\t%REF\\t%ALT\\n' -s HG00131 1kg.bcf | head"
   ]
  },
  {
   "cell_type": "markdown",
   "metadata": {},
   "source": [
    "Finally, let's look at the __`-i`__ option. With this option we can select only sites for which a particular expression is true. For instance, if we only want to look at sites that have more than 2 alternate alleles, we can use the following expression (piped to `head` to only show a subset of the output):"
   ]
  },
  {
   "cell_type": "code",
   "execution_count": null,
   "metadata": {},
   "outputs": [],
   "source": [
    "bcftools query -f'%CHROM\\t%POS\\t%REF\\t%ALT\\n' -i 'AC[0]>2' 1kg.bcf | head"
   ]
  },
  {
   "cell_type": "markdown",
   "metadata": {},
   "source": [
    "We use __`-i`__ with the expression `AC[0]>2`. AC is an info field that holds the __a__llele __c__ount. Some fields can hold multiple values, so we use `AC[0]>2` to indicate that we are looking for the first value (this is zero indexed, and hence starts at 0 instead of 1), and that this value should be > 2. To format our output, we use __`-f`__ to specify that we want to print the chromosome name and position.\n",
    "\n",
    "There is more information about expressions on the bcftools manual page [http://samtools.github.io/bcftools/bcftools.html#expressions](http://samtools.github.io/bcftools/bcftools.html#expressions)"
   ]
  },
  {
   "cell_type": "markdown",
   "metadata": {},
   "source": [
    "### Exercises\n",
    "Now, try and answer the following questions about the file 1kg.bcf in the data directory. For more information about the different usage options you can open the bcftools query manual page [http://samtools.github.io/bcftools/bcftools.html#query](http://samtools.github.io/bcftools/bcftools.html#query) in a web browser."
   ]
  },
  {
   "cell_type": "markdown",
   "metadata": {},
   "source": [
    "__Q19: What version of the human assembly do the coordinates refer to?__ "
   ]
  },
  {
   "cell_type": "code",
   "execution_count": null,
   "metadata": {},
   "outputs": [],
   "source": []
  },
  {
   "cell_type": "markdown",
   "metadata": {},
   "source": [
    "__Q20: How many samples are there in the BCF?__"
   ]
  },
  {
   "cell_type": "code",
   "execution_count": null,
   "metadata": {},
   "outputs": [],
   "source": []
  },
  {
   "cell_type": "markdown",
   "metadata": {},
   "source": [
    "__Q21: What is the genotype of the sample HG00107 at the position 20:24019472? (Hint: use the combination of -r, -s, and -f options)__"
   ]
  },
  {
   "cell_type": "code",
   "execution_count": null,
   "metadata": {},
   "outputs": [],
   "source": []
  },
  {
   "cell_type": "markdown",
   "metadata": {},
   "source": [
    "__Q22: How many positions are there with more than 10 alternate alleles? (Hint: use the -i filtering option)__"
   ]
  },
  {
   "cell_type": "code",
   "execution_count": null,
   "metadata": {
    "scrolled": true
   },
   "outputs": [],
   "source": []
  },
  {
   "cell_type": "markdown",
   "metadata": {},
   "source": [
    "__Q23: In how many positions does HG00107 have a non-reference genotype and a read depth bigger than 10? (Hint: you can use pipes to combine bcftools queries)__   "
   ]
  },
  {
   "cell_type": "code",
   "execution_count": null,
   "metadata": {},
   "outputs": [],
   "source": [
    "bcftools view -s HG00107 -H -i 'DP>10' 1kg.bcf | bcftools view -s HG00107 -H -i 'AC[0]>0' 1kg.bcf"
   ]
  },
  {
   "cell_type": "markdown",
   "metadata": {},
   "source": [
    "# QC assessment of NGS data\n",
    "QC is an important part of any analysis. In this section we are going to look at some of the metrics and graphs that can be used to assess the QC of NGS data. \n",
    "\n",
    "\n",
    "## Base quality\n",
    "[Illumina sequencing](https://en.wikipedia.org/wiki/Illumina_dye_sequencing) technology relies on sequencing by synthesis. One of the most common problems with this is __dephasing__. For each sequencing cycle, there is a possibility that the replication machinery slips and either incorporates more than one nucleotide or perhaps misses to incorporate one at all. The more cycles that are run (i.e. the longer the read length gets), the greater the accumulation of these types of errors gets. This leads to a heterogeneous population in the cluster, and a decreased signal purity, which in turn reduces the precision of the base calling. The figure below shows an example of this."
   ]
  },
  {
   "cell_type": "markdown",
   "metadata": {},
   "source": [
    "Because of dephasing, it is possible to have high-quality data at the beginning of the read but really low-quality data towards the end of the read. In those cases you can decide to trim off the low-quality reads, for example using a tool called [Trimmomatic](http://www.usadellab.org/cms/?page=trimmomatic).\n",
    "\n",
    "\n"
   ]
  },
  {
   "cell_type": "markdown",
   "metadata": {},
   "source": [
    "## Quality control of fastq files"
   ]
  },
  {
   "cell_type": "markdown",
   "metadata": {},
   "source": [
    "Download the required dataset."
   ]
  },
  {
   "cell_type": "code",
   "execution_count": null,
   "metadata": {},
   "outputs": [],
   "source": [
    "wget https://github.com/cb2edu/CB2-101-BioComp/raw/2020/07-NGS_Intro_QC/data/rnaseq_data.tar.gz"
   ]
  },
  {
   "cell_type": "markdown",
   "metadata": {},
   "source": [
    "Unzip the tarball"
   ]
  },
  {
   "cell_type": "code",
   "execution_count": null,
   "metadata": {},
   "outputs": [],
   "source": [
    "tar -xvzf rnaseq_data.tar.gz"
   ]
  },
  {
   "cell_type": "markdown",
   "metadata": {},
   "source": [
    "FASTQC is software that is used to calculate the quality of the fastq data."
   ]
  },
  {
   "cell_type": "code",
   "execution_count": null,
   "metadata": {},
   "outputs": [],
   "source": [
    "wget https://www.bioinformatics.babraham.ac.uk/projects/fastqc/fastqc_v0.11.9.zip\n",
    "unzip fastqc_v0.11.9.zip"
   ]
  },
  {
   "cell_type": "markdown",
   "metadata": {},
   "source": [
    "Check the help of fastqc."
   ]
  },
  {
   "cell_type": "code",
   "execution_count": null,
   "metadata": {},
   "outputs": [],
   "source": [
    "FastQC/fastqc -h"
   ]
  },
  {
   "cell_type": "code",
   "execution_count": null,
   "metadata": {},
   "outputs": [],
   "source": [
    "mkdir -p rnaseq_quality\n",
    "FastQC/fastqc -o rnaseq_quality -f fastq rnaseq_data/adrenal_R1.fq"
   ]
  },
  {
   "cell_type": "markdown",
   "metadata": {},
   "source": [
    "  Open the analysis file."
   ]
  },
  {
   "cell_type": "code",
   "execution_count": null,
   "metadata": {},
   "outputs": [],
   "source": [
    "firefox rnaseq_quality/adrenal_R1_fastqc.html"
   ]
  },
  {
   "cell_type": "markdown",
   "metadata": {},
   "source": [
    "A good example:\n",
    "http://www.bioinformatics.babraham.ac.uk/projects/fastqc/bad_sequence_fastqc.html\n",
    "\n",
    "A bad example:\n",
    "http://www.bioinformatics.babraham.ac.uk/projects/fastqc/bad_sequence_fastqc.html\n",
    "\n",
    "## Read trimming\n",
    "We will use Trimmomatic for read trimming and adapter removal. Download Trimmomatic from: http://www.usadellab.org/cms/?page=trimmomatic\n",
    "Generally, Illumina adapters are of two types: Nextera for WGS and exome sequencing and Truseq from RNAseq. We need to keep that in mind and provide the for trimming.\n",
    "\n",
    "We used TruSeq3-PE adapters for clipping. Some other options are:\n",
    "1. Adapters will have max 2 mismatches and will be clipped if a score of 30 is reached. 2. Remove leading and trailing N bases if quality is below 2.\n",
    "3. Move with a 4 bp window and cutting where the average quality falls below 15.\n",
    "4. After trmming remove all sequences whose length is below 30."
   ]
  },
  {
   "cell_type": "code",
   "execution_count": null,
   "metadata": {},
   "outputs": [],
   "source": [
    "wget http://www.usadellab.org/cms/uploads/supplementary/Trimmomatic/Trimmomatic-0.39.zip\n",
    "unzip Trimmomatic-0.39.zip"
   ]
  },
  {
   "cell_type": "code",
   "execution_count": null,
   "metadata": {},
   "outputs": [],
   "source": [
    "java -jar Trimmomatic-0.39/trimmomatic-0.39.jar PE \\\n",
    "rnaseq_data/adrenal_R1.fq rnaseq_data/adrenal_R2.fq \\\n",
    "adrenal_R1_trim.fq adrenal_R1_unmapped.fq \\\n",
    "adrenal_R2_trim.fq adrenal_R2_unmapped.fq \\\n",
    "ILLUMINACLIP:Trimmomatic-0.39/adapters/TruSeq3-PE.fa:2:30:10 \\\n",
    "LEADING:3 TRAILING:3 MINLEN:30"
   ]
  },
  {
   "cell_type": "markdown",
   "metadata": {},
   "source": [
    "## Generating QC stats of bam files\n",
    "Now let's try this out! We will generate QC stats for two lanes of Illumina paired-end sequencing data from yeast. The reads have already been aligned to the [Saccromyces cerevisiae reference genome](ftp://ftp.ensembl.org/pub/current_fasta/saccharomyces_cerevisiae/dna) to produce the BAM file lane1.sorted.bam."
   ]
  },
  {
   "cell_type": "markdown",
   "metadata": {},
   "source": [
    "Now we will use __`samtools stats`__ to generate the stats for the primary alignments. The option __`-f`__ can be used to filter reads with specific tags, while __`-F`__ can be used to _filter out_ reads with specific tags. The following command will include only primary alignments:"
   ]
  },
  {
   "cell_type": "code",
   "execution_count": null,
   "metadata": {},
   "outputs": [],
   "source": [
    "samtools stats -F SECONDARY NA20538_sorted.bam \\\n",
    "    > NA20538.sorted.bam.bchk"
   ]
  },
  {
   "cell_type": "markdown",
   "metadata": {},
   "source": [
    "Have a look at the first 47 lines of the statistics file that was generated:"
   ]
  },
  {
   "cell_type": "code",
   "execution_count": null,
   "metadata": {},
   "outputs": [],
   "source": [
    "head -n 47 NA20538.sorted.bam.bchk"
   ]
  },
  {
   "cell_type": "markdown",
   "metadata": {},
   "source": [
    "This file contains a number of useful stats that we can use to get a better picture of our data, and it can even be plotted with __`plot-bamstats`__, as you will see soon. First let's have a closer look at some of the different stats. Each part of the file starts with a `#` followed by a description of the section and how to extract it from the file. Let's have a look at all the sections in the file:"
   ]
  },
  {
   "cell_type": "code",
   "execution_count": null,
   "metadata": {
    "scrolled": false
   },
   "outputs": [],
   "source": [
    "grep ^'#' NA20538.sorted.bam.bchk | grep 'Use'"
   ]
  },
  {
   "cell_type": "markdown",
   "metadata": {},
   "source": [
    "### Summary Numbers (SN)\n",
    "This initial section contains a summary of the alignment and includes some general statistics. In particular, you can see how many bases mapped, and how much of the genome that was covered.\n",
    "\n",
    "### Exercises"
   ]
  },
  {
   "cell_type": "markdown",
   "metadata": {},
   "source": [
    "Now look at the output and try to answer the questions below.\n",
    "\n",
    "__Q2: What is the total number of reads?__"
   ]
  },
  {
   "cell_type": "code",
   "execution_count": null,
   "metadata": {},
   "outputs": [],
   "source": []
  },
  {
   "cell_type": "markdown",
   "metadata": {},
   "source": [
    "__Q3: What proportion of the reads were mapped?__"
   ]
  },
  {
   "cell_type": "code",
   "execution_count": null,
   "metadata": {},
   "outputs": [],
   "source": []
  },
  {
   "cell_type": "markdown",
   "metadata": {},
   "source": [
    "__Q4: How many pairs were mapped to a different chromosome?__"
   ]
  },
  {
   "cell_type": "code",
   "execution_count": null,
   "metadata": {},
   "outputs": [],
   "source": []
  },
  {
   "cell_type": "markdown",
   "metadata": {},
   "source": [
    "__Q5: What is the insert size mean and standard deviation?__"
   ]
  },
  {
   "cell_type": "code",
   "execution_count": null,
   "metadata": {},
   "outputs": [],
   "source": []
  },
  {
   "cell_type": "markdown",
   "metadata": {},
   "source": [
    "__Q6: How many reads were paired properly?__"
   ]
  },
  {
   "cell_type": "code",
   "execution_count": null,
   "metadata": {},
   "outputs": [],
   "source": []
  },
  {
   "cell_type": "markdown",
   "metadata": {},
   "source": [
    "__Q7: How many reads have zero mapping quality?__"
   ]
  },
  {
   "cell_type": "code",
   "execution_count": null,
   "metadata": {},
   "outputs": [],
   "source": []
  },
  {
   "cell_type": "markdown",
   "metadata": {},
   "source": [
    "__Q8: Which reads (forward or reverse) have higher base quality on average?__  "
   ]
  },
  {
   "cell_type": "code",
   "execution_count": null,
   "metadata": {},
   "outputs": [],
   "source": []
  },
  {
   "cell_type": "markdown",
   "metadata": {},
   "source": [
    "### Generating QC plots\n",
    "Finally, we will create some QC plots from the output of the stats command using the command __plot-bamstats__ which is included in the samtools package: "
   ]
  },
  {
   "cell_type": "code",
   "execution_count": null,
   "metadata": {},
   "outputs": [],
   "source": [
    "plot-bamstats -p NA20538-plots/ NA20538.sorted.bam.bchk"
   ]
  },
  {
   "cell_type": "markdown",
   "metadata": {},
   "source": [
    "Now in your web browser open the file NA20538-plots/index.html to view the QC information. "
   ]
  },
  {
   "cell_type": "markdown",
   "metadata": {},
   "source": [
    "__Congratulations__ you have reached the end of the Data formats and QC tutorial! "
   ]
  }
 ],
 "metadata": {
  "kernelspec": {
   "display_name": "Bash",
   "language": "bash",
   "name": "bash"
  },
  "language_info": {
   "codemirror_mode": "shell",
   "file_extension": ".sh",
   "mimetype": "text/x-sh",
   "name": "bash"
  }
 },
 "nbformat": 4,
 "nbformat_minor": 2
}
