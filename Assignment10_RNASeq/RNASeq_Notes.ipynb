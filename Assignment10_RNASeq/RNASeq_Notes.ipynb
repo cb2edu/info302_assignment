{
 "cells": [
  {
   "cell_type": "markdown",
   "metadata": {},
   "source": [
    "### Various applications of RNAseq\n",
    "\n",
    "differential expression\n",
    "\n",
    "novel transcript detection\n",
    "\n",
    "fusion transcript detection \n",
    "\n",
    "mutation detection (not common)\n",
    "\n",
    "\n",
    "RPKM = Count /( (N/10^6) x (lenghth/10^3)) - used in older day \n",
    "\n",
    "FPKM - same but used in modern days with paired end sequencing "
   ]
  }
 ],
 "metadata": {
  "kernelspec": {
   "display_name": "Bash",
   "language": "bash",
   "name": "bash"
  },
  "language_info": {
   "codemirror_mode": "shell",
   "file_extension": ".sh",
   "mimetype": "text/x-sh",
   "name": "bash"
  }
 },
 "nbformat": 4,
 "nbformat_minor": 4
}
