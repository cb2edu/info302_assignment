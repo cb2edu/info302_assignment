{
 "cells": [
  {
   "cell_type": "markdown",
   "metadata": {
    "lines_to_next_cell": 0
   },
   "source": [
    "# Sequence Similarity Search\n",
    "Meghan Moody \n",
    "October 7, 2021"
   ]
  },
  {
   "cell_type": "markdown",
   "metadata": {},
   "source": [
    "## Note\n",
    "\n",
    "NCBI has recently removed the C blast programs from there website. Please download last C BLAST from our own copy to use the example in this handout."
   ]
  },
  {
   "cell_type": "code",
   "execution_count": 1,
   "metadata": {},
   "outputs": [
    {
     "name": "stdout",
     "output_type": "stream",
     "text": [
      "/data/user/home/mmeghan/Desktop/info302_assignment/Assignment4_Seq_Homology_Search\n",
      "--2021-10-11 15:30:35--  http://cmb.path.uab.edu/training/2018/files/blast-2.2.26.tar.gz\n",
      "Resolving cmb.path.uab.edu (cmb.path.uab.edu)... 138.26.58.200\n",
      "Connecting to cmb.path.uab.edu (cmb.path.uab.edu)|138.26.58.200|:80... connected.\n",
      "HTTP request sent, awaiting response... 200 OK\n",
      "Length: 40490310 (39M) [application/x-gzip]\n",
      "Saving to: ‘blast-2.2.26.tar.gz’\n",
      "\n",
      "100%[======================================>] 40,490,310  86.8MB/s   in 0.4s   \n",
      "\n",
      "2021-10-11 15:30:36 (86.8 MB/s) - ‘blast-2.2.26.tar.gz’ saved [40490310/40490310]\n",
      "\n",
      "blast-2.2.26/\n",
      "blast-2.2.26/bin/\n",
      "blast-2.2.26/bin/bl2seq\n",
      "blast-2.2.26/bin/blastall\n",
      "blast-2.2.26/bin/blastclust\n",
      "blast-2.2.26/bin/blastpgp\n",
      "blast-2.2.26/bin/copymat\n",
      "blast-2.2.26/bin/fastacmd\n",
      "blast-2.2.26/bin/formatdb\n",
      "blast-2.2.26/bin/formatrpsdb\n",
      "blast-2.2.26/bin/impala\n",
      "blast-2.2.26/bin/makemat\n",
      "blast-2.2.26/bin/megablast\n",
      "blast-2.2.26/bin/rpsblast\n",
      "blast-2.2.26/bin/seedtop\n",
      "blast-2.2.26/data/\n",
      "blast-2.2.26/data/BLOSUM45\n",
      "blast-2.2.26/data/BLOSUM62\n",
      "blast-2.2.26/data/BLOSUM80\n",
      "blast-2.2.26/data/KSat.flt\n",
      "blast-2.2.26/data/KSchoth.flt\n",
      "blast-2.2.26/data/KSgc.flt\n",
      "blast-2.2.26/data/KShopp.flt\n",
      "blast-2.2.26/data/KSkyte.flt\n",
      "blast-2.2.26/data/KSpcc.mat\n",
      "blast-2.2.26/data/KSpur.flt\n",
      "blast-2.2.26/data/KSpyr.flt\n",
      "blast-2.2.26/data/PAM30\n",
      "blast-2.2.26/data/PAM70\n",
      "blast-2.2.26/data/UniVec.nhr\n",
      "blast-2.2.26/data/UniVec.nin\n",
      "blast-2.2.26/data/UniVec.nsq\n",
      "blast-2.2.26/data/UniVec_Core.nhr\n",
      "blast-2.2.26/data/UniVec_Core.nin\n",
      "blast-2.2.26/data/UniVec_Core.nsq\n",
      "blast-2.2.26/data/asn2ff.prt\n",
      "blast-2.2.26/data/bstdt.val\n",
      "blast-2.2.26/data/ecnum_ambiguous.txt\n",
      "blast-2.2.26/data/ecnum_specific.txt\n",
      "blast-2.2.26/data/featdef.val\n",
      "blast-2.2.26/data/gc.val\n",
      "blast-2.2.26/data/humrep.fsa\n",
      "blast-2.2.26/data/lineages.txt\n",
      "blast-2.2.26/data/makerpt.prt\n",
      "blast-2.2.26/data/objprt.prt\n",
      "blast-2.2.26/data/organelle_products.prt\n",
      "blast-2.2.26/data/product_rules.prt\n",
      "blast-2.2.26/data/pubkey.enc\n",
      "blast-2.2.26/data/seqcode.val\n",
      "blast-2.2.26/data/sequin.hlp\n",
      "blast-2.2.26/data/sgmlbb.ent\n",
      "blast-2.2.26/data/taxlist.txt\n",
      "blast-2.2.26/doc/\n",
      "blast-2.2.26/doc/bl2seq.html\n",
      "blast-2.2.26/doc/blast.html\n",
      "blast-2.2.26/doc/blastall.html\n",
      "blast-2.2.26/doc/blastclust.html\n",
      "blast-2.2.26/doc/blastdb.html\n",
      "blast-2.2.26/doc/blastftp.html\n",
      "blast-2.2.26/doc/blastpgp.html\n",
      "blast-2.2.26/doc/fastacmd.html\n",
      "blast-2.2.26/doc/filter.html\n",
      "blast-2.2.26/doc/formatdb.html\n",
      "blast-2.2.26/doc/formatrpsdb.html\n",
      "blast-2.2.26/doc/history.html\n",
      "blast-2.2.26/doc/impala.html\n",
      "blast-2.2.26/doc/index.html\n",
      "blast-2.2.26/doc/megablast.html\n",
      "blast-2.2.26/doc/netblast.html\n",
      "blast-2.2.26/doc/rpsblast.html\n",
      "blast-2.2.26/doc/scoring.pdf\n",
      "blast-2.2.26/doc/web_blast.pl\n",
      "blast-2.2.26/VERSION\n"
     ]
    }
   ],
   "source": [
    "pwd\n",
    "wget \"http://cmb.path.uab.edu/training/2018/files/blast-2.2.26.tar.gz\"\n",
    "tar -xvzf blast-2.2.26.tar.gz"
   ]
  },
  {
   "cell_type": "markdown",
   "metadata": {},
   "source": [
    "Put blast in path."
   ]
  },
  {
   "cell_type": "code",
   "execution_count": 16,
   "metadata": {},
   "outputs": [
    {
     "name": "stdout",
     "output_type": "stream",
     "text": [
      "/data\n"
     ]
    }
   ],
   "source": [
    "pwd"
   ]
  },
  {
   "cell_type": "code",
   "execution_count": 10,
   "metadata": {},
   "outputs": [],
   "source": [
    "export PATH=$PATH:'pwd'"
   ]
  },
  {
   "cell_type": "markdown",
   "metadata": {},
   "source": [
    "Check that `blast` is in your path."
   ]
  },
  {
   "cell_type": "code",
   "execution_count": 13,
   "metadata": {},
   "outputs": [
    {
     "name": "stdout",
     "output_type": "stream",
     "text": [
      "/data/user/home/mmeghan/Desktop/info302_assignment/Assignment4_Seq_Homology_Search/blast-2.2.26/bin/blastall\n"
     ]
    }
   ],
   "source": [
    "which blastall\n"
   ]
  },
  {
   "cell_type": "code",
   "execution_count": 20,
   "metadata": {},
   "outputs": [
    {
     "name": "stdout",
     "output_type": "stream",
     "text": [
      "/data/user/home/mmeghan/Desktop/info302_assignment/Assignment4_Seq_Homology_Search/blast-2.2.26/bin\n"
     ]
    }
   ],
   "source": [
    "cd /data/user/home/mmeghan/Desktop/info302_assignment/Assignment4_Seq_Homology_Search/blast-2.2.26/bin/\n",
    "pwd\n",
    "cd ../.."
   ]
  },
  {
   "cell_type": "markdown",
   "metadata": {},
   "source": [
    "Check that you are in outside of blast directory."
   ]
  },
  {
   "cell_type": "code",
   "execution_count": 21,
   "metadata": {},
   "outputs": [
    {
     "name": "stdout",
     "output_type": "stream",
     "text": [
      "/data/user/home/mmeghan/Desktop/info302_assignment/Assignment4_Seq_Homology_Search\n"
     ]
    }
   ],
   "source": [
    "pwd"
   ]
  },
  {
   "cell_type": "markdown",
   "metadata": {},
   "source": [
    "# Simple BLAST\n",
    "\n",
    "BLAST p53 human sequence against SwissProt database.\n",
    "\n",
    "## Download sequence files\n",
    "\n",
    "Download SwissProt FASTA file file:"
   ]
  },
  {
   "cell_type": "code",
   "execution_count": 23,
   "metadata": {
    "engine": "bash",
    "eval": false,
    "scrolled": true
   },
   "outputs": [
    {
     "name": "stdout",
     "output_type": "stream",
     "text": [
      "--2021-10-11 15:41:45--  ftp://ftp.uniprot.org/pub/databases/uniprot/knowledgebase/complete/uniprot_sprot.fasta.gz\n",
      "           => ‘uniprot_sprot.fasta.gz’\n",
      "Resolving ftp.uniprot.org (ftp.uniprot.org)... 128.175.240.195\n",
      "Connecting to ftp.uniprot.org (ftp.uniprot.org)|128.175.240.195|:21... connected.\n",
      "Logging in as anonymous ... Logged in!\n",
      "==> SYST ... done.    ==> PWD ... done.\n",
      "==> TYPE I ... done.  ==> CWD (1) /pub/databases/uniprot/knowledgebase/complete ... done.\n",
      "==> SIZE uniprot_sprot.fasta.gz ... 90275536\n",
      "==> PASV ... done.    ==> RETR uniprot_sprot.fasta.gz ... done.\n",
      "Length: 90275536 (86M) (unauthoritative)\n",
      "\n",
      "100%[======================================>] 90,275,536  13.6MB/s   in 9.4s   \n",
      "\n",
      "2021-10-11 15:41:57 (9.15 MB/s) - ‘uniprot_sprot.fasta.gz’ saved [90275536]\n",
      "\n"
     ]
    }
   ],
   "source": [
    "wget ftp://ftp.uniprot.org/pub/databases/uniprot/knowledgebase/complete/uniprot_sprot.fasta.gz"
   ]
  },
  {
   "cell_type": "markdown",
   "metadata": {},
   "source": [
    "Find the id of P53 using the Uniprot API."
   ]
  },
  {
   "cell_type": "code",
   "execution_count": 25,
   "metadata": {
    "engine": "bash",
    "eval": false,
    "lines_to_next_cell": 0
   },
   "outputs": [],
   "source": [
    "wget -q -O p53.fas http://www.uniprot.org/uniprot/P53_HUMAN.fasta"
   ]
  },
  {
   "cell_type": "markdown",
   "metadata": {},
   "source": [
    "\n",
    "## Create the BLAST datbase and run BLASTP"
   ]
  },
  {
   "cell_type": "markdown",
   "metadata": {},
   "source": [
    "Check the `formatdb` command help. "
   ]
  },
  {
   "cell_type": "code",
   "execution_count": 26,
   "metadata": {},
   "outputs": [
    {
     "name": "stdout",
     "output_type": "stream",
     "text": [
      "\n",
      "formatdb 2.2.26   arguments:\n",
      "\n",
      "  -t  Title for database file [String]  Optional\n",
      "  -i  Input file(s) for formatting [File In]  Optional\n",
      "  -l  Logfile name: [File Out]  Optional\n",
      "    default = formatdb.log\n",
      "  -p  Type of file\n",
      "         T - protein   \n",
      "         F - nucleotide [T/F]  Optional\n",
      "    default = T\n",
      "  -o  Parse options\n",
      "         T - True: Parse SeqId and create indexes.\n",
      "         F - False: Do not parse SeqId. Do not create indexes.\n",
      " [T/F]  Optional\n",
      "    default = F\n",
      "  -a  Input file is database in ASN.1 format (otherwise FASTA is expected)\n",
      "         T - True, \n",
      "         F - False.\n",
      " [T/F]  Optional\n",
      "    default = F\n",
      "  -b  ASN.1 database in binary mode\n",
      "         T - binary, \n",
      "         F - text mode.\n",
      " [T/F]  Optional\n",
      "    default = F\n",
      "  -e  Input is a Seq-entry [T/F]  Optional\n",
      "    default = F\n",
      "  -n  Base name for BLAST files [String]  Optional\n",
      "  -v  Database volume size in millions of letters [Integer]  Optional\n",
      "    default = 4000\n",
      "  -s  Create indexes limited only to accessions - sparse [T/F]  Optional\n",
      "    default = F\n",
      "  -V  Verbose: check for non-unique string ids in the database [T/F]  Optional\n",
      "    default = F\n",
      "  -L  Create an alias file with this name\n",
      "        use the gifile arg (below) if set to calculate db size\n",
      "        use the BLAST db specified with -i (above) [File Out]  Optional\n",
      "  -F  Gifile (file containing list of gi's) [File In]  Optional\n",
      "  -B  Binary Gifile produced from the Gifile specified above [File Out]  Optional\n",
      "  -T  Taxid file to set the taxonomy ids in ASN.1 deflines [File In]  Optional\n",
      "\n"
     ]
    },
    {
     "ename": "",
     "evalue": "1",
     "output_type": "error",
     "traceback": []
    }
   ],
   "source": [
    "formatdb -"
   ]
  },
  {
   "cell_type": "code",
   "execution_count": 28,
   "metadata": {
    "engine": "bash",
    "eval": false
   },
   "outputs": [],
   "source": [
    "zcat uniprot_sprot.fasta.gz | formatdb -i stdin -t \"swissprot\" -o T -n \"swissprot\""
   ]
  },
  {
   "cell_type": "markdown",
   "metadata": {},
   "source": [
    "Note how we used the compressed file in a pipe to create the blast database. Now we will run the actual blast to search the p53 gene in Swissprot database."
   ]
  },
  {
   "cell_type": "code",
   "execution_count": 29,
   "metadata": {},
   "outputs": [],
   "source": [
    "blastall -p blastp -i p53.fas -d swissprot -o output.bla"
   ]
  },
  {
   "cell_type": "markdown",
   "metadata": {},
   "source": [
    "To get a different output format."
   ]
  },
  {
   "cell_type": "code",
   "execution_count": 30,
   "metadata": {},
   "outputs": [],
   "source": [
    "blastall -p blastp -i p53.fas -d swissprot -o output_tabular.bla -m 9"
   ]
  },
  {
   "cell_type": "markdown",
   "metadata": {},
   "source": [
    "### Output of Swiss Prot tablular.bla\n",
    "\n",
    "BLASTP 2.2.26 [Sep-21-2011]\n",
    "\n",
    "Query: sp|P04637|P53_HUMAN Cellular tumor antigen p53 OS=Homo sapiens OX=9606 GN=TP53 PE=1 SV=4\n",
    "\n",
    "Database: swissprot\n",
    "\n",
    "Fields: Query id, Subject id, % identity, alignment length, mismatches, gap openings, q. start, q. end, s. start, s. end, e-value, bit score\n",
    "\n",
    "sp|P04637|P53_HUMAN\tsp|P04637|P53_HUMAN\t100.00\t393\t0\t0\t1\t393\t1\t393\t0.0\t 751\n",
    "\n",
    "sp|P04637|P53_HUMAN\tsp|P13481|P53_CHLAE\t95.67\t393\t17\t0\t1\t393\t1\t393\t0.0\t 727\n",
    "\n",
    "sp|P04637|P53_HUMAN\tsp|P56424|P53_MACMU\t95.67\t393\t17\t0\t1\t393\t1\t393\t0.0\t 725\n",
    "\n",
    "sp|P04637|P53_HUMAN\tsp|P61260|P53_MACFU\t95.67\t393\t17\t0\t1\t393\t1\t393\t0.0\t 725\n",
    "\n",
    "sp|P04637|P53_HUMAN\tsp|P56423|P53_MACFA\t95.67\t393\t17\t0\t1\t393\t1\t393\t0.0\t 725\n",
    "\n",
    "sp|P04637|P53_HUMAN\tsp|Q9TTA1|P53_TUPBE\t93.13\t393\t27\t0\t1\t393\t1\t393\t0.0\t 694\n",
    "\n",
    "sp|P04637|P53_HUMAN\tsp|O36006|P53_MARMO\t86.01\t393\t53\t1\t1\t393\t1\t391\t0.0\t 656\n",
    "\n",
    "sp|P04637|P53_HUMAN\tsp|Q95330|P53_RABIT\t86.04\t394\t51\t3\t1\t393\t1\t391\t0.0\t 644\n",
    "\n",
    "sp|P04637|P53_HUMAN\tsp|Q8SPZ3|P53_DELLE\t84.26\t394\t54\t3\t1\t393\t1\t387\t0.0\t 630\n",
    "\n",
    "sp|P04637|P53_HUMAN\tsp|Q9TUB2|P53_PIG\t81.01\t395\t64\t4\t1\t393\t1\t386\t0.0\t 605\n",
    "\n",
    "sp|P04637|P53_HUMAN\tsp|Q9WUR6|P53_CAVPO\t78.12\t393\t84\t1\t1\t393\t1\t391\t0.0\t 596\n",
    "\n",
    "sp|P04637|P53_HUMAN\tsp|Q00366|P53_MESAU\t77.89\t398\t81\t4\t1\t393\t1\t396\t0.0\t 595\n",
    "\n",
    "sp|P04637|P53_HUMAN\tsp|O09185|P53_CRIGR\t77.16\t394\t88\t2\t1\t393\t1\t393\t0.0\t 594\n",
    "\n",
    "sp|P04637|P53_HUMAN\tsp|P51664|P53_SHEEP\t77.66\t394\t75\t2\t1\t393\t1\t382\t0.0\t 581\n",
    "\n",
    "sp|P04637|P53_HUMAN\tsp|P41685|P53_FELCA\t79.70\t394\t71\t4\t1\t393\t1\t386\t0.0\t 580\n",
    "\n",
    "sp|P04637|P53_HUMAN\tsp|P67939|P53_BOVIN\t78.93\t394\t74\t3\t1\t393\t1\t386\t0.0\t 580\n",
    "\n",
    "sp|P04637|P53_HUMAN\tsp|P67938|P53_BOSIN\t78.93\t394\t74\t3\t1\t393\t1\t386\t0.0\t 580\n",
    "\n",
    "sp|P04637|P53_HUMAN\tsp|P10361|P53_RAT\t75.51\t396\t89\t4\t1\t393\t1\t391\t0.0\t 577\n",
    "\n",
    "sp|P04637|P53_HUMAN\tsp|P02340|P53_MOUSE\t77.35\t393\t83\t4\t1\t393\t4\t390\t0.0\t 574\n",
    "\n",
    "sp|P04637|P53_HUMAN\tsp|Q29537|P53_CANLF\t79.19\t394\t68\t3\t1\t393\t1\t381\t0.0\t 570\n",
    "\n",
    "sp|P04637|P53_HUMAN\tsp|Q64662|P53_OTOBE\t86.03\t315\t42\t1\t21\t335\t1\t313\t0.0\t 511\n",
    "\n",
    "sp|P04637|P53_HUMAN\tsp|P79892|P53_HORSE\t81.85\t292\t39\t4\t39\t329\t2\t280\t8e-153\t 435\n",
    "\n",
    "sp|P04637|P53_HUMAN\tsp|Q29480|P53_EQUAS\t87.44\t207\t25\t1\t126\t331\t1\t207\t1e-124\t 360\n",
    "\n",
    "sp|P04637|P53_HUMAN\tsp|P10360|P53_CHICK\t60.14\t296\t105\t5\t94\t386\t79\t364\t1e-117\t 349\n",
    "\n",
    "sp|P04637|P53_HUMAN\tsp|P25035|P53_ONCMY\t49.01\t404\t173\t8\t9\t393\t7\t396\t4e-117\t 349\n",
    "\n",
    "sp|P04637|P53_HUMAN\tsp|Q9W678|P53_BARBU\t58.60\t314\t118\t6\t92\t393\t56\t369\t6e-117\t 347\n",
    "\n",
    "sp|P04637|P53_HUMAN\tsp|P07193|P53_XENLA\t50.75\t400\t150\t9\t3\t393\t2\t363\t2e-115\t 343\n",
    "\n",
    "sp|P04637|P53_HUMAN\tsp|P79734|P53_DANRE\t57.28\t316\t123\t5\t90\t393\t58\t373\t4e-115\t 343\n",
    "\n",
    "sp|P04637|P53_HUMAN\tsp|O93379|P53_ICTPU\t56.00\t300\t122\t5\t103\t393\t78\t376\t2e-104\t 316\n",
    "\n",
    "sp|P04637|P53_HUMAN\tsp|O57538|P53_XIPHE\t45.48\t376\t152\t7\t13\t378\t9\t341\t3e-93\t 286\n",
    "\n",
    "sp|P04637|P53_HUMAN\tsp|Q92143|P53_XIPMA\t45.74\t376\t151\t7\t13\t378\t9\t341\t5e-93\t 285\n",
    "\n",
    "sp|P04637|P53_HUMAN\tsp|Q9W679|P53_TETMU\t51.15\t262\t117\t3\t94\t350\t78\t333\t1e-85\t 267\n",
    "\n",
    "sp|P04637|P53_HUMAN\tsp|Q9XSK8|P73_CHLAE\t50.94\t265\t121\t4\t97\t352\t115\t379\t3e-84\t 271\n",
    "\n",
    "sp|P04637|P53_HUMAN\tsp|O15350|P73_HUMAN\t50.94\t265\t121\t3\t97\t352\t115\t379\t4e-84\t 271\n",
    "\n",
    "sp|P04637|P53_HUMAN\tsp|Q9JJP2|P73_MOUSE\t49.81\t265\t124\t3\t97\t352\t107\t371\t2e-83\t 270\n",
    "\n",
    "sp|P04637|P53_HUMAN\tsp|Q9H3D4|P63_HUMAN\t50.00\t262\t126\t2\t94\t350\t162\t423\t7e-83\t 269\n",
    "\n",
    "sp|P04637|P53_HUMAN\tsp|O88898|P63_MOUSE\t50.00\t262\t126\t2\t94\t350\t162\t423\t8e-83\t 269\n",
    "\n",
    "sp|P04637|P53_HUMAN\tsp|Q9JJP6|P63_RAT\t50.00\t262\t126\t2\t94\t350\t162\t423\t9e-83\t 269\n",
    "\n",
    "sp|P04637|P53_HUMAN\tsp|O12946|P53_PLAFE\t49.63\t268\t117\t4\t92\t349\t70\t329\t9e-80\t 252\n",
    "\n",
    "sp|P04637|P53_HUMAN\tsp|P79820|P53_ORYLA\t48.53\t272\t129\t4\t103\t371\t88\t351\t1e-79\t 252\n",
    "\n",
    "sp|P04637|P53_HUMAN\tsp|O08575|EYA2_MOUSE\t33.33\t60\t38\t1\t144\t201\t42\t101\t5.5\t33.1"
   ]
  },
  {
   "cell_type": "markdown",
   "metadata": {},
   "source": [
    "## Is P53 is present in yeast genome?\n",
    "\n",
    "In this excerise you will download yeast genome and search the same p53 fasta agains yeast genome. The idea is to see whether p53 is present in yeast genome.\n"
   ]
  },
  {
   "cell_type": "markdown",
   "metadata": {},
   "source": [
    "\n",
    "First let's create the SC proteome file."
   ]
  },
  {
   "cell_type": "code",
   "execution_count": 31,
   "metadata": {
    "cache": true,
    "engine": "bash",
    "eval": false,
    "lines_to_next_cell": 2
   },
   "outputs": [],
   "source": [
    "# Download all the files of SC from NCBI\n",
    "wget --quiet -O sc.faa.gz ftp://ftp.ncbi.nih.gov/genomes/refseq/fungi/Saccharomyces_cerevisiae/reference/GCF_000146045.2_R64/GCF_000146045.2_R64_protein.faa.gz\n"
   ]
  },
  {
   "cell_type": "markdown",
   "metadata": {},
   "source": [
    "Now format the database as shown above and run the p53.fas file against this database. What is your observation?\n"
   ]
  },
  {
   "cell_type": "code",
   "execution_count": 32,
   "metadata": {
    "cache": true,
    "engine": "bash",
    "eval": false,
    "lines_to_next_cell": 0
   },
   "outputs": [],
   "source": [
    "zcat sc.faa.gz | formatdb -i stdin -t \"SCprot\" -o T -n \"SCprot\""
   ]
  },
  {
   "cell_type": "code",
   "execution_count": 34,
   "metadata": {},
   "outputs": [],
   "source": [
    "blastall -p blastp -i p53.fas -d SCprot -o SCoutput_tablular.bla -m 9"
   ]
  },
  {
   "cell_type": "markdown",
   "metadata": {},
   "source": [
    "### Output of SCoutput_tabular.bla\n",
    "\n",
    "BLASTP 2.2.26 [Sep-21-2011]\n",
    "\n",
    "Query: sp|P04637|P53_HUMAN Cellular tumor antigen p53 OS=Homo sapiens OX=9606 GN=TP53 PE=1 SV=4\n",
    "\n",
    "Database: SCprot\n",
    "\n",
    "Fields: Query id, Subject id, % identity, alignment length, mismatches, gap openings, q. start, q. end, s. start, s. end, e-value, bit score\n",
    "\n",
    "sp|P04637|P53_HUMAN\tNP_009722.3\t30.91\t55\t31\t3\t197\t251\t491\t538\t3.3\t27.7"
   ]
  },
  {
   "cell_type": "markdown",
   "metadata": {},
   "source": [
    "\n"
   ]
  },
  {
   "cell_type": "markdown",
   "metadata": {
    "lines_to_next_cell": 0
   },
   "source": [
    "\n",
    "\n",
    "## HMMER\n",
    "\n",
    "```HMMER``` is the only known software for HMM use in bioinformatics. You can download HMMER from \n",
    "\n",
    "http://hmmer.janelia.org/software\n",
    "\n",
    "There are quite a few software that are bundled with HMMER distribution. But the 4 most common ones are:\n",
    "\n",
    "1. ```hmmsearch``` - Searches HMMs against protein sequences\n",
    "2. ```hmmscan``` - Searches protein sequences against HMM library\n",
    "3. ```hmmbuild``` - Builds HMM from a multiple alignment\n",
    "4. ```hmmpress``` - Convert a flat file HMM to binary format that can be used with the software\n",
    "\n",
    "\n",
    "We will search the SwissProt data with a profile of P53 gene.  \n",
    "\n",
    "We will first get a bunch of orthologs of P53 from the Homologene database.\n",
    "\n"
   ]
  },
  {
   "cell_type": "code",
   "execution_count": 36,
   "metadata": {},
   "outputs": [
    {
     "name": "stdout",
     "output_type": "stream",
     "text": [
      "/data/user/home/mmeghan/Desktop/info302_assignment/Assignment4_Seq_Homology_Search\n"
     ]
    }
   ],
   "source": [
    "pwd\n",
    "wget --quiet ftp://ftp.ncbi.nih.gov/pub/HomoloGene/current/homologene.data"
   ]
  },
  {
   "cell_type": "markdown",
   "metadata": {},
   "source": [
    "Now we will grep the file to find p53."
   ]
  },
  {
   "cell_type": "code",
   "execution_count": 37,
   "metadata": {
    "engine": "bash",
    "lines_to_next_cell": 0
   },
   "outputs": [
    {
     "name": "stdout",
     "output_type": "stream",
     "text": [
      "460\t9606\t7157\tTP53\t120407068\tNP_000537.3\n",
      "460\t9598\t455214\tTP53\t332847216\tXP_001172077.2\n",
      "460\t9544\t716170\tTP53\t114051852\tNP_001040616.1\n",
      "460\t9615\t403869\tTP53\t50978974\tNP_001003210.1\n",
      "460\t9913\t281542\tTP53\t28849929\tNP_776626.1\n",
      "460\t10116\t24842\tTp53\t189083686\tNP_112251.2\n",
      "460\t7955\t30590\ttp53\t425876787\tNP_001258749.1\n",
      "460\t8364\t431679\ttp53\t50054422\tNP_001001903.1\n",
      "3959\t9606\t7159\tTP53BP2\t112799849\tNP_001026855.2\n",
      "3959\t9598\t457766\tTP53BP2\t332812020\tXP_003308815.1\n"
     ]
    }
   ],
   "source": [
    "cat homologene.data | grep -i tp53 | head -n 10"
   ]
  },
  {
   "cell_type": "markdown",
   "metadata": {
    "lines_to_next_cell": 0
   },
   "source": [
    "Looks like cluster 460 contains T53. We will use a bit of shell script to get the accession."
   ]
  },
  {
   "cell_type": "code",
   "execution_count": 38,
   "metadata": {
    "engine": "bash",
    "eval": false,
    "lines_to_next_cell": 0
   },
   "outputs": [
    {
     "name": "stdout",
     "output_type": "stream",
     "text": [
      "NP_000537.3\n",
      "XP_001172077.2\n",
      "NP_001040616.1\n",
      "NP_001003210.1\n",
      "NP_776626.1\n",
      "NP_112251.2\n",
      "NP_001258749.1\n",
      "NP_001001903.1\n"
     ]
    }
   ],
   "source": [
    "cat homologene.data | grep \"^460\" | grep -w -i TP53 | cut -f 6 >p53_homologene_ids.txt\n",
    "cat p53_homologene_ids.txt"
   ]
  },
  {
   "cell_type": "markdown",
   "metadata": {},
   "source": [
    "We will now use NCBI eutils to extract those sesquence. Let's create a fasta file with this ids:"
   ]
  },
  {
   "cell_type": "code",
   "execution_count": 39,
   "metadata": {
    "engine": "bash",
    "eval": false,
    "lines_to_next_cell": 0
   },
   "outputs": [],
   "source": [
    "for i in `cat p53_homologene_ids.txt`\n",
    "do \n",
    "wget -q -O - \"http://eutils.ncbi.nlm.nih.gov/entrez/eutils/efetch.fcgi?\\\n",
    "db=protein&id=$i&rettype=fasta&retmode=text\"\n",
    "done >p53_all.fas"
   ]
  },
  {
   "cell_type": "markdown",
   "metadata": {},
   "source": [
    "We will first use ```muscle``` to align those sequence and create the HMM, then search SC genome with it. First and put muscle in path."
   ]
  },
  {
   "cell_type": "code",
   "execution_count": 40,
   "metadata": {},
   "outputs": [
    {
     "name": "stdout",
     "output_type": "stream",
     "text": [
      "--2021-10-11 16:23:39--  https://www.drive5.com/muscle/downloads3.8.31/muscle3.8.31_i86linux64.tar.gz\n",
      "Resolving www.drive5.com (www.drive5.com)... 199.195.116.69\n",
      "Connecting to www.drive5.com (www.drive5.com)|199.195.116.69|:443... connected.\n",
      "HTTP request sent, awaiting response... 200 OK\n",
      "Length: 487906 (476K) [application/x-gzip]\n",
      "Saving to: ‘muscle3.8.31_i86linux64.tar.gz’\n",
      "\n",
      "100%[======================================>] 487,906     --.-K/s   in 0.1s    \n",
      "\n",
      "2021-10-11 16:23:39 (3.57 MB/s) - ‘muscle3.8.31_i86linux64.tar.gz’ saved [487906/487906]\n",
      "\n",
      "muscle3.8.31_i86linux64\n",
      "/usr/bin/which: no muscle in (/cm/shared/apps/slurm/18.08.9/sbin:/cm/shared/apps/slurm/18.08.9/bin:/cm/local/apps/gcc/8.2.0/bin:/share/apps/rc/software/Anaconda3/2020.11/condabin:/share/apps/rc/software/Anaconda3/2020.11/bin:/share/apps/rc/bin:/usr/lib64/qt-3.3/bin:/usr/local/bin:/bin:/usr/bin:/usr/local/sbin:/usr/sbin:/opt/ibutils/bin:/opt/dell/srvadmin/bin:/home/mmeghan/Desktop/Single_Cell/cellranger-6.1.1:/home/mmeghan/.local/bin:/home/mmeghan/bin:/data/user/home/mmeghan/Desktop/info302_assignment/Assignment4_Seq_Homology_Search/blast-2.2.26/bin:/data/user/home/mmeghan/Desktop/info302_assignment/Assignment4_Seq_Homology_Search/blast-2.2.26/bin:/data/user/home/mmeghan/Desktop/info302_assignment/Assignment4_Seq_Homology_Search/blast-2.2.26/bin:/data/user/home/mmeghan/Desktop/info302_assignment/Assignment4_Seq_Homology_Search/blast-2.2.26/bin:/data/user/home/mmeghan/Desktop/info302_assignment/Assignment4_Seq_Homology_Search/blast-2.2.26/bin:/data/user/home/mmeghan/Desktop/info302_assignment/Assignment4_Seq_Homology_Search/blast-2.2.26/bin:pwd:pwd)\n"
     ]
    },
    {
     "ename": "",
     "evalue": "1",
     "output_type": "error",
     "traceback": []
    }
   ],
   "source": [
    "wget https://www.drive5.com/muscle/downloads3.8.31/muscle3.8.31_i86linux64.tar.gz\n",
    "tar -xvzf muscle3.8.31_i86linux64.tar.gz\n",
    "mv muscle3.8.31_i86linux64 muscle\n",
    "which muscle"
   ]
  },
  {
   "cell_type": "markdown",
   "metadata": {},
   "source": [
    "Download and prepare `hmmer`."
   ]
  },
  {
   "cell_type": "code",
   "execution_count": null,
   "metadata": {},
   "outputs": [],
   "source": [
    "wget http://eddylab.org/software/hmmer/hmmer-3.3.tar.gz\n",
    "tar -xvzf hmmer-3.3.tar.gz"
   ]
  },
  {
   "cell_type": "markdown",
   "metadata": {},
   "source": [
    "Compile `hmmer`."
   ]
  },
  {
   "cell_type": "code",
   "execution_count": null,
   "metadata": {},
   "outputs": [],
   "source": [
    "cd hmmer-3.3\n",
    "./configure\n",
    "make"
   ]
  },
  {
   "cell_type": "markdown",
   "metadata": {},
   "source": [
    "Put `hmmer` in path."
   ]
  },
  {
   "cell_type": "code",
   "execution_count": null,
   "metadata": {},
   "outputs": [],
   "source": [
    "current_dir=`pwd`\n",
    "cd src\n",
    "export PATH=$PATH:`pwd`\n",
    "cd $current_dir\n",
    "cd ..\n",
    "pwd\n",
    "which hmmbuild"
   ]
  },
  {
   "cell_type": "markdown",
   "metadata": {},
   "source": [
    "Run muscle to create the alignment."
   ]
  },
  {
   "cell_type": "code",
   "execution_count": null,
   "metadata": {},
   "outputs": [],
   "source": [
    "./muscle -in p53_all.fas -out p53.aln"
   ]
  },
  {
   "cell_type": "markdown",
   "metadata": {},
   "source": [
    "Create the hmm."
   ]
  },
  {
   "cell_type": "code",
   "execution_count": null,
   "metadata": {},
   "outputs": [],
   "source": [
    "hmmbuild --informat afa p53.hmm p53.aln"
   ]
  },
  {
   "cell_type": "markdown",
   "metadata": {},
   "source": [
    "Search the hmm against swissprot database."
   ]
  },
  {
   "cell_type": "code",
   "execution_count": null,
   "metadata": {
    "engine": "bash",
    "eval": false
   },
   "outputs": [],
   "source": [
    "hmmsearch -o hits.txt p53.hmm uniprot_sprot.fasta.gz"
   ]
  },
  {
   "cell_type": "markdown",
   "metadata": {},
   "source": [
    "Check the result."
   ]
  },
  {
   "cell_type": "code",
   "execution_count": null,
   "metadata": {},
   "outputs": [],
   "source": [
    "cat hits.txt | head"
   ]
  }
 ],
 "metadata": {
  "jupytext": {
   "cell_metadata_filter": "eval,language,cache,engine,-all",
   "main_language": "R",
   "notebook_metadata_filter": "-all"
  },
  "kernelspec": {
   "display_name": "Bash",
   "language": "bash",
   "name": "bash"
  },
  "language_info": {
   "codemirror_mode": "shell",
   "file_extension": ".sh",
   "mimetype": "text/x-sh",
   "name": "bash"
  }
 },
 "nbformat": 4,
 "nbformat_minor": 4
}
