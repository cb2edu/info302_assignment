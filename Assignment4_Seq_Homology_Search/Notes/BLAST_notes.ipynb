{
 "cells": [
  {
   "cell_type": "markdown",
   "metadata": {},
   "source": [
    "# Basic Local Alignment Search Tool(BLAST)\n",
    "\n",
    "\n"
   ]
  },
  {
   "cell_type": "markdown",
   "metadata": {},
   "source": [
    "- Look at seq_search_talk.pdf for more detailed notes with images\n",
    "\n",
    "- blastp: protien\n",
    "\n",
    "- blastn: DNA\n",
    "\n",
    "- searching for a sequence (DNA/amino acid) against a data base \n",
    "\n",
    "- Algorithim uses Dynamic Programming \n",
    "\n",
    "- Multiple High Scoring Pairs can come from one query sequene \n",
    "\n",
    "> E-value: $\\ E\\approx\\ 1-e ^{-p(S \\ge x)D}$ \n",
    "\n",
    "-  x = a score cut off\n",
    "\n",
    "- D = database size\n",
    "\n",
    "- p = P-value"
   ]
  },
  {
   "cell_type": "markdown",
   "metadata": {},
   "source": [
    "## BLOSUM62"
   ]
  },
  {
   "cell_type": "markdown",
   "metadata": {},
   "source": [
    "- A Blocks Substitution Matrix is a substitution scoring matrix in which scores for each position are derived from observations of the frequencies of substitutions in blocks of local alignments in related proteins.\n",
    "\n",
    "- Each matrix is tailored to a particular evolutionary distance. \n",
    "\n",
    "- In the BLOSUM62 matrix, for example, the alignment from which scores were derived was created using sequences sharing no more than 62% identity.\n",
    "\n",
    "- Sequences more identical than 62% are represented by a single sequence in the alignment so as to avoid over-weighting closely related family members.\n",
    "\n",
    "- PQG and PQG score: p-p = 7 q-q=5 g-g=6 : 7+5+6 = 18"
   ]
  },
  {
   "cell_type": "markdown",
   "metadata": {},
   "source": [
    "### Download Blast \n",
    "\n",
    "ftp://ftp.ncbi.nih.gov/blast/executables/release/2.2.25/\n"
   ]
  },
  {
   "cell_type": "markdown",
   "metadata": {},
   "source": [
    "### PSSM\n",
    "- profile can be created by Postiton specific scoring matrix (PSSM) or \n",
    "\n",
    "- A PSSM is based on the frequencies of feach reside in a specific position of a multiple alignment and you end up with a frequency matrix but it can not capture uncertantity so you have to add one \n",
    "\n",
    "- for A in position 1 =  $\\log((0+1)/(5+20))/0.05) = -0.2$ this number is sometimes called LOD score\n",
    "\n",
    "- for a random amino acid qi = $\\frac{1}{20} = 0.05$\n",
    "\n",
    "- rpsblast can be used to search a PSSM, but PSSM has problem in that it can not handle gaps in the sequence and it also does the scoring of the entire alignment, and can not detect partial match \n",
    "\n",
    "- to solve this Markov Model was create used a Markoc Process "
   ]
  },
  {
   "cell_type": "markdown",
   "metadata": {},
   "source": [
    "### Markov Model \n",
    "\n",
    "- Markov chains are memory less: probability of a state depends only on the previous state \n",
    "\n",
    "$\\ x_{1} -> x_{2} -> x_{3} -> x_{4} -> x_{5}$\n",
    "\n",
    "$\\ p(x_{1},x_{2},x_{3}, \\cdots) = p(x_{1})p(x_{2}|x_{1})p(x_{3}|x_{2})\\cdots$\n",
    "\n",
    "- Markov chains are defines as a state diagram \n",
    "\n",
    "- A Markov chain is defined by : a set of finite states, a set of transitional probabilities, and an initial state probability distribution \n",
    "\n",
    "- Markov Chain Parameter estimation: number of sequences that begin with an aminio acid normailized by the total number of training sequences "
   ]
  },
  {
   "cell_type": "markdown",
   "metadata": {},
   "source": [
    "### Hidden Markvo Model \n",
    "\n",
    "- Data mining what portion of protein is doing what \n",
    "\n",
    "- Hidden Markov Model is a statistical Markov model in which the system being modeled is assumed to be a Markov process – call it X – with unobservable states. HMM assumes that there is another process Y whose behavior \"depends\" on X. The goal is to learn about X by observing Y\n",
    "\n",
    "-  When we visit a state, we emit a residue from the state's emission probability distribution. Then, we choose which state to visit next according to the state's transition probability distribution. \n",
    "\n",
    "- The model thus generates two strings of information. One is the underlying state path (the labels), as we transition from state to state. The other is the observed sequence (the DNA), each residue being emitted from one state in the state path.\n",
    "\n",
    "\n",
    "Assumptions of Hidden Markov Model\n",
    "\n",
    "- Output independence assumption: Output observation is conditionally independent of all other hidden states and all other observations when given the current hidden state.\n",
    "\n",
    "- Emission Probability Matrix: Probability of hidden state generating output v_i given that state at the corresponding time was s_j."
   ]
  },
  {
   "cell_type": "markdown",
   "metadata": {},
   "source": []
  },
  {
   "cell_type": "markdown",
   "metadata": {},
   "source": []
  },
  {
   "cell_type": "code",
   "execution_count": null,
   "metadata": {},
   "outputs": [],
   "source": []
  }
 ],
 "metadata": {
  "kernelspec": {
   "display_name": "Bash",
   "language": "bash",
   "name": "bash"
  },
  "language_info": {
   "codemirror_mode": "shell",
   "file_extension": ".sh",
   "mimetype": "text/x-sh",
   "name": "bash"
  }
 },
 "nbformat": 4,
 "nbformat_minor": 4
}
