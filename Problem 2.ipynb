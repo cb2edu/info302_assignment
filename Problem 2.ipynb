{
 "cells": [
  {
   "cell_type": "code",
   "execution_count": 1,
   "metadata": {},
   "outputs": [
    {
     "name": "stdout",
     "output_type": "stream",
     "text": [
      "--2021-11-29 22:29:01--  https://ftp.uniprot.org/pub/databases/uniprot/current_release/knowledgebase/variants/humsavar.txt\n",
      "Resolving ftp.uniprot.org (ftp.uniprot.org)... 128.175.240.195\n",
      "Connecting to ftp.uniprot.org (ftp.uniprot.org)|128.175.240.195|:443... connected.\n",
      "HTTP request sent, awaiting response... 200 OK\n",
      "Length: 7857000 (7.5M) [text/plain]\n",
      "Saving to: ‘humsavar.txt.1’\n",
      "\n",
      "100%[======================================>] 7,857,000   26.3MB/s   in 0.3s   \n",
      "\n",
      "2021-11-29 22:29:01 (26.3 MB/s) - ‘humsavar.txt.1’ saved [7857000/7857000]\n",
      "\n"
     ]
    }
   ],
   "source": [
    "wget https://ftp.uniprot.org/pub/databases/uniprot/current_release/knowledgebase/variants/humsavar.txt"
   ]
  },
  {
   "cell_type": "code",
   "execution_count": 2,
   "metadata": {},
   "outputs": [],
   "source": [
    "import csv\n",
    "\n",
    "txt_file = r\"humsavar.txt\"\n",
    "csv_file = r\"humsavar.csv\"\n",
    "\n",
    "in_txt = csv.reader(open(txt_file, \"r\"), delimiter = '\\t')\n",
    "out_csv = csv.writer(open(csv_file, 'w'))\n",
    "\n",
    "out_csv.writerows(in_txt)"
   ]
  },
  {
   "cell_type": "code",
   "execution_count": 3,
   "metadata": {},
   "outputs": [
    {
     "name": "stdout",
     "output_type": "stream",
     "text": [
      "List of column names:  [{'--------------------------------------------------------------------------------': '        UniProt - Swiss-Prot Protein Knowledgebase'}]\n"
     ]
    }
   ],
   "source": [
    "with open ('humsavar.csv', 'r', newline='', encoding='utf8') as humsavar:\n",
    "    read_humsavar = csv.DictReader(humsavar, delimiter = '\\t')\n",
    "    list_of_column_names = []\n",
    "    for row in read_humsavar: \n",
    "        list_of_column_names.append(row)\n",
    "        break\n",
    "    print(\"List of column names: \", list_of_column_names)"
   ]
  },
  {
   "cell_type": "code",
   "execution_count": null,
   "metadata": {},
   "outputs": [],
   "source": []
  }
 ],
 "metadata": {
  "kernelspec": {
   "display_name": "Python 3",
   "language": "python",
   "name": "python3"
  },
  "language_info": {
   "codemirror_mode": {
    "name": "ipython",
    "version": 3
   },
   "file_extension": ".py",
   "mimetype": "text/x-python",
   "name": "python",
   "nbconvert_exporter": "python",
   "pygments_lexer": "ipython3",
   "version": "3.8.5"
  }
 },
 "nbformat": 4,
 "nbformat_minor": 4
}
